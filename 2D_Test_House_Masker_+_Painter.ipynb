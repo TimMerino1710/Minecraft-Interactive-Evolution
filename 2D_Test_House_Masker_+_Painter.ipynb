{
  "cells": [
    {
      "cell_type": "markdown",
      "metadata": {
        "id": "view-in-github",
        "colab_type": "text"
      },
      "source": [
        "<a href=\"https://colab.research.google.com/github/kershockr/Minecraft-Interactive-Evolution/blob/v.1b/2D_Test_House_Masker_%2B_Painter.ipynb\" target=\"_parent\"><img src=\"https://colab.research.google.com/assets/colab-badge.svg\" alt=\"Open In Colab\"/></a>"
      ]
    },
    {
      "cell_type": "code",
      "execution_count": 1,
      "id": "8320994e",
      "metadata": {
        "id": "8320994e"
      },
      "outputs": [],
      "source": [
        "import tensorflow as tf\n",
        "import numpy as np\n",
        "import matplotlib.pyplot as plt\n",
        "\n",
        "%matplotlib inline"
      ]
    },
    {
      "cell_type": "code",
      "execution_count": 2,
      "id": "7beb6337",
      "metadata": {
        "colab": {
          "base_uri": "https://localhost:8080/",
          "height": 282
        },
        "id": "7beb6337",
        "outputId": "a58b5348-7f39-4bbf-9060-4fa9f1fe1206"
      },
      "outputs": [
        {
          "output_type": "execute_result",
          "data": {
            "text/plain": [
              "<matplotlib.image.AxesImage at 0x7f7bfa274ed0>"
            ]
          },
          "metadata": {},
          "execution_count": 2
        },
        {
          "output_type": "display_data",
          "data": {
            "text/plain": [
              "<Figure size 432x288 with 1 Axes>"
            ],
            "image/png": "[encoded data removed]"
          },
          "metadata": {
            "needs_background": "light"
          }
        }
      ],
      "source": [
        "donut = np.array([[0,0,0,0,0,0,0],[0,0,1,1,1,0,0],[0,1,1,0,1,1,0],[0,1,1,0,1,1,0],[0,0,1,1,1,0,0],[0,0,0,0,0,0,0]])\n",
        "house = np.array([[0,0,0,0,0,0,0],[0,0,0,0,0,0,0],[0,0,1,1,1,0,0],[0,1,1,1,1,1,0],[0,0,1,1,1,0,0],[0,0,1,1,1,0,0]])\n",
        "square = np.array([[0,0,0,0,0,0,0],[0,0,0,0,0,0,0],[0,0,0,0,0,0,0],[0,0,1,1,1,0,0],[0,0,1,1,1,0,0],[0,0,1,1,1,0,0]])\n",
        "plt.imshow(house,cmap='gray')"
      ]
    },
    {
      "cell_type": "code",
      "execution_count": 3,
      "id": "e4ca923c",
      "metadata": {
        "id": "e4ca923c"
      },
      "outputs": [],
      "source": [
        "from matplotlib.colors import ListedColormap, BoundaryNorm\n",
        "import random\n",
        "\n",
        "block_color_set = ['black']\n",
        "pokemon = [\"#ff0000\",\"#f6bd20\",\"#9c5200\",\"#de9400\",\"#623108\",\"#62d5b4\",\"#83eec5\",\"#184a4a\",\"#73ac31\",\"#e65a41\",\"#29739c\"]\n",
        "random.shuffle(pokemon)\n",
        "block_color_set += pokemon\n",
        "maskmap = ListedColormap(block_color_set,N=11)\n",
        "#norm = BoundaryNorm(list(range(12)), 11)\n"
      ]
    },
    {
      "cell_type": "code",
      "source": [
        "list(range(1,11))"
      ],
      "metadata": {
        "colab": {
          "base_uri": "https://localhost:8080/"
        },
        "id": "s8Z82HqqGw69",
        "outputId": "b9cb448c-2f8c-4c99-aad9-4d09b035d825"
      },
      "id": "s8Z82HqqGw69",
      "execution_count": 10,
      "outputs": [
        {
          "output_type": "execute_result",
          "data": {
            "text/plain": [
              "[1, 2, 3, 4, 5, 6, 7, 8, 9, 10]"
            ]
          },
          "metadata": {},
          "execution_count": 10
        }
      ]
    },
    {
      "cell_type": "code",
      "execution_count": 11,
      "id": "7618c69f",
      "metadata": {
        "id": "7618c69f"
      },
      "outputs": [],
      "source": [
        "def weirdHouse():\n",
        "    new_sq = square.copy()\n",
        "    i = 0\n",
        "    while random.random() < 0.75 and i < 10:\n",
        "        c = random.randint(0,6)\n",
        "        r = random.randint(1,4)\n",
        "        new_sq[r,c] = 1\n",
        "        i+=1\n",
        "    return new_sq\n",
        "\n",
        "def colorHouse():\n",
        "\n",
        "    cs = list(range(1,11))\n",
        "    random.shuffle(cs)\n",
        "    canvas = np.zeros((6,7))\n",
        "    #rows\n",
        "    for x in range(7):\n",
        "        canvas[4:,x] = random.choice(cs[2:-1])\n",
        "    #any above\n",
        "    for x in range(7):\n",
        "        for y in [0,1]:\n",
        "            canvas[y,x] = random.choice(cs[1:])\n",
        "    canvas[np.where(square==1)] = cs[0] #color base\n",
        "    canvas[5,1] = cs[0]\n",
        "    canvas[5,5] = cs[0]\n",
        "    canvas[3,:] = cs[-1]  #top\n",
        "    for x in range(7):\n",
        "        canvas[2,x] = random.choice(cs[-3:])\n",
        "        \n",
        "    return canvas\n",
        "\n",
        "# split into 3 sections with different colors\n",
        "def toyColorHouse():\n",
        "\n",
        "    # # randomly shuffled list from 1 to 10\n",
        "    # cs = list(range(1,11))\n",
        "    # random.shuffle(cs)\n",
        "\n",
        "    # empty canvas\n",
        "    canvas = np.zeros((6,7))\n",
        "    canvas[:2, :] = 1\n",
        "    canvas[2:4, :] = 2\n",
        "    canvas[4:, :] = 3\n",
        "    # #rows\n",
        "    # for x in range(7):\n",
        "    #     canvas[4:,x] = random.choice(cs[2:-1])\n",
        "    # #any above\n",
        "    # for x in range(7):\n",
        "    #     for y in [0,1]:\n",
        "    #         canvas[y,x] = random.choice(cs[1:])\n",
        "    # canvas[np.where(square==1)] = cs[0] #color base\n",
        "    # canvas[5,1] = cs[0]\n",
        "    # canvas[5,5] = cs[0]\n",
        "    # canvas[3,:] = cs[-1]  #top\n",
        "    # for x in range(7):\n",
        "    #     canvas[2,x] = random.choice(cs[-3:])\n",
        "        \n",
        "    return canvas\n",
        "    \n",
        "def showMask(mask,img,debug=False):\n",
        "#     v = np.unique(img)\n",
        "    v = list(range(11))\n",
        "    norm = BoundaryNorm(v, len(v)-1)\n",
        "    \n",
        "    c = ['gray',maskmap,maskmap]\n",
        "    m = [mask,img, mask*img]\n",
        "    n = [None,norm,norm]\n",
        "    \n",
        "    plt.figure(figsize=(5,2))\n",
        "    for i in range(3):\n",
        "        plt.subplot(1,3,i+1)\n",
        "        plt.xticks([])\n",
        "        plt.yticks([])\n",
        "        #plt.imshow(np.array(m[i]).squeeze(),cmap=c[i],norm=n[i])\n",
        "        plt.imshow(np.array(m[i]).squeeze(),cmap=c[i],vmin=0,vmax=(10 if i > 0 else 1))\n",
        "    plt.show()\n",
        "    \n",
        "    if debug:\n",
        "        print(img)\n",
        "        print(mask*img)\n",
        "     \n",
        "    \n",
        "#assum 6x7 shape\n",
        "def encode(l):\n",
        "    b = np.zeros((6,7,11))\n",
        "    for i in range(42):\n",
        "        c = i%6\n",
        "        r = i//7\n",
        "        v = int(l[r,c])\n",
        "        b[r,c,v]=1\n",
        "    return b"
      ]
    },
    {
      "cell_type": "code",
      "execution_count": 12,
      "id": "3720d9ee",
      "metadata": {
        "colab": {
          "base_uri": "https://localhost:8080/",
          "height": 105
        },
        "id": "3720d9ee",
        "outputId": "7c8d27d4-d520-44c0-8b73-d43e8810ca38"
      },
      "outputs": [
        {
          "output_type": "display_data",
          "data": {
            "text/plain": [
              "<Figure size 360x144 with 3 Axes>"
            ],
            "image/png": "[encoded data removed]"
          },
          "metadata": {}
        }
      ],
      "source": [
        "#level = np.random.randint(12, size=(6, 7))\n",
        "# level = colorHouse()\n",
        "level = toyColorHouse()\n",
        "showMask(house,level)"
      ]
    },
    {
      "cell_type": "code",
      "execution_count": 13,
      "id": "10b93e13",
      "metadata": {
        "id": "10b93e13"
      },
      "outputs": [],
      "source": [
        "#make lots of weird houses as training data\n",
        "NUM_HOUSES = 2500\n",
        "X_dat = []\n",
        "y_dat = []\n",
        "y_dat2 = []\n",
        "for i in range(NUM_HOUSES):\n",
        "    mask_house = weirdHouse()\n",
        "    bin_house = np.expand_dims(mask_house,axis=-1)\n",
        "    # full_color = colorHouse()\n",
        "    full_color = toyColorHouse()\n",
        "    #full_color = np.random.randint(12, size=(6, 7))\n",
        "    cat_house = full_color*bin_house.squeeze()\n",
        "    cat_house2 = encode(cat_house)\n",
        "    \n",
        "    X_dat.append(bin_house)\n",
        "    y_dat.append(full_color)\n",
        "    y_dat2.append(cat_house2)\n",
        "    \n",
        "X_dat = np.array(X_dat)\n",
        "y_dat = np.array(y_dat)\n",
        "y_dat2 = np.array(y_dat2)"
      ]
    },
    {
      "cell_type": "code",
      "execution_count": 14,
      "id": "025d43a4",
      "metadata": {
        "colab": {
          "base_uri": "https://localhost:8080/",
          "height": 1000
        },
        "id": "025d43a4",
        "outputId": "8aa292ff-e46d-4515-e2c0-b43526a42cd5"
      },
      "outputs": [
        {
          "output_type": "display_data",
          "data": {
            "text/plain": [
              "<Figure size 360x144 with 3 Axes>"
            ],
            "image/png": "[encoded data removed]"
          },
          "metadata": {}
        },
        {
          "output_type": "stream",
          "name": "stdout",
          "text": [
            "[[1. 1. 1. 1. 1. 1. 1.]\n",
            " [1. 1. 1. 1. 1. 1. 1.]\n",
            " [2. 2. 2. 2. 2. 2. 2.]\n",
            " [2. 2. 2. 2. 2. 2. 2.]\n",
            " [3. 3. 3. 3. 3. 3. 3.]\n",
            " [3. 3. 3. 3. 3. 3. 3.]]\n",
            "[[0. 0. 0. 0. 0. 0. 0.]\n",
            " [1. 0. 0. 0. 1. 0. 1.]\n",
            " [0. 0. 0. 0. 2. 2. 2.]\n",
            " [0. 0. 2. 2. 2. 0. 2.]\n",
            " [0. 3. 3. 3. 3. 0. 3.]\n",
            " [0. 0. 3. 3. 3. 0. 0.]]\n"
          ]
        },
        {
          "output_type": "display_data",
          "data": {
            "text/plain": [
              "<Figure size 360x144 with 3 Axes>"
            ],
            "image/png": "[encoded data removed]"
          },
          "metadata": {}
        },
        {
          "output_type": "stream",
          "name": "stdout",
          "text": [
            "[[1. 1. 1. 1. 1. 1. 1.]\n",
            " [1. 1. 1. 1. 1. 1. 1.]\n",
            " [2. 2. 2. 2. 2. 2. 2.]\n",
            " [2. 2. 2. 2. 2. 2. 2.]\n",
            " [3. 3. 3. 3. 3. 3. 3.]\n",
            " [3. 3. 3. 3. 3. 3. 3.]]\n",
            "[[0. 0. 0. 0. 0. 0. 0.]\n",
            " [0. 0. 0. 0. 0. 0. 1.]\n",
            " [0. 0. 0. 0. 0. 0. 0.]\n",
            " [0. 0. 2. 2. 2. 0. 0.]\n",
            " [0. 3. 3. 3. 3. 0. 0.]\n",
            " [0. 0. 3. 3. 3. 0. 0.]]\n"
          ]
        },
        {
          "output_type": "display_data",
          "data": {
            "text/plain": [
              "<Figure size 360x144 with 3 Axes>"
            ],
            "image/png": "[encoded data removed]"
          },
          "metadata": {}
        },
        {
          "output_type": "stream",
          "name": "stdout",
          "text": [
            "[[1. 1. 1. 1. 1. 1. 1.]\n",
            " [1. 1. 1. 1. 1. 1. 1.]\n",
            " [2. 2. 2. 2. 2. 2. 2.]\n",
            " [2. 2. 2. 2. 2. 2. 2.]\n",
            " [3. 3. 3. 3. 3. 3. 3.]\n",
            " [3. 3. 3. 3. 3. 3. 3.]]\n",
            "[[0. 0. 0. 0. 0. 0. 0.]\n",
            " [0. 0. 0. 0. 0. 0. 0.]\n",
            " [0. 0. 0. 0. 0. 0. 0.]\n",
            " [0. 0. 2. 2. 2. 0. 0.]\n",
            " [0. 0. 3. 3. 3. 0. 0.]\n",
            " [0. 0. 3. 3. 3. 0. 0.]]\n"
          ]
        },
        {
          "output_type": "display_data",
          "data": {
            "text/plain": [
              "<Figure size 360x144 with 3 Axes>"
            ],
            "image/png": "[encoded data removed]"
          },
          "metadata": {}
        },
        {
          "output_type": "stream",
          "name": "stdout",
          "text": [
            "[[1. 1. 1. 1. 1. 1. 1.]\n",
            " [1. 1. 1. 1. 1. 1. 1.]\n",
            " [2. 2. 2. 2. 2. 2. 2.]\n",
            " [2. 2. 2. 2. 2. 2. 2.]\n",
            " [3. 3. 3. 3. 3. 3. 3.]\n",
            " [3. 3. 3. 3. 3. 3. 3.]]\n",
            "[[0. 0. 0. 0. 0. 0. 0.]\n",
            " [0. 1. 0. 0. 0. 0. 1.]\n",
            " [0. 0. 0. 0. 0. 0. 0.]\n",
            " [2. 0. 2. 2. 2. 2. 0.]\n",
            " [3. 0. 3. 3. 3. 3. 0.]\n",
            " [0. 0. 3. 3. 3. 0. 0.]]\n"
          ]
        },
        {
          "output_type": "display_data",
          "data": {
            "text/plain": [
              "<Figure size 360x144 with 3 Axes>"
            ],
            "image/png": "[encoded data removed]"
          },
          "metadata": {}
        },
        {
          "output_type": "stream",
          "name": "stdout",
          "text": [
            "[[1. 1. 1. 1. 1. 1. 1.]\n",
            " [1. 1. 1. 1. 1. 1. 1.]\n",
            " [2. 2. 2. 2. 2. 2. 2.]\n",
            " [2. 2. 2. 2. 2. 2. 2.]\n",
            " [3. 3. 3. 3. 3. 3. 3.]\n",
            " [3. 3. 3. 3. 3. 3. 3.]]\n",
            "[[0. 0. 0. 0. 0. 0. 0.]\n",
            " [0. 1. 1. 0. 1. 0. 0.]\n",
            " [0. 0. 0. 0. 0. 0. 0.]\n",
            " [0. 0. 2. 2. 2. 0. 0.]\n",
            " [0. 0. 3. 3. 3. 0. 0.]\n",
            " [0. 0. 3. 3. 3. 0. 0.]]\n"
          ]
        }
      ],
      "source": [
        "#show a few\n",
        "for i in range(5):\n",
        "    rh = random.choice(range(NUM_HOUSES))\n",
        "    showMask(X_dat[rh].squeeze(),y_dat[rh])\n",
        "    print(y_dat[rh])\n",
        "    print(X_dat[rh].squeeze()*y_dat[rh])"
      ]
    },
    {
      "cell_type": "code",
      "execution_count": 25,
      "id": "b4dbe91f",
      "metadata": {
        "colab": {
          "base_uri": "https://localhost:8080/"
        },
        "id": "b4dbe91f",
        "outputId": "ac16de93-cfe8-4c60-bd2c-1d2cda82fedd"
      },
      "outputs": [
        {
          "output_type": "stream",
          "name": "stdout",
          "text": [
            "Model: \"sequential_2\"\n",
            "_________________________________________________________________\n",
            " Layer (type)                Output Shape              Param #   \n",
            "=================================================================\n",
            " conv2d_3 (Conv2D)           (None, 6, 7, 32)          160       \n",
            "                                                                 \n",
            " conv2d_4 (Conv2D)           (None, 6, 7, 16)          2064      \n",
            "                                                                 \n",
            " conv2d_5 (Conv2D)           (None, 6, 7, 11)          715       \n",
            "                                                                 \n",
            " dense_3 (Dense)             (None, 6, 7, 11)          132       \n",
            "                                                                 \n",
            "=================================================================\n",
            "Total params: 3,071\n",
            "Trainable params: 3,071\n",
            "Non-trainable params: 0\n",
            "_________________________________________________________________\n"
          ]
        }
      ],
      "source": [
        "from tensorflow.keras.models import Sequential\n",
        "from tensorflow.keras.layers import Dense, Input, Conv2D\n",
        "from keras import backend as K\n",
        "\n",
        "\n",
        "#train the masking model\n",
        "maskModel = Sequential()\n",
        "maskModel.add(Input(shape=(6,7,1)))\n",
        "maskModel.add(Conv2D(32,2,activation=\"relu\", padding=\"same\"))\n",
        "maskModel.add(Conv2D(16,2,activation=\"relu\", padding=\"same\"))\n",
        "maskModel.add(Conv2D(11,2,activation=\"sigmoid\", padding=\"same\"))\n",
        "maskModel.add(Dense(11,activation=\"sigmoid\"))\n",
        "\n",
        "def mask_loss(y_true,y_pred):\n",
        "    zero = tf.constant(0, dtype=tf.float32)\n",
        "    y_true2 = tf.cast(y_true,tf.float32)\n",
        "    y_pred2 = tf.cast(y_pred,tf.float32)\n",
        "    mask = tf.cast(tf.where(tf.not_equal(y_true2, zero),1,0),tf.float32)\n",
        "    mask_pred = tf.math.multiply(y_pred2,mask)\n",
        "    #return -(97.0 * y_true2 * K.log(mask_pred) + 3.0 * (1.0 - y_true2) * K.log(1.0 - mask_pred)) / 100.0 #wbce\n",
        "    #return tf.math.reduce_mean(tf.math.abs(y_true2 - tf.math.multiply(y_pred2,mask)) )   #mse\n",
        "    return tf.losses.mean_squared_error(y_true2,mask_pred)\n",
        "maskModel.compile(optimizer='adam',loss=mask_loss)\n",
        "maskModel.summary()"
      ]
    },
    {
      "cell_type": "code",
      "execution_count": 26,
      "id": "e72c763e",
      "metadata": {
        "colab": {
          "base_uri": "https://localhost:8080/"
        },
        "id": "e72c763e",
        "outputId": "17c5c7c8-7857-4fdb-9f24-cf8e1a222618"
      },
      "outputs": [
        {
          "output_type": "stream",
          "name": "stdout",
          "text": [
            "Epoch 1/100\n",
            "157/157 [==============================] - 1s 4ms/step - loss: 0.0087\n",
            "Epoch 2/100\n",
            "157/157 [==============================] - 1s 4ms/step - loss: 0.0015\n",
            "Epoch 3/100\n",
            "157/157 [==============================] - 1s 4ms/step - loss: 7.3603e-04\n",
            "Epoch 4/100\n",
            "157/157 [==============================] - 1s 4ms/step - loss: 4.4771e-04\n",
            "Epoch 5/100\n",
            "157/157 [==============================] - 1s 4ms/step - loss: 3.0258e-04\n",
            "Epoch 6/100\n",
            "157/157 [==============================] - 1s 4ms/step - loss: 2.1751e-04\n",
            "Epoch 7/100\n",
            "157/157 [==============================] - 1s 4ms/step - loss: 1.6136e-04\n",
            "Epoch 8/100\n",
            "157/157 [==============================] - 1s 4ms/step - loss: 1.2543e-04\n",
            "Epoch 9/100\n",
            "157/157 [==============================] - 1s 4ms/step - loss: 1.0036e-04\n",
            "Epoch 10/100\n",
            "157/157 [==============================] - 1s 4ms/step - loss: 8.1981e-05\n",
            "Epoch 11/100\n",
            "157/157 [==============================] - 1s 4ms/step - loss: 6.7861e-05\n",
            "Epoch 12/100\n",
            "157/157 [==============================] - 1s 3ms/step - loss: 5.6034e-05\n",
            "Epoch 13/100\n",
            "157/157 [==============================] - 1s 4ms/step - loss: 4.7356e-05\n",
            "Epoch 14/100\n",
            "157/157 [==============================] - 1s 4ms/step - loss: 4.0590e-05\n",
            "Epoch 15/100\n",
            "157/157 [==============================] - 1s 3ms/step - loss: 3.5161e-05\n",
            "Epoch 16/100\n",
            "157/157 [==============================] - 1s 4ms/step - loss: 3.0707e-05\n",
            "Epoch 17/100\n",
            "157/157 [==============================] - 1s 4ms/step - loss: 2.6990e-05\n",
            "Epoch 18/100\n",
            "157/157 [==============================] - 1s 4ms/step - loss: 2.3243e-05\n",
            "Epoch 19/100\n",
            "157/157 [==============================] - 1s 3ms/step - loss: 1.9193e-05\n",
            "Epoch 20/100\n",
            "157/157 [==============================] - 1s 4ms/step - loss: 1.6834e-05\n",
            "Epoch 21/100\n",
            "157/157 [==============================] - 1s 4ms/step - loss: 1.4957e-05\n",
            "Epoch 22/100\n",
            "157/157 [==============================] - 1s 4ms/step - loss: 1.3347e-05\n",
            "Epoch 23/100\n",
            "157/157 [==============================] - 1s 7ms/step - loss: 1.1943e-05\n",
            "Epoch 24/100\n",
            "157/157 [==============================] - 1s 7ms/step - loss: 1.0597e-05\n",
            "Epoch 25/100\n",
            "157/157 [==============================] - 1s 5ms/step - loss: 9.3759e-06\n",
            "Epoch 26/100\n",
            "157/157 [==============================] - 1s 6ms/step - loss: 7.9382e-06\n",
            "Epoch 27/100\n",
            "157/157 [==============================] - 1s 4ms/step - loss: 7.1052e-06\n",
            "Epoch 28/100\n",
            "157/157 [==============================] - 1s 4ms/step - loss: 6.4514e-06\n",
            "Epoch 29/100\n",
            "157/157 [==============================] - 1s 4ms/step - loss: 5.8741e-06\n",
            "Epoch 30/100\n",
            "157/157 [==============================] - 1s 4ms/step - loss: 5.3581e-06\n",
            "Epoch 31/100\n",
            "157/157 [==============================] - 1s 4ms/step - loss: 4.8947e-06\n",
            "Epoch 32/100\n",
            "157/157 [==============================] - 1s 3ms/step - loss: 4.4765e-06\n",
            "Epoch 33/100\n",
            "157/157 [==============================] - 1s 4ms/step - loss: 4.0976e-06\n",
            "Epoch 34/100\n",
            "157/157 [==============================] - 1s 4ms/step - loss: 3.7523e-06\n",
            "Epoch 35/100\n",
            "157/157 [==============================] - 1s 4ms/step - loss: 3.4388e-06\n",
            "Epoch 36/100\n",
            "157/157 [==============================] - 1s 4ms/step - loss: 3.1553e-06\n",
            "Epoch 37/100\n",
            "157/157 [==============================] - 1s 4ms/step - loss: 2.8980e-06\n",
            "Epoch 38/100\n",
            "157/157 [==============================] - 1s 4ms/step - loss: 2.6638e-06\n",
            "Epoch 39/100\n",
            "157/157 [==============================] - 1s 4ms/step - loss: 2.4500e-06\n",
            "Epoch 40/100\n",
            "157/157 [==============================] - 1s 4ms/step - loss: 2.2545e-06\n",
            "Epoch 41/100\n",
            "157/157 [==============================] - 1s 6ms/step - loss: 2.0755e-06\n",
            "Epoch 42/100\n",
            "157/157 [==============================] - 1s 6ms/step - loss: 1.9115e-06\n",
            "Epoch 43/100\n",
            "157/157 [==============================] - 1s 5ms/step - loss: 1.7610e-06\n",
            "Epoch 44/100\n",
            "157/157 [==============================] - 1s 4ms/step - loss: 1.6229e-06\n",
            "Epoch 45/100\n",
            "157/157 [==============================] - 1s 4ms/step - loss: 1.4961e-06\n",
            "Epoch 46/100\n",
            "157/157 [==============================] - 1s 4ms/step - loss: 1.3795e-06\n",
            "Epoch 47/100\n",
            "157/157 [==============================] - 1s 4ms/step - loss: 1.2723e-06\n",
            "Epoch 48/100\n",
            "157/157 [==============================] - 1s 4ms/step - loss: 1.1737e-06\n",
            "Epoch 49/100\n",
            "157/157 [==============================] - 1s 4ms/step - loss: 1.0830e-06\n",
            "Epoch 50/100\n",
            "157/157 [==============================] - 1s 4ms/step - loss: 9.9952e-07\n",
            "Epoch 51/100\n",
            "157/157 [==============================] - 1s 3ms/step - loss: 9.2265e-07\n",
            "Epoch 52/100\n",
            "157/157 [==============================] - 1s 4ms/step - loss: 8.5184e-07\n",
            "Epoch 53/100\n",
            "157/157 [==============================] - 1s 4ms/step - loss: 7.8660e-07\n",
            "Epoch 54/100\n",
            "157/157 [==============================] - 1s 4ms/step - loss: 7.2648e-07\n",
            "Epoch 55/100\n",
            "157/157 [==============================] - 1s 4ms/step - loss: 6.7104e-07\n",
            "Epoch 56/100\n",
            "157/157 [==============================] - 1s 4ms/step - loss: 6.1993e-07\n",
            "Epoch 57/100\n",
            "157/157 [==============================] - 1s 4ms/step - loss: 5.7278e-07\n",
            "Epoch 58/100\n",
            "157/157 [==============================] - 1s 4ms/step - loss: 5.2928e-07\n",
            "Epoch 59/100\n",
            "157/157 [==============================] - 1s 3ms/step - loss: 4.8915e-07\n",
            "Epoch 60/100\n",
            "157/157 [==============================] - 1s 3ms/step - loss: 4.5211e-07\n",
            "Epoch 61/100\n",
            "157/157 [==============================] - 1s 4ms/step - loss: 4.1792e-07\n",
            "Epoch 62/100\n",
            "157/157 [==============================] - 1s 3ms/step - loss: 3.8637e-07\n",
            "Epoch 63/100\n",
            "157/157 [==============================] - 1s 4ms/step - loss: 3.5723e-07\n",
            "Epoch 64/100\n",
            "157/157 [==============================] - 1s 4ms/step - loss: 3.3033e-07\n",
            "Epoch 65/100\n",
            "157/157 [==============================] - 1s 4ms/step - loss: 3.0549e-07\n",
            "Epoch 66/100\n",
            "157/157 [==============================] - 1s 4ms/step - loss: 2.8255e-07\n",
            "Epoch 67/100\n",
            "157/157 [==============================] - 1s 4ms/step - loss: 2.6136e-07\n",
            "Epoch 68/100\n",
            "157/157 [==============================] - 1s 4ms/step - loss: 2.4178e-07\n",
            "Epoch 69/100\n",
            "157/157 [==============================] - 1s 4ms/step - loss: 2.2370e-07\n",
            "Epoch 70/100\n",
            "157/157 [==============================] - 1s 4ms/step - loss: 2.0699e-07\n",
            "Epoch 71/100\n",
            "157/157 [==============================] - 1s 4ms/step - loss: 1.9155e-07\n",
            "Epoch 72/100\n",
            "157/157 [==============================] - 1s 4ms/step - loss: 1.7728e-07\n",
            "Epoch 73/100\n",
            "157/157 [==============================] - 1s 4ms/step - loss: 1.6410e-07\n",
            "Epoch 74/100\n",
            "157/157 [==============================] - 1s 4ms/step - loss: 1.5191e-07\n",
            "Epoch 75/100\n",
            "157/157 [==============================] - 1s 4ms/step - loss: 1.4064e-07\n",
            "Epoch 76/100\n",
            "157/157 [==============================] - 1s 4ms/step - loss: 1.3021e-07\n",
            "Epoch 77/100\n",
            "157/157 [==============================] - 1s 6ms/step - loss: 1.2056e-07\n",
            "Epoch 78/100\n",
            "157/157 [==============================] - 1s 6ms/step - loss: 1.1161e-07\n",
            "Epoch 79/100\n",
            "157/157 [==============================] - 1s 7ms/step - loss: 1.0331e-07\n",
            "Epoch 80/100\n",
            "157/157 [==============================] - 1s 6ms/step - loss: 9.5652e-08\n",
            "Epoch 81/100\n",
            "157/157 [==============================] - 1s 4ms/step - loss: 8.8584e-08\n",
            "Epoch 82/100\n",
            "157/157 [==============================] - 1s 4ms/step - loss: 8.2061e-08\n",
            "Epoch 83/100\n",
            "157/157 [==============================] - 1s 4ms/step - loss: 7.6040e-08\n",
            "Epoch 84/100\n",
            "157/157 [==============================] - 1s 4ms/step - loss: 7.0482e-08\n",
            "Epoch 85/100\n",
            "157/157 [==============================] - 1s 4ms/step - loss: 6.5350e-08\n",
            "Epoch 86/100\n",
            "157/157 [==============================] - 1s 4ms/step - loss: 6.0609e-08\n",
            "Epoch 87/100\n",
            "157/157 [==============================] - 1s 4ms/step - loss: 5.6230e-08\n",
            "Epoch 88/100\n",
            "157/157 [==============================] - 1s 4ms/step - loss: 5.2184e-08\n",
            "Epoch 89/100\n",
            "157/157 [==============================] - 1s 4ms/step - loss: 4.8445e-08\n",
            "Epoch 90/100\n",
            "157/157 [==============================] - 1s 4ms/step - loss: 4.4989e-08\n",
            "Epoch 91/100\n",
            "157/157 [==============================] - 1s 4ms/step - loss: 4.1795e-08\n",
            "Epoch 92/100\n",
            "157/157 [==============================] - 1s 4ms/step - loss: 3.8842e-08\n",
            "Epoch 93/100\n",
            "157/157 [==============================] - 1s 4ms/step - loss: 3.6112e-08\n",
            "Epoch 94/100\n",
            "157/157 [==============================] - 1s 4ms/step - loss: 3.3588e-08\n",
            "Epoch 95/100\n",
            "157/157 [==============================] - 1s 4ms/step - loss: 3.1254e-08\n",
            "Epoch 96/100\n",
            "157/157 [==============================] - 1s 4ms/step - loss: 2.9094e-08\n",
            "Epoch 97/100\n",
            "157/157 [==============================] - 1s 4ms/step - loss: 2.7097e-08\n",
            "Epoch 98/100\n",
            "157/157 [==============================] - 1s 4ms/step - loss: 2.5249e-08\n",
            "Epoch 99/100\n",
            "157/157 [==============================] - 1s 4ms/step - loss: 2.3539e-08\n",
            "Epoch 100/100\n",
            "157/157 [==============================] - 1s 4ms/step - loss: 2.1956e-08\n"
          ]
        },
        {
          "output_type": "execute_result",
          "data": {
            "text/plain": [
              "<keras.callbacks.History at 0x7f7bf110d150>"
            ]
          },
          "metadata": {},
          "execution_count": 26
        }
      ],
      "source": [
        "maskModel.fit(X_dat,y_dat2,epochs=100,batch_size=16,verbose=True)"
      ]
    },
    {
      "cell_type": "code",
      "execution_count": 27,
      "id": "29987bfa",
      "metadata": {
        "id": "29987bfa"
      },
      "outputs": [],
      "source": [
        "def showModelPred(model,bin_house,cat_house,debug=False):\n",
        "    #get prediction, un-onehot, and apply mask\n",
        "    pred_dat = np.argmax(model.predict(np.expand_dims(bin_house,axis=0),verbose=False).squeeze(),axis=-1)*bin_house.squeeze()\n",
        "    comp_house = np.argmax(cat_house,axis=-1)\n",
        "    \n",
        "    #normalize colors\n",
        "    #v = np.unique(np.hstack([comp_house,pred_dat]))\n",
        "    v = list(range(11))\n",
        "    norm = BoundaryNorm(v, len(v)-1)\n",
        "    \n",
        "    #setup\n",
        "    labels = [\"x\",\"y\",\"pred\"]\n",
        "    c = ['gray',maskmap,maskmap]\n",
        "    m = [bin_house,comp_house,pred_dat]\n",
        "    n = [None,norm,norm]\n",
        "    \n",
        "    \n",
        "    #show\n",
        "    plt.figure(figsize=(5,2))\n",
        "    plt.axis('off')\n",
        "    for i in range(3):\n",
        "        plt.subplot(1, 3, i+1)\n",
        "        plt.axis('off')\n",
        "        plt.imshow(np.array(m[i]).squeeze(),cmap=c[i],norm=n[i])\n",
        "        plt.title(labels[i])\n",
        "    plt.show()\n",
        "    \n",
        "    if debug:\n",
        "        print(comp_house)\n",
        "        print(pred_dat)"
      ]
    },
    {
      "cell_type": "code",
      "execution_count": 28,
      "id": "42210ae8",
      "metadata": {
        "colab": {
          "base_uri": "https://localhost:8080/",
          "height": 1000
        },
        "id": "42210ae8",
        "outputId": "7351d918-1672-4b07-8840-f469e8ba0334"
      },
      "outputs": [
        {
          "output_type": "display_data",
          "data": {
            "text/plain": [
              "<Figure size 360x144 with 3 Axes>"
            ],
            "image/png": "[encoded data removed]"
          },
          "metadata": {
            "needs_background": "light"
          }
        },
        {
          "output_type": "stream",
          "name": "stdout",
          "text": [
            "[[0 0 0 0 0 0 0]\n",
            " [0 1 1 0 0 0 0]\n",
            " [0 0 0 0 0 0 0]\n",
            " [0 0 2 2 2 0 0]\n",
            " [0 0 3 3 3 0 0]\n",
            " [0 0 3 3 3 0 0]]\n",
            "[[0 0 0 0 0 0 0]\n",
            " [0 0 0 0 0 0 0]\n",
            " [0 0 0 0 0 0 0]\n",
            " [0 0 2 2 2 0 0]\n",
            " [0 0 3 3 3 0 0]\n",
            " [0 0 3 3 3 0 0]]\n"
          ]
        },
        {
          "output_type": "display_data",
          "data": {
            "text/plain": [
              "<Figure size 360x144 with 3 Axes>"
            ],
            "image/png": "[encoded data removed]"
          },
          "metadata": {
            "needs_background": "light"
          }
        },
        {
          "output_type": "stream",
          "name": "stdout",
          "text": [
            "[[0 0 0 0 0 0 0]\n",
            " [0 0 0 0 0 0 0]\n",
            " [2 2 0 0 0 0 0]\n",
            " [2 2 2 2 2 0 0]\n",
            " [3 0 3 3 3 0 0]\n",
            " [0 0 3 3 3 0 0]]\n",
            "[[0 0 0 0 0 0 0]\n",
            " [0 0 0 0 0 0 0]\n",
            " [2 2 0 0 0 0 3]\n",
            " [2 0 2 2 2 0 0]\n",
            " [2 0 3 3 3 0 0]\n",
            " [0 0 3 3 3 0 0]]\n"
          ]
        },
        {
          "output_type": "display_data",
          "data": {
            "text/plain": [
              "<Figure size 360x144 with 3 Axes>"
            ],
            "image/png": "[encoded data removed]"
          },
          "metadata": {
            "needs_background": "light"
          }
        },
        {
          "output_type": "stream",
          "name": "stdout",
          "text": [
            "[[0 0 0 0 0 0 0]\n",
            " [0 0 0 0 1 1 0]\n",
            " [0 0 0 2 0 0 0]\n",
            " [0 0 2 2 2 0 0]\n",
            " [3 0 3 3 3 0 0]\n",
            " [0 0 3 3 3 0 0]]\n",
            "[[0 0 0 0 0 0 0]\n",
            " [0 0 0 0 2 2 0]\n",
            " [0 0 0 2 0 0 0]\n",
            " [0 0 2 2 2 0 3]\n",
            " [2 0 3 3 3 0 0]\n",
            " [0 0 3 3 3 0 0]]\n"
          ]
        },
        {
          "output_type": "display_data",
          "data": {
            "text/plain": [
              "<Figure size 360x144 with 3 Axes>"
            ],
            "image/png": "[encoded data removed]"
          },
          "metadata": {
            "needs_background": "light"
          }
        },
        {
          "output_type": "stream",
          "name": "stdout",
          "text": [
            "[[0 0 0 0 0 0 0]\n",
            " [0 0 1 0 1 0 0]\n",
            " [0 0 0 2 0 2 0]\n",
            " [0 0 2 2 2 2 0]\n",
            " [3 0 3 3 3 0 0]\n",
            " [0 0 3 3 3 0 0]]\n",
            "[[0 0 0 0 0 0 0]\n",
            " [0 0 0 0 2 0 0]\n",
            " [0 0 0 2 0 2 0]\n",
            " [0 0 2 2 2 2 0]\n",
            " [2 0 3 3 3 0 0]\n",
            " [0 0 3 3 3 0 0]]\n"
          ]
        },
        {
          "output_type": "display_data",
          "data": {
            "text/plain": [
              "<Figure size 360x144 with 3 Axes>"
            ],
            "image/png": "[encoded data removed]"
          },
          "metadata": {
            "needs_background": "light"
          }
        },
        {
          "output_type": "stream",
          "name": "stdout",
          "text": [
            "[[0 0 0 0 0 0 0]\n",
            " [0 0 0 0 0 0 0]\n",
            " [0 0 0 0 0 0 0]\n",
            " [0 0 2 2 2 0 0]\n",
            " [0 0 3 3 3 0 0]\n",
            " [0 0 3 3 3 0 0]]\n",
            "[[0 0 0 0 0 0 0]\n",
            " [0 0 0 0 0 0 0]\n",
            " [0 0 0 0 0 0 0]\n",
            " [0 0 2 2 2 0 0]\n",
            " [0 0 3 3 3 0 0]\n",
            " [0 0 3 3 3 0 0]]\n"
          ]
        }
      ],
      "source": [
        "#show some predictions\n",
        "pickset = random.choices(range(len(X_dat)),k=5)\n",
        "d = [(X_dat[i],y_dat2[i]) for i in pickset]\n",
        "for di in d:\n",
        "    showModelPred(maskModel,di[0],di[1],True)"
      ]
    },
    {
      "cell_type": "code",
      "execution_count": 29,
      "id": "3c34c6d5",
      "metadata": {
        "colab": {
          "base_uri": "https://localhost:8080/"
        },
        "id": "3c34c6d5",
        "outputId": "c46c45b7-7247-4ce2-c4c8-39bd579f44fa"
      },
      "outputs": [
        {
          "output_type": "stream",
          "name": "stdout",
          "text": [
            "1: 0.3333\n",
            "2: 0.3333\n",
            "3: 0.3333\n"
          ]
        }
      ],
      "source": [
        "#show distribution of values in the training dataset\n",
        "uq,cts = np.unique(y_dat,return_counts=True)\n",
        "tot = sum(cts)\n",
        "for u,c in zip(uq,cts):\n",
        "    print(f\"{int(u)}: {c/tot:.4f}\")\n",
        "# cts2 = [0]\n",
        "# for x in cts:\n",
        "#     cts2.append(x)\n",
        "# fig = plt.figure(figsize = (10, 5))\n",
        "# plt.bar(list(range(11)),cts2)\n",
        "# plt.show()\n"
      ]
    },
    {
      "cell_type": "code",
      "execution_count": 30,
      "id": "4d11113c",
      "metadata": {
        "colab": {
          "base_uri": "https://localhost:8080/"
        },
        "id": "4d11113c",
        "outputId": "39b8329e-2a95-44ab-c838-e9ce8e7668ac"
      },
      "outputs": [
        {
          "output_type": "stream",
          "name": "stdout",
          "text": [
            "tf.Tensor(\n",
            "[[[1. 0. 0. 0. 0. 0. 0. 0. 0. 0. 0.]\n",
            "  [1. 0. 0. 0. 0. 0. 0. 0. 0. 0. 0.]\n",
            "  [1. 0. 0. 0. 0. 0. 0. 0. 0. 0. 0.]\n",
            "  [1. 0. 0. 0. 0. 0. 0. 0. 0. 0. 0.]\n",
            "  [1. 0. 0. 0. 0. 0. 0. 0. 0. 0. 0.]\n",
            "  [1. 0. 0. 0. 0. 0. 0. 0. 0. 0. 0.]\n",
            "  [0. 0. 0. 0. 0. 0. 0. 0. 0. 0. 0.]]\n",
            "\n",
            " [[1. 0. 0. 0. 0. 0. 0. 0. 0. 0. 0.]\n",
            "  [1. 0. 0. 0. 0. 0. 0. 0. 0. 0. 0.]\n",
            "  [1. 0. 0. 0. 0. 0. 0. 0. 0. 0. 0.]\n",
            "  [1. 0. 0. 0. 0. 0. 0. 0. 0. 0. 0.]\n",
            "  [1. 0. 0. 0. 0. 0. 0. 0. 0. 0. 0.]\n",
            "  [1. 0. 0. 0. 0. 0. 0. 0. 0. 0. 0.]\n",
            "  [0. 0. 0. 0. 0. 0. 0. 0. 0. 0. 0.]]\n",
            "\n",
            " [[1. 0. 0. 0. 0. 0. 0. 0. 0. 0. 0.]\n",
            "  [1. 0. 0. 0. 0. 0. 0. 0. 0. 0. 0.]\n",
            "  [1. 0. 0. 0. 0. 0. 0. 0. 0. 0. 0.]\n",
            "  [1. 0. 0. 0. 0. 0. 0. 0. 0. 0. 0.]\n",
            "  [1. 0. 0. 0. 0. 0. 0. 0. 0. 0. 0.]\n",
            "  [1. 0. 0. 0. 0. 0. 0. 0. 0. 0. 0.]\n",
            "  [0. 0. 0. 0. 0. 0. 0. 0. 0. 0. 0.]]\n",
            "\n",
            " [[1. 0. 0. 0. 0. 0. 0. 0. 0. 0. 0.]\n",
            "  [1. 0. 0. 0. 0. 0. 0. 0. 0. 0. 0.]\n",
            "  [0. 0. 1. 0. 0. 0. 0. 0. 0. 0. 0.]\n",
            "  [0. 0. 1. 0. 0. 0. 0. 0. 0. 0. 0.]\n",
            "  [0. 0. 1. 0. 0. 0. 0. 0. 0. 0. 0.]\n",
            "  [1. 0. 0. 0. 0. 0. 0. 0. 0. 0. 0.]\n",
            "  [0. 0. 0. 0. 0. 0. 0. 0. 0. 0. 0.]]\n",
            "\n",
            " [[1. 0. 0. 0. 0. 0. 0. 0. 0. 0. 0.]\n",
            "  [1. 0. 0. 0. 0. 0. 0. 0. 0. 0. 0.]\n",
            "  [0. 0. 0. 1. 0. 0. 0. 0. 0. 0. 0.]\n",
            "  [0. 0. 0. 1. 0. 0. 0. 0. 0. 0. 0.]\n",
            "  [0. 0. 0. 1. 0. 0. 0. 0. 0. 0. 0.]\n",
            "  [1. 0. 0. 0. 0. 0. 0. 0. 0. 0. 0.]\n",
            "  [0. 0. 0. 0. 0. 0. 0. 0. 0. 0. 0.]]\n",
            "\n",
            " [[1. 0. 0. 0. 0. 0. 0. 0. 0. 0. 0.]\n",
            "  [1. 0. 0. 0. 0. 0. 0. 0. 0. 0. 0.]\n",
            "  [0. 0. 0. 1. 0. 0. 0. 0. 0. 0. 0.]\n",
            "  [0. 0. 0. 1. 0. 0. 0. 0. 0. 0. 0.]\n",
            "  [0. 0. 0. 1. 0. 0. 0. 0. 0. 0. 0.]\n",
            "  [1. 0. 0. 0. 0. 0. 0. 0. 0. 0. 0.]\n",
            "  [0. 0. 0. 0. 0. 0. 0. 0. 0. 0. 0.]]], shape=(6, 7, 11), dtype=float32)\n"
          ]
        },
        {
          "output_type": "execute_result",
          "data": {
            "text/plain": [
              "nan"
            ]
          },
          "metadata": {},
          "execution_count": 30
        }
      ],
      "source": [
        "#simulate the loss\n",
        "yi = y_dat2[2]\n",
        "mi = maskModel.predict(np.expand_dims(X_dat[0],axis=0)).squeeze()\n",
        "\n",
        "\n",
        "zero = tf.constant(0, dtype=tf.float32)\n",
        "y_true2 = tf.cast(yi,tf.float32)\n",
        "y_pred2 = tf.cast(mi,tf.float32)\n",
        "mask = tf.cast(tf.where(tf.not_equal(y_true2, zero),1,0),tf.float32)\n",
        "mask_pred = tf.math.multiply(y_pred2,mask)\n",
        "\n",
        "print(mask)\n",
        "\n",
        "ytr = tf.reshape(y_true2,(42,11))\n",
        "mpr = tf.reshape(mask_pred,(42,11))\n",
        "\n",
        "#print(ytr)\n",
        "#print(mpr)\n",
        "\n",
        "#print(ytr.shape,mpr.shape)\n",
        "#print(K.log(mask_pred))  #can't work because log of 0 is inf\n",
        "cce = tf.keras.losses.CategoricalCrossentropy()\n",
        "cce(ytr,mpr).numpy()\n",
        "\n",
        "#-(97.0 * y_true2 * K.log(mask_pred) + 3.0 * (1.0 - y_true2) * K.log(1.0 - mask_pred)) / 100.0 #wbce"
      ]
    },
    {
      "cell_type": "code",
      "execution_count": 31,
      "id": "422fc24c",
      "metadata": {
        "colab": {
          "base_uri": "https://localhost:8080/"
        },
        "id": "422fc24c",
        "outputId": "56d81971-207c-4455-f097-c8a974bcd130"
      },
      "outputs": [
        {
          "output_type": "stream",
          "name": "stdout",
          "text": [
            "[[1. 1. 1. 1. 1. 1. 0.]\n",
            " [1. 0. 1. 1. 1. 1. 0.]\n",
            " [1. 1. 1. 1. 1. 1. 0.]\n",
            " [1. 1. 0. 0. 0. 1. 0.]\n",
            " [1. 1. 0. 0. 0. 1. 0.]\n",
            " [1. 1. 0. 0. 0. 1. 0.]]\n",
            "[[0. 0. 0. 0. 0. 0. 0.]\n",
            " [0. 1. 0. 0. 0. 0. 0.]\n",
            " [0. 0. 0. 0. 0. 0. 0.]\n",
            " [0. 0. 0. 0. 0. 0. 0.]\n",
            " [0. 0. 0. 0. 0. 0. 0.]\n",
            " [0. 0. 0. 0. 0. 0. 0.]]\n",
            "[[0. 0. 0. 0. 0. 0. 0.]\n",
            " [0. 0. 0. 0. 0. 0. 0.]\n",
            " [0. 0. 0. 0. 0. 0. 0.]\n",
            " [0. 0. 1. 1. 1. 0. 0.]\n",
            " [0. 0. 0. 0. 0. 0. 0.]\n",
            " [0. 0. 0. 0. 0. 0. 0.]]\n",
            "[[0. 0. 0. 0. 0. 0. 0.]\n",
            " [0. 0. 0. 0. 0. 0. 0.]\n",
            " [0. 0. 0. 0. 0. 0. 0.]\n",
            " [0. 0. 0. 0. 0. 0. 0.]\n",
            " [0. 0. 1. 1. 1. 0. 0.]\n",
            " [0. 0. 1. 1. 1. 0. 0.]]\n",
            "[[0. 0. 0. 0. 0. 0. 0.]\n",
            " [0. 0. 0. 0. 0. 0. 0.]\n",
            " [0. 0. 0. 0. 0. 0. 0.]\n",
            " [0. 0. 0. 0. 0. 0. 0.]\n",
            " [0. 0. 0. 0. 0. 0. 0.]\n",
            " [0. 0. 0. 0. 0. 0. 0.]]\n",
            "[[0. 0. 0. 0. 0. 0. 0.]\n",
            " [0. 0. 0. 0. 0. 0. 0.]\n",
            " [0. 0. 0. 0. 0. 0. 0.]\n",
            " [0. 0. 0. 0. 0. 0. 0.]\n",
            " [0. 0. 0. 0. 0. 0. 0.]\n",
            " [0. 0. 0. 0. 0. 0. 0.]]\n",
            "[[0. 0. 0. 0. 0. 0. 0.]\n",
            " [0. 0. 0. 0. 0. 0. 0.]\n",
            " [0. 0. 0. 0. 0. 0. 0.]\n",
            " [0. 0. 0. 0. 0. 0. 0.]\n",
            " [0. 0. 0. 0. 0. 0. 0.]\n",
            " [0. 0. 0. 0. 0. 0. 0.]]\n",
            "[[0. 0. 0. 0. 0. 0. 0.]\n",
            " [0. 0. 0. 0. 0. 0. 0.]\n",
            " [0. 0. 0. 0. 0. 0. 0.]\n",
            " [0. 0. 0. 0. 0. 0. 0.]\n",
            " [0. 0. 0. 0. 0. 0. 0.]\n",
            " [0. 0. 0. 0. 0. 0. 0.]]\n",
            "[[0. 0. 0. 0. 0. 0. 0.]\n",
            " [0. 0. 0. 0. 0. 0. 0.]\n",
            " [0. 0. 0. 0. 0. 0. 0.]\n",
            " [0. 0. 0. 0. 0. 0. 0.]\n",
            " [0. 0. 0. 0. 0. 0. 0.]\n",
            " [0. 0. 0. 0. 0. 0. 0.]]\n",
            "[[0. 0. 0. 0. 0. 0. 0.]\n",
            " [0. 0. 0. 0. 0. 0. 0.]\n",
            " [0. 0. 0. 0. 0. 0. 0.]\n",
            " [0. 0. 0. 0. 0. 0. 0.]\n",
            " [0. 0. 0. 0. 0. 0. 0.]\n",
            " [0. 0. 0. 0. 0. 0. 0.]]\n",
            "[[0. 0. 0. 0. 0. 0. 0.]\n",
            " [0. 0. 0. 0. 0. 0. 0.]\n",
            " [0. 0. 0. 0. 0. 0. 0.]\n",
            " [0. 0. 0. 0. 0. 0. 0.]\n",
            " [0. 0. 0. 0. 0. 0. 0.]\n",
            " [0. 0. 0. 0. 0. 0. 0.]]\n",
            "[[1. 0. 0. 0. 0. 0. 0. 0. 0. 0. 0.]\n",
            " [1. 0. 0. 0. 0. 0. 0. 0. 0. 0. 0.]\n",
            " [1. 0. 0. 0. 0. 0. 0. 0. 0. 0. 0.]\n",
            " [1. 0. 0. 0. 0. 0. 0. 0. 0. 0. 0.]\n",
            " [1. 0. 0. 0. 0. 0. 0. 0. 0. 0. 0.]\n",
            " [1. 0. 0. 0. 0. 0. 0. 0. 0. 0. 0.]\n",
            " [0. 0. 0. 0. 0. 0. 0. 0. 0. 0. 0.]\n",
            " [1. 0. 0. 0. 0. 0. 0. 0. 0. 0. 0.]\n",
            " [0. 1. 0. 0. 0. 0. 0. 0. 0. 0. 0.]\n",
            " [1. 0. 0. 0. 0. 0. 0. 0. 0. 0. 0.]\n",
            " [1. 0. 0. 0. 0. 0. 0. 0. 0. 0. 0.]\n",
            " [1. 0. 0. 0. 0. 0. 0. 0. 0. 0. 0.]\n",
            " [1. 0. 0. 0. 0. 0. 0. 0. 0. 0. 0.]\n",
            " [0. 0. 0. 0. 0. 0. 0. 0. 0. 0. 0.]\n",
            " [1. 0. 0. 0. 0. 0. 0. 0. 0. 0. 0.]\n",
            " [1. 0. 0. 0. 0. 0. 0. 0. 0. 0. 0.]\n",
            " [1. 0. 0. 0. 0. 0. 0. 0. 0. 0. 0.]\n",
            " [1. 0. 0. 0. 0. 0. 0. 0. 0. 0. 0.]\n",
            " [1. 0. 0. 0. 0. 0. 0. 0. 0. 0. 0.]\n",
            " [1. 0. 0. 0. 0. 0. 0. 0. 0. 0. 0.]\n",
            " [0. 0. 0. 0. 0. 0. 0. 0. 0. 0. 0.]\n",
            " [1. 0. 0. 0. 0. 0. 0. 0. 0. 0. 0.]\n",
            " [1. 0. 0. 0. 0. 0. 0. 0. 0. 0. 0.]\n",
            " [0. 0. 1. 0. 0. 0. 0. 0. 0. 0. 0.]\n",
            " [0. 0. 1. 0. 0. 0. 0. 0. 0. 0. 0.]\n",
            " [0. 0. 1. 0. 0. 0. 0. 0. 0. 0. 0.]\n",
            " [1. 0. 0. 0. 0. 0. 0. 0. 0. 0. 0.]\n",
            " [0. 0. 0. 0. 0. 0. 0. 0. 0. 0. 0.]\n",
            " [1. 0. 0. 0. 0. 0. 0. 0. 0. 0. 0.]\n",
            " [1. 0. 0. 0. 0. 0. 0. 0. 0. 0. 0.]\n",
            " [0. 0. 0. 1. 0. 0. 0. 0. 0. 0. 0.]\n",
            " [0. 0. 0. 1. 0. 0. 0. 0. 0. 0. 0.]\n",
            " [0. 0. 0. 1. 0. 0. 0. 0. 0. 0. 0.]\n",
            " [1. 0. 0. 0. 0. 0. 0. 0. 0. 0. 0.]\n",
            " [0. 0. 0. 0. 0. 0. 0. 0. 0. 0. 0.]\n",
            " [1. 0. 0. 0. 0. 0. 0. 0. 0. 0. 0.]\n",
            " [1. 0. 0. 0. 0. 0. 0. 0. 0. 0. 0.]\n",
            " [0. 0. 0. 1. 0. 0. 0. 0. 0. 0. 0.]\n",
            " [0. 0. 0. 1. 0. 0. 0. 0. 0. 0. 0.]\n",
            " [0. 0. 0. 1. 0. 0. 0. 0. 0. 0. 0.]\n",
            " [1. 0. 0. 0. 0. 0. 0. 0. 0. 0. 0.]\n",
            " [0. 0. 0. 0. 0. 0. 0. 0. 0. 0. 0.]]\n"
          ]
        }
      ],
      "source": [
        "#print(tf.reshape(tf.transpose(y_true2,perm=[0,2,1]),(42,11)))\n",
        "for i in range(11):\n",
        "    print(y_dat2[0][:,:,i])\n",
        "    \n",
        "print(np.reshape(y_dat2[0],(42,11)))\n",
        "#print(np.argmax(yi,axis=-1))\n",
        "#plt.imshow(np.argmax(yi,axis=-1),cmap=maskmap)"
      ]
    },
    {
      "cell_type": "code",
      "execution_count": 32,
      "id": "19d02770",
      "metadata": {
        "colab": {
          "base_uri": "https://localhost:8080/"
        },
        "id": "19d02770",
        "outputId": "d6705dc5-e97b-4723-c0d1-afad827eae8a"
      },
      "outputs": [
        {
          "output_type": "stream",
          "name": "stdout",
          "text": [
            "(2, 2, 3)\n",
            "(4, 3)\n",
            "[[0 1 0]\n",
            " [0 0 0]\n",
            " [1 0 1]\n",
            " [1 0 0]]\n",
            "[[0.05 0.95 0.  ]\n",
            " [0.7  0.   1.  ]\n",
            " [0.9  0.8  0.1 ]\n",
            " [0.1  0.5  0.4 ]]\n"
          ]
        },
        {
          "output_type": "execute_result",
          "data": {
            "text/plain": [
              "1.4843494"
            ]
          },
          "metadata": {},
          "execution_count": 32
        }
      ],
      "source": [
        "cce = tf.keras.losses.CategoricalCrossentropy()\n",
        "\n",
        "a = [[[0, 1,0], [0,0,0]], [[1, 0,1], [1,0,0]]]\n",
        "b = [[[0.05, 0.95,0], [0.7,0,1]], [[0.9, 0.8,0.1], [0.1,0.5,0.4]]]\n",
        "a2 = tf.reshape(a,(4,3))\n",
        "b2 = tf.reshape(b,(4,3))  #(batches, classes)\n",
        "\n",
        "print(np.array(a).shape)\n",
        "print(a2.shape)\n",
        "print(a2.numpy())\n",
        "print(b2.numpy())\n",
        "cce(a2,b2).numpy()"
      ]
    },
    {
      "cell_type": "code",
      "execution_count": 33,
      "id": "47c367ab",
      "metadata": {
        "colab": {
          "base_uri": "https://localhost:8080/",
          "height": 404
        },
        "id": "47c367ab",
        "outputId": "d62d63ba-de19-497f-b1e4-fdc311f7dcb9"
      },
      "outputs": [
        {
          "output_type": "stream",
          "name": "stdout",
          "text": [
            "tf.Tensor(\n",
            "[[0 0 0 0 0 0 0]\n",
            " [0 0 0 0 0 0 0]\n",
            " [0 0 0 0 0 0 0]\n",
            " [0 0 2 2 2 0 0]\n",
            " [0 0 3 3 3 0 0]\n",
            " [0 0 3 3 3 0 0]], shape=(6, 7), dtype=int64)\n"
          ]
        },
        {
          "output_type": "execute_result",
          "data": {
            "text/plain": [
              "<matplotlib.image.AxesImage at 0x7f7bf0a6a690>"
            ]
          },
          "metadata": {},
          "execution_count": 33
        },
        {
          "output_type": "display_data",
          "data": {
            "text/plain": [
              "<Figure size 432x288 with 1 Axes>"
            ],
            "image/png": "[encoded data removed]"
          },
          "metadata": {
            "needs_background": "light"
          }
        }
      ],
      "source": [
        "#un-hot encode\n",
        "print(tf.math.argmax(yi,axis=-1))\n",
        "plt.imshow(np.argmax(yi,axis=-1))"
      ]
    },
    {
      "cell_type": "code",
      "execution_count": 34,
      "id": "4ea2e770",
      "metadata": {
        "colab": {
          "base_uri": "https://localhost:8080/"
        },
        "id": "4ea2e770",
        "outputId": "0c920050-ec22-4c31-d1df-e669c833ef24"
      },
      "outputs": [
        {
          "output_type": "stream",
          "name": "stdout",
          "text": [
            "Model: \"sequential_3\"\n",
            "_________________________________________________________________\n",
            " Layer (type)                Output Shape              Param #   \n",
            "=================================================================\n",
            " dense_4 (Dense)             (None, 10)                40        \n",
            "                                                                 \n",
            " dense_5 (Dense)             (None, 1)                 11        \n",
            "                                                                 \n",
            "=================================================================\n",
            "Total params: 51\n",
            "Trainable params: 51\n",
            "Non-trainable params: 0\n",
            "_________________________________________________________________\n",
            "4/4 [==============================] - 0s 3ms/step - loss: 0.0805\n"
          ]
        },
        {
          "output_type": "execute_result",
          "data": {
            "text/plain": [
              "<keras.callbacks.History at 0x7f7bf0a324d0>"
            ]
          },
          "metadata": {},
          "execution_count": 34
        }
      ],
      "source": [
        "#test building a model\n",
        "test = Sequential()\n",
        "test.add(Dense(10,input_shape=(3,)))\n",
        "test.add(Dense(1,activation='sigmoid'))\n",
        "test.compile(loss='mse',optimizer='adam')\n",
        "test.summary()\n",
        "\n",
        "xt = np.random.rand(100,3)\n",
        "yt = np.random.rand(100,1)\n",
        "test.fit(xt,yt)"
      ]
    },
    {
      "cell_type": "code",
      "execution_count": null,
      "id": "b3038f54",
      "metadata": {
        "id": "b3038f54"
      },
      "outputs": [],
      "source": [
        "mask_loss"
      ]
    }
  ],
  "metadata": {
    "kernelspec": {
      "display_name": "MCIntEvo",
      "language": "python",
      "name": "mcintevo"
    },
    "language_info": {
      "codemirror_mode": {
        "name": "ipython",
        "version": 3
      },
      "file_extension": ".py",
      "mimetype": "text/x-python",
      "name": "python",
      "nbconvert_exporter": "python",
      "pygments_lexer": "ipython3",
      "version": "3.9.12"
    },
    "colab": {
      "name": "2D Test House Masker + Painter.ipynb",
      "provenance": [],
      "include_colab_link": true
    }
  },
  "nbformat": 4,
  "nbformat_minor": 5
}