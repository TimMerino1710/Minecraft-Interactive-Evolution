{
 "cells": [
  {
   "cell_type": "markdown",
   "id": "21a3b595",
   "metadata": {
    "colab_type": "text",
    "id": "view-in-github"
   },
   "source": [
    "<a href=\"https://colab.research.google.com/github/kershockr/Minecraft-Interactive-Evolution/blob/v.1b/2D_Test_House_Masker_%2B_Painter.ipynb\" target=\"_parent\"><img src=\"https://colab.research.google.com/assets/colab-badge.svg\" alt=\"Open In Colab\"/></a>"
   ]
  },
  {
   "cell_type": "code",
   "execution_count": 1,
   "id": "8320994e",
   "metadata": {
    "id": "8320994e"
   },
   "outputs": [],
   "source": [
    "import tensorflow as tf\n",
    "import numpy as np\n",
    "import matplotlib.pyplot as plt\n",
    "\n",
    "%matplotlib inline"
   ]
  },
  {
   "cell_type": "code",
   "execution_count": 2,
   "id": "7beb6337",
   "metadata": {
    "colab": {
     "base_uri": "https://localhost:8080/",
     "height": 282
    },
    "id": "7beb6337",
    "outputId": "a58b5348-7f39-4bbf-9060-4fa9f1fe1206"
   },
   "outputs": [
    {
     "data": {
      "text/plain": [
       "<matplotlib.image.AxesImage at 0x155e45070>"
      ]
     },
     "execution_count": 2,
     "metadata": {},
     "output_type": "execute_result"
    },
    {
     "data": {
      "image/png": "[encoded data removed]",
      "text/plain": [
       "<Figure size 432x288 with 1 Axes>"
      ]
     },
     "metadata": {
      "needs_background": "light"
     },
     "output_type": "display_data"
    }
   ],
   "source": [
    "donut = np.array([[0,0,0,0,0,0,0],[0,0,1,1,1,0,0],[0,1,1,0,1,1,0],[0,1,1,0,1,1,0],[0,0,1,1,1,0,0],[0,0,0,0,0,0,0]])\n",
    "house = np.array([[0,0,0,0,0,0,0],[0,0,0,0,0,0,0],[0,0,1,1,1,0,0],[0,1,1,1,1,1,0],[0,0,1,1,1,0,0],[0,0,1,1,1,0,0]])\n",
    "square = np.array([[0,0,0,0,0,0,0],[0,0,0,0,0,0,0],[0,0,0,0,0,0,0],[0,0,1,1,1,0,0],[0,0,1,1,1,0,0],[0,0,1,1,1,0,0]])\n",
    "plt.imshow(house,cmap='gray')"
   ]
  },
  {
   "cell_type": "code",
   "execution_count": 3,
   "id": "e4ca923c",
   "metadata": {
    "id": "e4ca923c"
   },
   "outputs": [],
   "source": [
    "from matplotlib.colors import ListedColormap, BoundaryNorm\n",
    "import random\n",
    "\n",
    "block_color_set = ['black']\n",
    "pokemon = [\"#ff0000\",\"#f6bd20\",\"#9c5200\",\"#de9400\",\"#623108\",\"#62d5b4\",\"#83eec5\",\"#184a4a\",\"#73ac31\",\"#e65a41\",\"#29739c\"]\n",
    "random.shuffle(pokemon)\n",
    "block_color_set += pokemon\n",
    "maskmap = ListedColormap(block_color_set,N=11)\n",
    "#norm = BoundaryNorm(list(range(12)), 11)\n"
   ]
  },
  {
   "cell_type": "code",
   "execution_count": 4,
   "id": "s8Z82HqqGw69",
   "metadata": {
    "colab": {
     "base_uri": "https://localhost:8080/"
    },
    "id": "s8Z82HqqGw69",
    "outputId": "b9cb448c-2f8c-4c99-aad9-4d09b035d825"
   },
   "outputs": [
    {
     "data": {
      "text/plain": [
       "[1, 2, 3, 4, 5, 6, 7, 8, 9, 10]"
      ]
     },
     "execution_count": 4,
     "metadata": {},
     "output_type": "execute_result"
    }
   ],
   "source": [
    "list(range(1,11))"
   ]
  },
  {
   "cell_type": "code",
   "execution_count": 73,
   "id": "7618c69f",
   "metadata": {
    "id": "7618c69f"
   },
   "outputs": [],
   "source": [
    "def weirdHouse():\n",
    "    new_sq = square.copy()\n",
    "    i = 0\n",
    "    while random.random() < 0.75 and i < 10:\n",
    "        c = random.randint(0,6)\n",
    "        r = random.randint(1,4)\n",
    "        new_sq[r,c] = 1\n",
    "        i+=1\n",
    "    return new_sq\n",
    "\n",
    "def colorHouse():\n",
    "\n",
    "    cs = list(range(1,11))\n",
    "    random.shuffle(cs)\n",
    "    canvas = np.zeros((6,7))\n",
    "    #rows\n",
    "    for x in range(7):\n",
    "        canvas[4:,x] = random.choice(cs[2:-1])\n",
    "    #any above\n",
    "    for x in range(7):\n",
    "        for y in [0,1]:\n",
    "            canvas[y,x] = random.choice(cs[1:])\n",
    "    canvas[np.where(square==1)] = cs[0] #color base\n",
    "    canvas[5,1] = cs[0]\n",
    "    canvas[5,5] = cs[0]\n",
    "    canvas[3,:] = cs[-1]  #top\n",
    "    for x in range(7):\n",
    "        canvas[2,x] = random.choice(cs[-3:])\n",
    "        \n",
    "    return canvas\n",
    "\n",
    "# split into 3 sections with different colors\n",
    "def toyColorHouse():\n",
    "\n",
    "    # # randomly shuffled list from 1 to 10\n",
    "    # cs = list(range(1,11))\n",
    "    # random.shuffle(cs)\n",
    "\n",
    "    # empty canvas\n",
    "    canvas = np.zeros((6,7))\n",
    "    canvas[:2, :] = 1\n",
    "    canvas[2:4, :] = 2\n",
    "    canvas[4:, :] = 3\n",
    "    # #rows\n",
    "    # for x in range(7):\n",
    "    #     canvas[4:,x] = random.choice(cs[2:-1])\n",
    "    # #any above\n",
    "    # for x in range(7):\n",
    "    #     for y in [0,1]:\n",
    "    #         canvas[y,x] = random.choice(cs[1:])\n",
    "    # canvas[np.where(square==1)] = cs[0] #color base\n",
    "    # canvas[5,1] = cs[0]\n",
    "    # canvas[5,5] = cs[0]\n",
    "    # canvas[3,:] = cs[-1]  #top\n",
    "    # for x in range(7):\n",
    "    #     canvas[2,x] = random.choice(cs[-3:])\n",
    "        \n",
    "    return canvas\n",
    "    \n",
    "def showMask(mask,img,debug=False):\n",
    "#     v = np.unique(img)\n",
    "    v = list(range(11))\n",
    "    norm = BoundaryNorm(v, len(v)-1)\n",
    "    \n",
    "    c = ['gray',maskmap,maskmap]\n",
    "    m = [mask,img, mask*img]\n",
    "    n = [None,norm,norm]\n",
    "    \n",
    "    plt.figure(figsize=(5,2))\n",
    "    for i in range(3):\n",
    "        plt.subplot(1,3,i+1)\n",
    "        plt.xticks([])\n",
    "        plt.yticks([])\n",
    "        #plt.imshow(np.array(m[i]).squeeze(),cmap=c[i],norm=n[i])\n",
    "        plt.imshow(np.array(m[i]).squeeze(),cmap=c[i],vmin=0,vmax=(10 if i > 0 else 1))\n",
    "    plt.show()\n",
    "    \n",
    "    if debug:\n",
    "        print(img)\n",
    "        print(mask*img)\n",
    "     \n",
    "    \n",
    "#assum 6x7 shape\n",
    "def encode(l):\n",
    "    b = np.zeros((6,7,11))\n",
    "    for i in range(42):\n",
    "        c = i%6\n",
    "        r = i//7\n",
    "        v = int(l[r,c])\n",
    "        b[r,c,v]=1\n",
    "    return b"
   ]
  },
  {
   "cell_type": "code",
   "execution_count": 74,
   "id": "3720d9ee",
   "metadata": {
    "colab": {
     "base_uri": "https://localhost:8080/",
     "height": 105
    },
    "id": "3720d9ee",
    "outputId": "7c8d27d4-d520-44c0-8b73-d43e8810ca38"
   },
   "outputs": [
    {
     "data": {
      "image/png": "[encoded data removed]",
      "text/plain": [
       "<Figure size 360x144 with 3 Axes>"
      ]
     },
     "metadata": {},
     "output_type": "display_data"
    }
   ],
   "source": [
    "#level = np.random.randint(12, size=(6, 7))\n",
    "# level = colorHouse()\n",
    "level = toyColorHouse()\n",
    "showMask(house,level)"
   ]
  },
  {
   "cell_type": "code",
   "execution_count": 75,
   "id": "10b93e13",
   "metadata": {
    "id": "10b93e13"
   },
   "outputs": [],
   "source": [
    "#make lots of weird houses as training data\n",
    "NUM_HOUSES = 2500\n",
    "X_dat = []\n",
    "y_dat = []\n",
    "y_dat2 = []\n",
    "for i in range(NUM_HOUSES):\n",
    "    mask_house = weirdHouse()\n",
    "    bin_house = np.expand_dims(mask_house,axis=-1)\n",
    "    # full_color = colorHouse()\n",
    "    full_color = toyColorHouse()\n",
    "    #full_color = np.random.randint(12, size=(6, 7))\n",
    "    cat_house = full_color*bin_house.squeeze()\n",
    "    cat_house2 = encode(cat_house)\n",
    "    \n",
    "    X_dat.append(bin_house)\n",
    "    y_dat.append(full_color)\n",
    "    y_dat2.append(cat_house2)\n",
    "    \n",
    "X_dat = np.array(X_dat)\n",
    "y_dat = np.array(y_dat)\n",
    "y_dat2 = np.array(y_dat2)"
   ]
  },
  {
   "cell_type": "code",
   "execution_count": 76,
   "id": "025d43a4",
   "metadata": {
    "colab": {
     "base_uri": "https://localhost:8080/",
     "height": 1000
    },
    "id": "025d43a4",
    "outputId": "8aa292ff-e46d-4515-e2c0-b43526a42cd5"
   },
   "outputs": [
    {
     "data": {
      "image/png": "[encoded data removed]",
      "text/plain": [
       "<Figure size 360x144 with 3 Axes>"
      ]
     },
     "metadata": {},
     "output_type": "display_data"
    },
    {
     "name": "stdout",
     "output_type": "stream",
     "text": [
      "[[ 5.  5.  5.  8.  4.  6.  2.]\n",
      " [ 2.  7.  5.  1.  5.  7. 10.]\n",
      " [ 2.  2.  6.  8.  2.  2.  8.]\n",
      " [ 8.  8.  8.  8.  8.  8.  8.]\n",
      " [ 5. 10.  3.  3.  3.  6.  2.]\n",
      " [ 5.  3.  3.  3.  3.  3.  2.]]\n",
      "[[0. 0. 0. 0. 0. 0. 0.]\n",
      " [0. 0. 0. 0. 0. 0. 0.]\n",
      " [0. 0. 0. 0. 0. 0. 0.]\n",
      " [8. 0. 8. 8. 8. 0. 0.]\n",
      " [0. 0. 3. 3. 3. 0. 0.]\n",
      " [0. 0. 3. 3. 3. 0. 0.]]\n"
     ]
    },
    {
     "data": {
      "image/png": "[encoded data removed]",
      "text/plain": [
       "<Figure size 360x144 with 3 Axes>"
      ]
     },
     "metadata": {},
     "output_type": "display_data"
    },
    {
     "name": "stdout",
     "output_type": "stream",
     "text": [
      "[[10.  9.  9.  1.  5.  1. 10.]\n",
      " [ 5.  9.  8.  2.  8.  7.  2.]\n",
      " [ 4.  4.  5.  4.  9.  5.  4.]\n",
      " [ 5.  5.  5.  5.  5.  5.  5.]\n",
      " [ 8.  9.  6.  6.  6.  1.  9.]\n",
      " [ 8.  6.  6.  6.  6.  6.  9.]]\n",
      "[[0. 0. 0. 0. 0. 0. 0.]\n",
      " [0. 0. 0. 0. 0. 7. 2.]\n",
      " [0. 0. 0. 0. 0. 0. 0.]\n",
      " [0. 0. 5. 5. 5. 0. 5.]\n",
      " [0. 0. 6. 6. 6. 0. 0.]\n",
      " [0. 0. 6. 6. 6. 0. 0.]]\n"
     ]
    },
    {
     "data": {
      "image/png": "[encoded data removed]",
      "text/plain": [
       "<Figure size 360x144 with 3 Axes>"
      ]
     },
     "metadata": {},
     "output_type": "display_data"
    },
    {
     "name": "stdout",
     "output_type": "stream",
     "text": [
      "[[ 8.  7. 10.  1.  1.  6. 10.]\n",
      " [10.  5.  7.  8.  5.  7.  3.]\n",
      " [10.  6.  8.  8. 10.  8. 10.]\n",
      " [10. 10. 10. 10. 10. 10. 10.]\n",
      " [ 6.  6.  4.  4.  4.  3.  5.]\n",
      " [ 6.  4.  4.  4.  4.  4.  5.]]\n",
      "[[ 0.  0.  0.  0.  0.  0.  0.]\n",
      " [ 0.  0.  0.  0.  0.  0.  0.]\n",
      " [ 0.  0.  0.  0.  0.  0.  0.]\n",
      " [ 0.  0. 10. 10. 10.  0.  0.]\n",
      " [ 0.  0.  4.  4.  4.  0.  0.]\n",
      " [ 0.  0.  4.  4.  4.  0.  0.]]\n"
     ]
    },
    {
     "data": {
      "image/png": "[encoded data removed]",
      "text/plain": [
       "<Figure size 360x144 with 3 Axes>"
      ]
     },
     "metadata": {},
     "output_type": "display_data"
    },
    {
     "name": "stdout",
     "output_type": "stream",
     "text": [
      "[[ 9.  9.  1.  8.  8.  4.  8.]\n",
      " [ 5.  1.  1.  1.  4.  5.  1.]\n",
      " [ 5.  1.  5.  1.  5.  1.  5.]\n",
      " [ 5.  5.  5.  5.  5.  5.  5.]\n",
      " [ 7.  3. 10. 10. 10.  8.  4.]\n",
      " [ 7. 10. 10. 10. 10. 10.  4.]]\n",
      "[[ 0.  0.  0.  0.  0.  0.  0.]\n",
      " [ 0.  0.  1.  0.  0.  0.  1.]\n",
      " [ 0.  0.  0.  0.  0.  0.  0.]\n",
      " [ 0.  0.  5.  5.  5.  0.  0.]\n",
      " [ 0.  0. 10. 10. 10.  0.  0.]\n",
      " [ 0.  0. 10. 10. 10.  0.  0.]]\n"
     ]
    },
    {
     "data": {
      "image/png": "[encoded data removed]",
      "text/plain": [
       "<Figure size 360x144 with 3 Axes>"
      ]
     },
     "metadata": {},
     "output_type": "display_data"
    },
    {
     "name": "stdout",
     "output_type": "stream",
     "text": [
      "[[ 1.  5.  5.  1.  5.  5.  8.]\n",
      " [ 8.  4.  9.  8.  9.  5.  8.]\n",
      " [ 4.  3. 10. 10. 10. 10.  3.]\n",
      " [ 4.  4.  4.  4.  4.  4.  4.]\n",
      " [ 1.  1.  7.  7.  7.  2.  9.]\n",
      " [ 1.  7.  7.  7.  7.  7.  9.]]\n",
      "[[0. 0. 0. 0. 0. 0. 0.]\n",
      " [0. 0. 0. 0. 9. 0. 0.]\n",
      " [0. 0. 0. 0. 0. 0. 0.]\n",
      " [0. 4. 4. 4. 4. 0. 0.]\n",
      " [0. 0. 7. 7. 7. 0. 0.]\n",
      " [0. 0. 7. 7. 7. 0. 0.]]\n"
     ]
    }
   ],
   "source": [
    "#show a few\n",
    "for i in range(5):\n",
    "    rh = random.choice(range(NUM_HOUSES))\n",
    "    showMask(X_dat[rh].squeeze(),y_dat[rh])\n",
    "    print(y_dat[rh])\n",
    "    print(X_dat[rh].squeeze()*y_dat[rh])"
   ]
  },
  {
   "cell_type": "code",
   "execution_count": 77,
   "id": "b4dbe91f",
   "metadata": {
    "colab": {
     "base_uri": "https://localhost:8080/"
    },
    "id": "b4dbe91f",
    "outputId": "ac16de93-cfe8-4c60-bd2c-1d2cda82fedd"
   },
   "outputs": [
    {
     "name": "stdout",
     "output_type": "stream",
     "text": [
      "Model: \"sequential_15\"\n",
      "_________________________________________________________________\n",
      " Layer (type)                Output Shape              Param #   \n",
      "=================================================================\n",
      " conv2d_45 (Conv2D)          (None, 6, 7, 32)          160       \n",
      "                                                                 \n",
      " conv2d_46 (Conv2D)          (None, 6, 7, 16)          2064      \n",
      "                                                                 \n",
      " conv2d_47 (Conv2D)          (None, 6, 7, 11)          715       \n",
      "                                                                 \n",
      " dense_15 (Dense)            (None, 6, 7, 11)          132       \n",
      "                                                                 \n",
      "=================================================================\n",
      "Total params: 3,071\n",
      "Trainable params: 3,071\n",
      "Non-trainable params: 0\n",
      "_________________________________________________________________\n"
     ]
    }
   ],
   "source": [
    "from tensorflow.keras.models import Sequential\n",
    "from tensorflow.keras.layers import Dense, Input, Conv2D\n",
    "from keras import backend as K\n",
    "\n",
    "\n",
    "#train the masking model\n",
    "maskModel = Sequential()\n",
    "maskModel.add(Input(shape=(6,7,1)))\n",
    "maskModel.add(Conv2D(32,2,activation=\"relu\", padding=\"same\"))\n",
    "maskModel.add(Conv2D(16,2,activation=\"relu\", padding=\"same\"))\n",
    "maskModel.add(Conv2D(11,2,activation=\"sigmoid\", padding=\"same\"))\n",
    "#maskModel.add(Dense(11,activation=\"sigmoid\"))\n",
    "maskModel.add(Dense(11,activation=\"softmax\"))\n",
    "\n",
    "def mask_loss(y_true,y_pred):\n",
    "    zero = tf.constant(0, dtype=tf.float32)\n",
    "    y_true2 = tf.cast(y_true,tf.float32)\n",
    "    y_pred2 = tf.cast(y_pred,tf.float32)\n",
    "    mask = tf.cast(tf.where(tf.not_equal(y_true2, zero),1,0),tf.float32)\n",
    "    mask_pred = tf.math.multiply(y_pred2,mask)\n",
    "    #return -(97.0 * y_true2 * K.log(mask_pred) + 3.0 * (1.0 - y_true2) * K.log(1.0 - mask_pred)) / 100.0 #wbce\n",
    "    #return tf.math.reduce_mean(tf.math.abs(y_true2 - tf.math.multiply(y_pred2,mask)) )   #mse\n",
    "    return tf.losses.mean_squared_error(y_true2,mask_pred)\n",
    "maskModel.compile(optimizer='adam',loss=mask_loss)\n",
    "maskModel.summary()"
   ]
  },
  {
   "cell_type": "code",
   "execution_count": 78,
   "id": "e72c763e",
   "metadata": {
    "colab": {
     "base_uri": "https://localhost:8080/"
    },
    "id": "e72c763e",
    "outputId": "17c5c7c8-7857-4fdb-9f24-cf8e1a222618"
   },
   "outputs": [
    {
     "name": "stdout",
     "output_type": "stream",
     "text": [
      "Epoch 1/100\n",
      "157/157 [==============================] - 1s 2ms/step - loss: 0.0504\n",
      "Epoch 2/100\n",
      "157/157 [==============================] - 0s 3ms/step - loss: 0.0258\n",
      "Epoch 3/100\n",
      "157/157 [==============================] - 0s 3ms/step - loss: 0.0235\n",
      "Epoch 4/100\n",
      "157/157 [==============================] - 0s 2ms/step - loss: 0.0233\n",
      "Epoch 5/100\n",
      "157/157 [==============================] - 0s 2ms/step - loss: 0.0232\n",
      "Epoch 6/100\n",
      "157/157 [==============================] - 0s 2ms/step - loss: 0.0232\n",
      "Epoch 7/100\n",
      "157/157 [==============================] - 0s 3ms/step - loss: 0.0232\n",
      "Epoch 8/100\n",
      "157/157 [==============================] - 0s 2ms/step - loss: 0.0232\n",
      "Epoch 9/100\n",
      "157/157 [==============================] - 0s 2ms/step - loss: 0.0231\n",
      "Epoch 10/100\n",
      "157/157 [==============================] - 0s 2ms/step - loss: 0.0224\n",
      "Epoch 11/100\n",
      "157/157 [==============================] - 0s 2ms/step - loss: 0.0204\n",
      "Epoch 12/100\n",
      "157/157 [==============================] - 0s 2ms/step - loss: 0.0191\n",
      "Epoch 13/100\n",
      "157/157 [==============================] - 0s 3ms/step - loss: 0.0190\n",
      "Epoch 14/100\n",
      "157/157 [==============================] - 0s 3ms/step - loss: 0.0189\n",
      "Epoch 15/100\n",
      "157/157 [==============================] - 0s 2ms/step - loss: 0.0189\n",
      "Epoch 16/100\n",
      "157/157 [==============================] - 0s 3ms/step - loss: 0.0189\n",
      "Epoch 17/100\n",
      "157/157 [==============================] - 0s 2ms/step - loss: 0.0189\n",
      "Epoch 18/100\n",
      "157/157 [==============================] - 0s 3ms/step - loss: 0.0189\n",
      "Epoch 19/100\n",
      "157/157 [==============================] - 0s 3ms/step - loss: 0.0189\n",
      "Epoch 20/100\n",
      "157/157 [==============================] - 0s 2ms/step - loss: 0.0189\n",
      "Epoch 21/100\n",
      "157/157 [==============================] - 0s 2ms/step - loss: 0.0188\n",
      "Epoch 22/100\n",
      "157/157 [==============================] - 0s 2ms/step - loss: 0.0188\n",
      "Epoch 23/100\n",
      "157/157 [==============================] - 0s 2ms/step - loss: 0.0188\n",
      "Epoch 24/100\n",
      "157/157 [==============================] - 0s 3ms/step - loss: 0.0188\n",
      "Epoch 25/100\n",
      "157/157 [==============================] - 0s 3ms/step - loss: 0.0188\n",
      "Epoch 26/100\n",
      "157/157 [==============================] - 1s 4ms/step - loss: 0.0188\n",
      "Epoch 27/100\n",
      "157/157 [==============================] - 1s 3ms/step - loss: 0.0188\n",
      "Epoch 28/100\n",
      "157/157 [==============================] - 1s 3ms/step - loss: 0.0188\n",
      "Epoch 29/100\n",
      "157/157 [==============================] - 1s 3ms/step - loss: 0.0188\n",
      "Epoch 30/100\n",
      "157/157 [==============================] - 0s 3ms/step - loss: 0.0188\n",
      "Epoch 31/100\n",
      "157/157 [==============================] - 0s 3ms/step - loss: 0.0188\n",
      "Epoch 32/100\n",
      "157/157 [==============================] - 0s 3ms/step - loss: 0.0188\n",
      "Epoch 33/100\n",
      "157/157 [==============================] - 0s 3ms/step - loss: 0.0188\n",
      "Epoch 34/100\n",
      "157/157 [==============================] - 0s 3ms/step - loss: 0.0188\n",
      "Epoch 35/100\n",
      "157/157 [==============================] - 0s 2ms/step - loss: 0.0188\n",
      "Epoch 36/100\n",
      "157/157 [==============================] - 0s 3ms/step - loss: 0.0188\n",
      "Epoch 37/100\n",
      "157/157 [==============================] - 0s 3ms/step - loss: 0.0188\n",
      "Epoch 38/100\n",
      "157/157 [==============================] - 0s 3ms/step - loss: 0.0188\n",
      "Epoch 39/100\n",
      "157/157 [==============================] - 0s 3ms/step - loss: 0.0188\n",
      "Epoch 40/100\n",
      "157/157 [==============================] - 0s 3ms/step - loss: 0.0188\n",
      "Epoch 41/100\n",
      "157/157 [==============================] - 0s 3ms/step - loss: 0.0188\n",
      "Epoch 42/100\n",
      "157/157 [==============================] - 0s 3ms/step - loss: 0.0188\n",
      "Epoch 43/100\n",
      "157/157 [==============================] - 0s 3ms/step - loss: 0.0188\n",
      "Epoch 44/100\n",
      "157/157 [==============================] - 0s 3ms/step - loss: 0.0188\n",
      "Epoch 45/100\n",
      "157/157 [==============================] - 0s 3ms/step - loss: 0.0188\n",
      "Epoch 46/100\n",
      "157/157 [==============================] - 0s 3ms/step - loss: 0.0188\n",
      "Epoch 47/100\n",
      "157/157 [==============================] - 0s 3ms/step - loss: 0.0188\n",
      "Epoch 48/100\n",
      "157/157 [==============================] - 0s 3ms/step - loss: 0.0188\n",
      "Epoch 49/100\n",
      "157/157 [==============================] - 0s 3ms/step - loss: 0.0188\n",
      "Epoch 50/100\n",
      "157/157 [==============================] - 0s 3ms/step - loss: 0.0188\n",
      "Epoch 51/100\n",
      "157/157 [==============================] - 0s 3ms/step - loss: 0.0188\n",
      "Epoch 52/100\n",
      "157/157 [==============================] - 0s 3ms/step - loss: 0.0188\n",
      "Epoch 53/100\n",
      "157/157 [==============================] - 0s 3ms/step - loss: 0.0188\n",
      "Epoch 54/100\n",
      "157/157 [==============================] - 0s 3ms/step - loss: 0.0188\n",
      "Epoch 55/100\n",
      "157/157 [==============================] - 0s 3ms/step - loss: 0.0188\n",
      "Epoch 56/100\n",
      "157/157 [==============================] - 0s 3ms/step - loss: 0.0188\n",
      "Epoch 57/100\n",
      "157/157 [==============================] - 0s 3ms/step - loss: 0.0188\n",
      "Epoch 58/100\n",
      "157/157 [==============================] - 0s 3ms/step - loss: 0.0188\n",
      "Epoch 59/100\n",
      "157/157 [==============================] - 0s 3ms/step - loss: 0.0188\n",
      "Epoch 60/100\n",
      "157/157 [==============================] - 0s 3ms/step - loss: 0.0188\n",
      "Epoch 61/100\n",
      "157/157 [==============================] - 0s 2ms/step - loss: 0.0188\n",
      "Epoch 62/100\n",
      "157/157 [==============================] - 0s 3ms/step - loss: 0.0188\n",
      "Epoch 63/100\n",
      "157/157 [==============================] - 0s 2ms/step - loss: 0.0188\n",
      "Epoch 64/100\n",
      "157/157 [==============================] - 0s 2ms/step - loss: 0.0188\n",
      "Epoch 65/100\n",
      "157/157 [==============================] - 0s 2ms/step - loss: 0.0188\n",
      "Epoch 66/100\n",
      "157/157 [==============================] - 0s 2ms/step - loss: 0.0188\n",
      "Epoch 67/100\n",
      "157/157 [==============================] - 0s 2ms/step - loss: 0.0188\n",
      "Epoch 68/100\n",
      "157/157 [==============================] - 0s 2ms/step - loss: 0.0188\n",
      "Epoch 69/100\n",
      "157/157 [==============================] - 0s 3ms/step - loss: 0.0188\n",
      "Epoch 70/100\n",
      "157/157 [==============================] - 0s 2ms/step - loss: 0.0188\n",
      "Epoch 71/100\n",
      "157/157 [==============================] - 0s 2ms/step - loss: 0.0188\n",
      "Epoch 72/100\n",
      "157/157 [==============================] - 0s 3ms/step - loss: 0.0188\n",
      "Epoch 73/100\n",
      "157/157 [==============================] - 0s 2ms/step - loss: 0.0188\n",
      "Epoch 74/100\n",
      "157/157 [==============================] - 0s 2ms/step - loss: 0.0188\n",
      "Epoch 75/100\n",
      "157/157 [==============================] - 0s 3ms/step - loss: 0.0188\n",
      "Epoch 76/100\n",
      "157/157 [==============================] - 0s 2ms/step - loss: 0.0188\n",
      "Epoch 77/100\n",
      "157/157 [==============================] - 0s 2ms/step - loss: 0.0188\n",
      "Epoch 78/100\n",
      "157/157 [==============================] - 0s 3ms/step - loss: 0.0188\n",
      "Epoch 79/100\n",
      "157/157 [==============================] - 0s 3ms/step - loss: 0.0188\n",
      "Epoch 80/100\n",
      "157/157 [==============================] - 0s 3ms/step - loss: 0.0188\n",
      "Epoch 81/100\n",
      "157/157 [==============================] - 0s 3ms/step - loss: 0.0188\n",
      "Epoch 82/100\n",
      "157/157 [==============================] - 0s 3ms/step - loss: 0.0188\n",
      "Epoch 83/100\n",
      "157/157 [==============================] - 0s 3ms/step - loss: 0.0188\n",
      "Epoch 84/100\n",
      "157/157 [==============================] - 0s 3ms/step - loss: 0.0188\n",
      "Epoch 85/100\n",
      "157/157 [==============================] - 0s 3ms/step - loss: 0.0188\n",
      "Epoch 86/100\n",
      "157/157 [==============================] - 0s 3ms/step - loss: 0.0188\n",
      "Epoch 87/100\n",
      "157/157 [==============================] - 0s 3ms/step - loss: 0.0188\n",
      "Epoch 88/100\n",
      "157/157 [==============================] - 0s 3ms/step - loss: 0.0188\n",
      "Epoch 89/100\n",
      "157/157 [==============================] - 0s 3ms/step - loss: 0.0188\n",
      "Epoch 90/100\n",
      "157/157 [==============================] - 0s 3ms/step - loss: 0.0188\n",
      "Epoch 91/100\n",
      "157/157 [==============================] - 0s 3ms/step - loss: 0.0188\n",
      "Epoch 92/100\n",
      "157/157 [==============================] - 0s 3ms/step - loss: 0.0188\n",
      "Epoch 93/100\n",
      "157/157 [==============================] - 0s 2ms/step - loss: 0.0188\n",
      "Epoch 94/100\n",
      "157/157 [==============================] - 0s 3ms/step - loss: 0.0188\n",
      "Epoch 95/100\n",
      "157/157 [==============================] - 0s 2ms/step - loss: 0.0188\n",
      "Epoch 96/100\n",
      "157/157 [==============================] - 0s 2ms/step - loss: 0.0188\n",
      "Epoch 97/100\n",
      "157/157 [==============================] - 0s 3ms/step - loss: 0.0188\n",
      "Epoch 98/100\n",
      "157/157 [==============================] - 0s 3ms/step - loss: 0.0188\n",
      "Epoch 99/100\n"
     ]
    },
    {
     "name": "stdout",
     "output_type": "stream",
     "text": [
      "157/157 [==============================] - 0s 3ms/step - loss: 0.0188\n",
      "Epoch 100/100\n",
      "157/157 [==============================] - 0s 2ms/step - loss: 0.0188\n"
     ]
    },
    {
     "data": {
      "text/plain": [
       "<keras.callbacks.History at 0x15a31b7c0>"
      ]
     },
     "execution_count": 78,
     "metadata": {},
     "output_type": "execute_result"
    }
   ],
   "source": [
    "maskModel.fit(X_dat,y_dat2,epochs=100,batch_size=16,verbose=True)"
   ]
  },
  {
   "cell_type": "code",
   "execution_count": 79,
   "id": "29987bfa",
   "metadata": {
    "id": "29987bfa"
   },
   "outputs": [],
   "source": [
    "def showModelPred(model,bin_house,cat_house,debug=False):\n",
    "    #get prediction, un-onehot, and apply mask\n",
    "    pred_dat = np.argmax(model.predict(np.expand_dims(bin_house,axis=0),verbose=False).squeeze(),axis=-1)*bin_house.squeeze()\n",
    "    comp_house = np.argmax(cat_house,axis=-1)\n",
    "    \n",
    "    #normalize colors\n",
    "    #v = np.unique(np.hstack([comp_house,pred_dat]))\n",
    "    v = list(range(11))\n",
    "    norm = BoundaryNorm(v, len(v)-1)\n",
    "    \n",
    "    #setup\n",
    "    labels = [\"x\",\"y\",\"pred\"]\n",
    "    c = ['gray',maskmap,maskmap]\n",
    "    m = [bin_house,comp_house,pred_dat]\n",
    "    n = [None,norm,norm]\n",
    "    \n",
    "    \n",
    "    #show\n",
    "    plt.figure(figsize=(5,2))\n",
    "    plt.axis('off')\n",
    "    for i in range(3):\n",
    "        plt.subplot(1, 3, i+1)\n",
    "        plt.axis('off')\n",
    "        plt.imshow(np.array(m[i]).squeeze(),cmap=c[i],norm=n[i])\n",
    "        plt.title(labels[i])\n",
    "    plt.show()\n",
    "    \n",
    "    if debug:\n",
    "        print(comp_house)\n",
    "        print(pred_dat)"
   ]
  },
  {
   "cell_type": "code",
   "execution_count": 80,
   "id": "42210ae8",
   "metadata": {
    "colab": {
     "base_uri": "https://localhost:8080/",
     "height": 1000
    },
    "id": "42210ae8",
    "outputId": "7351d918-1672-4b07-8840-f469e8ba0334"
   },
   "outputs": [
    {
     "data": {
      "image/png": "[encoded data removed]",
      "text/plain": [
       "<Figure size 360x144 with 3 Axes>"
      ]
     },
     "metadata": {
      "needs_background": "light"
     },
     "output_type": "display_data"
    },
    {
     "name": "stdout",
     "output_type": "stream",
     "text": [
      "[[ 0  0  0  0  0  0  0]\n",
      " [ 0  0  0  5  0  0  0]\n",
      " [ 0  0  0  2  4  0  0]\n",
      " [ 7  0  7  7  7  0  0]\n",
      " [ 0  0 10 10 10  0  0]\n",
      " [ 0  0 10 10 10  0  0]]\n",
      "[[ 0  0  0  0  0  0  0]\n",
      " [ 0  0  0 10  0  0  0]\n",
      " [ 0  0  0  5  5  0  0]\n",
      " [ 8  0 10 10  5  0  0]\n",
      " [ 0  0  5  5  5  0  0]\n",
      " [ 0  0  5  5  5  0  0]]\n"
     ]
    },
    {
     "data": {
      "image/png": "[encoded data removed]",
      "text/plain": [
       "<Figure size 360x144 with 3 Axes>"
      ]
     },
     "metadata": {
      "needs_background": "light"
     },
     "output_type": "display_data"
    },
    {
     "name": "stdout",
     "output_type": "stream",
     "text": [
      "[[0 0 0 0 0 0 0]\n",
      " [0 0 5 0 0 0 0]\n",
      " [0 0 0 0 0 0 0]\n",
      " [0 0 9 9 9 9 0]\n",
      " [3 1 6 6 6 8 0]\n",
      " [0 0 6 6 6 0 0]]\n",
      "[[ 0  0  0  0  0  0  0]\n",
      " [ 0  0  8  0  0  0  0]\n",
      " [ 0  0  0  0  0  0  8]\n",
      " [ 0  0 10 10  7  4  0]\n",
      " [ 5  5  5  5  5  4  0]\n",
      " [ 0  0  5  5  5  0  0]]\n"
     ]
    },
    {
     "data": {
      "image/png": "[encoded data removed]",
      "text/plain": [
       "<Figure size 360x144 with 3 Axes>"
      ]
     },
     "metadata": {
      "needs_background": "light"
     },
     "output_type": "display_data"
    },
    {
     "name": "stdout",
     "output_type": "stream",
     "text": [
      "[[0 0 0 0 0 0 0]\n",
      " [0 0 0 0 0 0 0]\n",
      " [0 0 0 0 0 0 0]\n",
      " [0 0 7 7 7 0 0]\n",
      " [0 0 5 5 5 0 0]\n",
      " [0 0 5 5 5 0 0]]\n",
      "[[ 0  0  0  0  0  0  0]\n",
      " [ 0  0  0  0  0  0  0]\n",
      " [ 0  0  0  0  0  0  0]\n",
      " [ 0  0 10 10  5  0  0]\n",
      " [ 0  0  5  5  5  0  0]\n",
      " [ 0  0  5  5  5  0  0]]\n"
     ]
    },
    {
     "data": {
      "image/png": "[encoded data removed]",
      "text/plain": [
       "<Figure size 360x144 with 3 Axes>"
      ]
     },
     "metadata": {
      "needs_background": "light"
     },
     "output_type": "display_data"
    },
    {
     "name": "stdout",
     "output_type": "stream",
     "text": [
      "[[0 0 0 0 0 0 0]\n",
      " [0 9 0 0 0 0 0]\n",
      " [0 0 0 0 0 0 0]\n",
      " [0 0 9 9 9 0 0]\n",
      " [0 0 3 3 3 0 0]\n",
      " [0 0 3 3 3 0 0]]\n",
      "[[ 0  0  0  0  0  0  0]\n",
      " [ 0  5  0  0  0  0  0]\n",
      " [ 0  0  0  0  0  0  0]\n",
      " [ 0  0 10 10  5  0  0]\n",
      " [ 0  0  5  5  5  0  0]\n",
      " [ 0  0  5  5  5  0  0]]\n"
     ]
    },
    {
     "data": {
      "image/png": "[encoded data removed]",
      "text/plain": [
       "<Figure size 360x144 with 3 Axes>"
      ]
     },
     "metadata": {
      "needs_background": "light"
     },
     "output_type": "display_data"
    },
    {
     "name": "stdout",
     "output_type": "stream",
     "text": [
      "[[0 0 0 0 0 0 0]\n",
      " [0 0 0 3 2 8 0]\n",
      " [0 0 0 0 0 0 0]\n",
      " [0 0 3 3 3 0 0]\n",
      " [0 0 9 9 9 0 0]\n",
      " [0 0 9 9 9 0 0]]\n",
      "[[ 0  0  0  0  0  0  0]\n",
      " [ 0  0  0  5  5  4  0]\n",
      " [ 0  0  0  0  0  0  0]\n",
      " [ 0  0 10 10  5  0  0]\n",
      " [ 0  0  5  5  5  0  0]\n",
      " [ 0  0  5  5  5  0  0]]\n"
     ]
    }
   ],
   "source": [
    "#show some predictions\n",
    "pickset = random.choices(range(len(X_dat)),k=5)\n",
    "d = [(X_dat[i],y_dat2[i]) for i in pickset]\n",
    "for di in d:\n",
    "    showModelPred(maskModel,di[0],di[1],True)"
   ]
  },
  {
   "cell_type": "code",
   "execution_count": 81,
   "id": "3c34c6d5",
   "metadata": {
    "colab": {
     "base_uri": "https://localhost:8080/"
    },
    "id": "3c34c6d5",
    "outputId": "c46c45b7-7247-4ce2-c4c8-39bd579f44fa"
   },
   "outputs": [
    {
     "name": "stdout",
     "output_type": "stream",
     "text": [
      "1: 0.0986\n",
      "2: 0.0981\n",
      "3: 0.0980\n",
      "4: 0.1003\n",
      "5: 0.1016\n",
      "6: 0.1024\n",
      "7: 0.1000\n",
      "8: 0.1007\n",
      "9: 0.0987\n",
      "10: 0.1016\n"
     ]
    }
   ],
   "source": [
    "#show distribution of values in the training dataset\n",
    "uq,cts = np.unique(y_dat,return_counts=True)\n",
    "tot = sum(cts)\n",
    "for u,c in zip(uq,cts):\n",
    "    print(f\"{int(u)}: {c/tot:.4f}\")\n",
    "# cts2 = [0]\n",
    "# for x in cts:\n",
    "#     cts2.append(x)\n",
    "# fig = plt.figure(figsize = (10, 5))\n",
    "# plt.bar(list(range(11)),cts2)\n",
    "# plt.show()\n"
   ]
  },
  {
   "cell_type": "code",
   "execution_count": 48,
   "id": "4d11113c",
   "metadata": {
    "colab": {
     "base_uri": "https://localhost:8080/"
    },
    "id": "4d11113c",
    "outputId": "39b8329e-2a95-44ab-c838-e9ce8e7668ac"
   },
   "outputs": [
    {
     "name": "stdout",
     "output_type": "stream",
     "text": [
      "1/1 [==============================] - 0s 20ms/step\n",
      "tf.Tensor(\n",
      "[[[1. 0. 0. 0. 0. 0. 0. 0. 0. 0. 0.]\n",
      "  [1. 0. 0. 0. 0. 0. 0. 0. 0. 0. 0.]\n",
      "  [1. 0. 0. 0. 0. 0. 0. 0. 0. 0. 0.]\n",
      "  [1. 0. 0. 0. 0. 0. 0. 0. 0. 0. 0.]\n",
      "  [1. 0. 0. 0. 0. 0. 0. 0. 0. 0. 0.]\n",
      "  [1. 0. 0. 0. 0. 0. 0. 0. 0. 0. 0.]\n",
      "  [0. 0. 0. 0. 0. 0. 0. 0. 0. 0. 0.]]\n",
      "\n",
      " [[1. 0. 0. 0. 0. 0. 0. 0. 0. 0. 0.]\n",
      "  [1. 0. 0. 0. 0. 0. 0. 0. 0. 0. 0.]\n",
      "  [1. 0. 0. 0. 0. 0. 0. 0. 0. 0. 0.]\n",
      "  [1. 0. 0. 0. 0. 0. 0. 0. 0. 0. 0.]\n",
      "  [1. 0. 0. 0. 0. 0. 0. 0. 0. 0. 0.]\n",
      "  [1. 0. 0. 0. 0. 0. 0. 0. 0. 0. 0.]\n",
      "  [0. 0. 0. 0. 0. 0. 0. 0. 0. 0. 0.]]\n",
      "\n",
      " [[1. 0. 0. 0. 0. 0. 0. 0. 0. 0. 0.]\n",
      "  [1. 0. 0. 0. 0. 0. 0. 0. 0. 0. 0.]\n",
      "  [1. 0. 0. 0. 0. 0. 0. 0. 0. 0. 0.]\n",
      "  [1. 0. 0. 0. 0. 0. 0. 0. 0. 0. 0.]\n",
      "  [1. 0. 0. 0. 0. 0. 0. 0. 0. 0. 0.]\n",
      "  [1. 0. 0. 0. 0. 0. 0. 0. 0. 0. 0.]\n",
      "  [0. 0. 0. 0. 0. 0. 0. 0. 0. 0. 0.]]\n",
      "\n",
      " [[1. 0. 0. 0. 0. 0. 0. 0. 0. 0. 0.]\n",
      "  [1. 0. 0. 0. 0. 0. 0. 0. 0. 0. 0.]\n",
      "  [0. 0. 1. 0. 0. 0. 0. 0. 0. 0. 0.]\n",
      "  [0. 0. 1. 0. 0. 0. 0. 0. 0. 0. 0.]\n",
      "  [0. 0. 1. 0. 0. 0. 0. 0. 0. 0. 0.]\n",
      "  [1. 0. 0. 0. 0. 0. 0. 0. 0. 0. 0.]\n",
      "  [0. 0. 0. 0. 0. 0. 0. 0. 0. 0. 0.]]\n",
      "\n",
      " [[1. 0. 0. 0. 0. 0. 0. 0. 0. 0. 0.]\n",
      "  [0. 0. 0. 1. 0. 0. 0. 0. 0. 0. 0.]\n",
      "  [0. 0. 0. 1. 0. 0. 0. 0. 0. 0. 0.]\n",
      "  [0. 0. 0. 1. 0. 0. 0. 0. 0. 0. 0.]\n",
      "  [0. 0. 0. 1. 0. 0. 0. 0. 0. 0. 0.]\n",
      "  [1. 0. 0. 0. 0. 0. 0. 0. 0. 0. 0.]\n",
      "  [0. 0. 0. 0. 0. 0. 0. 0. 0. 0. 0.]]\n",
      "\n",
      " [[1. 0. 0. 0. 0. 0. 0. 0. 0. 0. 0.]\n",
      "  [1. 0. 0. 0. 0. 0. 0. 0. 0. 0. 0.]\n",
      "  [0. 0. 0. 1. 0. 0. 0. 0. 0. 0. 0.]\n",
      "  [0. 0. 0. 1. 0. 0. 0. 0. 0. 0. 0.]\n",
      "  [0. 0. 0. 1. 0. 0. 0. 0. 0. 0. 0.]\n",
      "  [1. 0. 0. 0. 0. 0. 0. 0. 0. 0. 0.]\n",
      "  [0. 0. 0. 0. 0. 0. 0. 0. 0. 0. 0.]]], shape=(6, 7, 11), dtype=float32)\n"
     ]
    },
    {
     "data": {
      "text/plain": [
       "nan"
      ]
     },
     "execution_count": 48,
     "metadata": {},
     "output_type": "execute_result"
    }
   ],
   "source": [
    "#simulate the loss\n",
    "yi = y_dat2[2]\n",
    "mi = maskModel.predict(np.expand_dims(X_dat[0],axis=0)).squeeze()\n",
    "\n",
    "\n",
    "zero = tf.constant(0, dtype=tf.float32)\n",
    "y_true2 = tf.cast(yi,tf.float32)\n",
    "y_pred2 = tf.cast(mi,tf.float32)\n",
    "mask = tf.cast(tf.where(tf.not_equal(y_true2, zero),1,0),tf.float32)\n",
    "mask_pred = tf.math.multiply(y_pred2,mask)\n",
    "\n",
    "print(mask)\n",
    "\n",
    "ytr = tf.reshape(y_true2,(42,11))\n",
    "mpr = tf.reshape(mask_pred,(42,11))\n",
    "\n",
    "#print(ytr)\n",
    "#print(mpr)\n",
    "\n",
    "#print(ytr.shape,mpr.shape)\n",
    "#print(K.log(mask_pred))  #can't work because log of 0 is inf\n",
    "cce = tf.keras.losses.CategoricalCrossentropy()\n",
    "cce(ytr,mpr).numpy()\n",
    "\n",
    "#-(97.0 * y_true2 * K.log(mask_pred) + 3.0 * (1.0 - y_true2) * K.log(1.0 - mask_pred)) / 100.0 #wbce"
   ]
  },
  {
   "cell_type": "code",
   "execution_count": 49,
   "id": "422fc24c",
   "metadata": {
    "colab": {
     "base_uri": "https://localhost:8080/"
    },
    "id": "422fc24c",
    "outputId": "56d81971-207c-4455-f097-c8a974bcd130"
   },
   "outputs": [
    {
     "name": "stdout",
     "output_type": "stream",
     "text": [
      "[[1. 1. 1. 1. 1. 1. 0.]\n",
      " [1. 1. 1. 1. 1. 1. 0.]\n",
      " [1. 1. 1. 1. 1. 1. 0.]\n",
      " [1. 1. 0. 0. 0. 1. 0.]\n",
      " [1. 1. 0. 0. 0. 1. 0.]\n",
      " [1. 1. 0. 0. 0. 1. 0.]]\n",
      "[[0. 0. 0. 0. 0. 0. 0.]\n",
      " [0. 0. 0. 0. 0. 0. 0.]\n",
      " [0. 0. 0. 0. 0. 0. 0.]\n",
      " [0. 0. 0. 0. 0. 0. 0.]\n",
      " [0. 0. 0. 0. 0. 0. 0.]\n",
      " [0. 0. 0. 0. 0. 0. 0.]]\n",
      "[[0. 0. 0. 0. 0. 0. 0.]\n",
      " [0. 0. 0. 0. 0. 0. 0.]\n",
      " [0. 0. 0. 0. 0. 0. 0.]\n",
      " [0. 0. 1. 1. 1. 0. 0.]\n",
      " [0. 0. 0. 0. 0. 0. 0.]\n",
      " [0. 0. 0. 0. 0. 0. 0.]]\n",
      "[[0. 0. 0. 0. 0. 0. 0.]\n",
      " [0. 0. 0. 0. 0. 0. 0.]\n",
      " [0. 0. 0. 0. 0. 0. 0.]\n",
      " [0. 0. 0. 0. 0. 0. 0.]\n",
      " [0. 0. 1. 1. 1. 0. 0.]\n",
      " [0. 0. 1. 1. 1. 0. 0.]]\n",
      "[[0. 0. 0. 0. 0. 0. 0.]\n",
      " [0. 0. 0. 0. 0. 0. 0.]\n",
      " [0. 0. 0. 0. 0. 0. 0.]\n",
      " [0. 0. 0. 0. 0. 0. 0.]\n",
      " [0. 0. 0. 0. 0. 0. 0.]\n",
      " [0. 0. 0. 0. 0. 0. 0.]]\n",
      "[[0. 0. 0. 0. 0. 0. 0.]\n",
      " [0. 0. 0. 0. 0. 0. 0.]\n",
      " [0. 0. 0. 0. 0. 0. 0.]\n",
      " [0. 0. 0. 0. 0. 0. 0.]\n",
      " [0. 0. 0. 0. 0. 0. 0.]\n",
      " [0. 0. 0. 0. 0. 0. 0.]]\n",
      "[[0. 0. 0. 0. 0. 0. 0.]\n",
      " [0. 0. 0. 0. 0. 0. 0.]\n",
      " [0. 0. 0. 0. 0. 0. 0.]\n",
      " [0. 0. 0. 0. 0. 0. 0.]\n",
      " [0. 0. 0. 0. 0. 0. 0.]\n",
      " [0. 0. 0. 0. 0. 0. 0.]]\n",
      "[[0. 0. 0. 0. 0. 0. 0.]\n",
      " [0. 0. 0. 0. 0. 0. 0.]\n",
      " [0. 0. 0. 0. 0. 0. 0.]\n",
      " [0. 0. 0. 0. 0. 0. 0.]\n",
      " [0. 0. 0. 0. 0. 0. 0.]\n",
      " [0. 0. 0. 0. 0. 0. 0.]]\n",
      "[[0. 0. 0. 0. 0. 0. 0.]\n",
      " [0. 0. 0. 0. 0. 0. 0.]\n",
      " [0. 0. 0. 0. 0. 0. 0.]\n",
      " [0. 0. 0. 0. 0. 0. 0.]\n",
      " [0. 0. 0. 0. 0. 0. 0.]\n",
      " [0. 0. 0. 0. 0. 0. 0.]]\n",
      "[[0. 0. 0. 0. 0. 0. 0.]\n",
      " [0. 0. 0. 0. 0. 0. 0.]\n",
      " [0. 0. 0. 0. 0. 0. 0.]\n",
      " [0. 0. 0. 0. 0. 0. 0.]\n",
      " [0. 0. 0. 0. 0. 0. 0.]\n",
      " [0. 0. 0. 0. 0. 0. 0.]]\n",
      "[[0. 0. 0. 0. 0. 0. 0.]\n",
      " [0. 0. 0. 0. 0. 0. 0.]\n",
      " [0. 0. 0. 0. 0. 0. 0.]\n",
      " [0. 0. 0. 0. 0. 0. 0.]\n",
      " [0. 0. 0. 0. 0. 0. 0.]\n",
      " [0. 0. 0. 0. 0. 0. 0.]]\n",
      "[[1. 0. 0. 0. 0. 0. 0. 0. 0. 0. 0.]\n",
      " [1. 0. 0. 0. 0. 0. 0. 0. 0. 0. 0.]\n",
      " [1. 0. 0. 0. 0. 0. 0. 0. 0. 0. 0.]\n",
      " [1. 0. 0. 0. 0. 0. 0. 0. 0. 0. 0.]\n",
      " [1. 0. 0. 0. 0. 0. 0. 0. 0. 0. 0.]\n",
      " [1. 0. 0. 0. 0. 0. 0. 0. 0. 0. 0.]\n",
      " [0. 0. 0. 0. 0. 0. 0. 0. 0. 0. 0.]\n",
      " [1. 0. 0. 0. 0. 0. 0. 0. 0. 0. 0.]\n",
      " [1. 0. 0. 0. 0. 0. 0. 0. 0. 0. 0.]\n",
      " [1. 0. 0. 0. 0. 0. 0. 0. 0. 0. 0.]\n",
      " [1. 0. 0. 0. 0. 0. 0. 0. 0. 0. 0.]\n",
      " [1. 0. 0. 0. 0. 0. 0. 0. 0. 0. 0.]\n",
      " [1. 0. 0. 0. 0. 0. 0. 0. 0. 0. 0.]\n",
      " [0. 0. 0. 0. 0. 0. 0. 0. 0. 0. 0.]\n",
      " [1. 0. 0. 0. 0. 0. 0. 0. 0. 0. 0.]\n",
      " [1. 0. 0. 0. 0. 0. 0. 0. 0. 0. 0.]\n",
      " [1. 0. 0. 0. 0. 0. 0. 0. 0. 0. 0.]\n",
      " [1. 0. 0. 0. 0. 0. 0. 0. 0. 0. 0.]\n",
      " [1. 0. 0. 0. 0. 0. 0. 0. 0. 0. 0.]\n",
      " [1. 0. 0. 0. 0. 0. 0. 0. 0. 0. 0.]\n",
      " [0. 0. 0. 0. 0. 0. 0. 0. 0. 0. 0.]\n",
      " [1. 0. 0. 0. 0. 0. 0. 0. 0. 0. 0.]\n",
      " [1. 0. 0. 0. 0. 0. 0. 0. 0. 0. 0.]\n",
      " [0. 0. 1. 0. 0. 0. 0. 0. 0. 0. 0.]\n",
      " [0. 0. 1. 0. 0. 0. 0. 0. 0. 0. 0.]\n",
      " [0. 0. 1. 0. 0. 0. 0. 0. 0. 0. 0.]\n",
      " [1. 0. 0. 0. 0. 0. 0. 0. 0. 0. 0.]\n",
      " [0. 0. 0. 0. 0. 0. 0. 0. 0. 0. 0.]\n",
      " [1. 0. 0. 0. 0. 0. 0. 0. 0. 0. 0.]\n",
      " [1. 0. 0. 0. 0. 0. 0. 0. 0. 0. 0.]\n",
      " [0. 0. 0. 1. 0. 0. 0. 0. 0. 0. 0.]\n",
      " [0. 0. 0. 1. 0. 0. 0. 0. 0. 0. 0.]\n",
      " [0. 0. 0. 1. 0. 0. 0. 0. 0. 0. 0.]\n",
      " [1. 0. 0. 0. 0. 0. 0. 0. 0. 0. 0.]\n",
      " [0. 0. 0. 0. 0. 0. 0. 0. 0. 0. 0.]\n",
      " [1. 0. 0. 0. 0. 0. 0. 0. 0. 0. 0.]\n",
      " [1. 0. 0. 0. 0. 0. 0. 0. 0. 0. 0.]\n",
      " [0. 0. 0. 1. 0. 0. 0. 0. 0. 0. 0.]\n",
      " [0. 0. 0. 1. 0. 0. 0. 0. 0. 0. 0.]\n",
      " [0. 0. 0. 1. 0. 0. 0. 0. 0. 0. 0.]\n",
      " [1. 0. 0. 0. 0. 0. 0. 0. 0. 0. 0.]\n",
      " [0. 0. 0. 0. 0. 0. 0. 0. 0. 0. 0.]]\n"
     ]
    }
   ],
   "source": [
    "#print(tf.reshape(tf.transpose(y_true2,perm=[0,2,1]),(42,11)))\n",
    "for i in range(11):\n",
    "    print(y_dat2[0][:,:,i])\n",
    "    \n",
    "print(np.reshape(y_dat2[0],(42,11)))\n",
    "#print(np.argmax(yi,axis=-1))\n",
    "#plt.imshow(np.argmax(yi,axis=-1),cmap=maskmap)"
   ]
  },
  {
   "cell_type": "code",
   "execution_count": 50,
   "id": "19d02770",
   "metadata": {
    "colab": {
     "base_uri": "https://localhost:8080/"
    },
    "id": "19d02770",
    "outputId": "d6705dc5-e97b-4723-c0d1-afad827eae8a"
   },
   "outputs": [
    {
     "name": "stdout",
     "output_type": "stream",
     "text": [
      "(2, 2, 3)\n",
      "(4, 3)\n",
      "[[0 1 0]\n",
      " [0 0 0]\n",
      " [1 0 1]\n",
      " [1 0 0]]\n",
      "[[0.05 0.95 0.  ]\n",
      " [0.7  0.   1.  ]\n",
      " [0.9  0.8  0.1 ]\n",
      " [0.1  0.5  0.4 ]]\n"
     ]
    },
    {
     "data": {
      "text/plain": [
       "1.4843494"
      ]
     },
     "execution_count": 50,
     "metadata": {},
     "output_type": "execute_result"
    }
   ],
   "source": [
    "cce = tf.keras.losses.CategoricalCrossentropy()\n",
    "\n",
    "a = [[[0, 1,0], [0,0,0]], [[1, 0,1], [1,0,0]]]\n",
    "b = [[[0.05, 0.95,0], [0.7,0,1]], [[0.9, 0.8,0.1], [0.1,0.5,0.4]]]\n",
    "a2 = tf.reshape(a,(4,3))\n",
    "b2 = tf.reshape(b,(4,3))  #(batches, classes)\n",
    "\n",
    "print(np.array(a).shape)\n",
    "print(a2.shape)\n",
    "print(a2.numpy())\n",
    "print(b2.numpy())\n",
    "cce(a2,b2).numpy()"
   ]
  },
  {
   "cell_type": "code",
   "execution_count": 51,
   "id": "47c367ab",
   "metadata": {
    "colab": {
     "base_uri": "https://localhost:8080/",
     "height": 404
    },
    "id": "47c367ab",
    "outputId": "d62d63ba-de19-497f-b1e4-fdc311f7dcb9"
   },
   "outputs": [
    {
     "name": "stdout",
     "output_type": "stream",
     "text": [
      "tf.Tensor(\n",
      "[[0 0 0 0 0 0 0]\n",
      " [0 0 0 0 0 0 0]\n",
      " [0 0 0 0 0 0 0]\n",
      " [0 0 2 2 2 0 0]\n",
      " [0 3 3 3 3 0 0]\n",
      " [0 0 3 3 3 0 0]], shape=(6, 7), dtype=int64)\n"
     ]
    },
    {
     "data": {
      "text/plain": [
       "<matplotlib.image.AxesImage at 0x1592978e0>"
      ]
     },
     "execution_count": 51,
     "metadata": {},
     "output_type": "execute_result"
    },
    {
     "data": {
      "image/png": "[encoded data removed]",
      "text/plain": [
       "<Figure size 432x288 with 1 Axes>"
      ]
     },
     "metadata": {
      "needs_background": "light"
     },
     "output_type": "display_data"
    }
   ],
   "source": [
    "#un-hot encode\n",
    "print(tf.math.argmax(yi,axis=-1))\n",
    "plt.imshow(np.argmax(yi,axis=-1))"
   ]
  },
  {
   "cell_type": "markdown",
   "id": "f0475313",
   "metadata": {},
   "source": [
    "#### Test outputs of the loss to extract the non-zero values"
   ]
  },
  {
   "cell_type": "code",
   "execution_count": 56,
   "id": "038a4926",
   "metadata": {},
   "outputs": [
    {
     "name": "stdout",
     "output_type": "stream",
     "text": [
      "1/1 [==============================] - 0s 67ms/step\n",
      "[[[5 5 5 5 5 5 5]\n",
      "  [5 5 5 5 5 5 5]\n",
      "  [5 5 5 5 5 5 5]\n",
      "  [5 5 5 5 5 5 5]\n",
      "  [5 5 5 5 5 5 5]\n",
      "  [5 5 5 5 5 5 5]]]\n"
     ]
    }
   ],
   "source": [
    "#train the masking model\n",
    "maskModel2 = Sequential()\n",
    "maskModel2.add(Input(shape=(6,7,1)))\n",
    "maskModel2.add(Conv2D(32,2,activation=\"relu\", padding=\"same\"))\n",
    "maskModel2.add(Conv2D(16,2,activation=\"relu\", padding=\"same\"))\n",
    "maskModel2.add(Conv2D(11,2,activation=\"sigmoid\", padding=\"same\"))\n",
    "maskModel2.add(Dense(11,activation=\"softmax\"))\n",
    "\n",
    "#test output\n",
    "mod_pred = maskModel2.predict(np.expand_dims(X_dat[0],axis=0))\n",
    "y_act = [y_dat2[0]]\n",
    "\n",
    "q = np.argmax(tf.keras.utils.to_categorical(np.argmax(mod_pred, axis=-1), 11),axis=-1)\n",
    "\n",
    "print(q)"
   ]
  },
  {
   "cell_type": "code",
   "execution_count": 60,
   "id": "b3038f54",
   "metadata": {
    "id": "b3038f54"
   },
   "outputs": [],
   "source": [
    "def mask_loss(y_true,y_pred):\n",
    "    zero = tf.constant(0, dtype=tf.float32)\n",
    "    y_true2 = tf.cast(y_true,tf.float32)\n",
    "    y_pred2 = tf.cast(y_pred,tf.float32)\n",
    "    mask = tf.cast(tf.where(tf.not_equal(y_true2, zero),1,0),tf.float32)\n",
    "    mask_pred = tf.math.multiply(y_pred2,mask)\n",
    "    #return -(97.0 * y_true2 * K.log(mask_pred) + 3.0 * (1.0 - y_true2) * K.log(1.0 - mask_pred)) / 100.0 #wbce\n",
    "    #return tf.math.reduce_mean(tf.math.abs(y_true2 - tf.math.multiply(y_pred2,mask)) )   #mse\n",
    "    return tf.losses.mean_squared_error(y_true2,mask_pred)"
   ]
  },
  {
   "cell_type": "code",
   "execution_count": 61,
   "id": "bd16cf40",
   "metadata": {},
   "outputs": [
    {
     "data": {
      "text/plain": [
       "<tf.Tensor: shape=(1, 6, 7), dtype=float32, numpy=\n",
       "array([[[0.07893496, 0.07888589, 0.07891638, 0.0789343 , 0.07902533,\n",
       "         0.07907265, 0.        ],\n",
       "        [0.07884245, 0.07864564, 0.07874151, 0.07871454, 0.07903955,\n",
       "         0.07907265, 0.        ],\n",
       "        [0.07869284, 0.07846086, 0.07880507, 0.07902694, 0.0789556 ,\n",
       "         0.07907265, 0.        ],\n",
       "        [0.07857839, 0.07842031, 0.07931607, 0.07895424, 0.07916465,\n",
       "         0.07907265, 0.        ],\n",
       "        [0.07849211, 0.07840998, 0.06832223, 0.06814225, 0.06796493,\n",
       "         0.07907265, 0.        ],\n",
       "        [0.07886691, 0.07890541, 0.06796977, 0.06807841, 0.06810214,\n",
       "         0.07907265, 0.        ]]], dtype=float32)>"
      ]
     },
     "execution_count": 61,
     "metadata": {},
     "output_type": "execute_result"
    }
   ],
   "source": [
    "mask_loss(y_act,mod_pred)"
   ]
  },
  {
   "cell_type": "code",
   "execution_count": null,
   "id": "7f759bda",
   "metadata": {},
   "outputs": [],
   "source": []
  }
 ],
 "metadata": {
  "colab": {
   "include_colab_link": true,
   "name": "2D Test House Masker + Painter.ipynb",
   "provenance": []
  },
  "kernelspec": {
   "display_name": "MCIntEvo",
   "language": "python",
   "name": "mcintevo"
  },
  "language_info": {
   "codemirror_mode": {
    "name": "ipython",
    "version": 3
   },
   "file_extension": ".py",
   "mimetype": "text/x-python",
   "name": "python",
   "nbconvert_exporter": "python",
   "pygments_lexer": "ipython3",
   "version": "3.9.12"
  }
 },
 "nbformat": 4,
 "nbformat_minor": 5
}
