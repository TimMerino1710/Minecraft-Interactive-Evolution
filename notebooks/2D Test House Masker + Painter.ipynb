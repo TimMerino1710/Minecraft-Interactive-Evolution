{
 "cells": [
  {
   "cell_type": "code",
   "execution_count": 2,
   "id": "8320994e",
   "metadata": {},
   "outputs": [],
   "source": [
    "import tensorflow as tf\n",
    "import numpy as np\n",
    "import matplotlib.pyplot as plt\n",
    "\n",
    "%matplotlib inline"
   ]
  },
  {
   "cell_type": "code",
   "execution_count": 3,
   "id": "7beb6337",
   "metadata": {},
   "outputs": [
    {
     "data": {
      "text/plain": [
       "<matplotlib.image.AxesImage at 0x1558e4e50>"
      ]
     },
     "execution_count": 3,
     "metadata": {},
     "output_type": "execute_result"
    },
    {
     "data": {
      "image/png": "[encoded data removed]",
      "text/plain": [
       "<Figure size 432x288 with 1 Axes>"
      ]
     },
     "metadata": {
      "needs_background": "light"
     },
     "output_type": "display_data"
    }
   ],
   "source": [
    "donut = np.array([[0,0,0,0,0,0,0],[0,0,1,1,1,0,0],[0,1,1,0,1,1,0],[0,1,1,0,1,1,0],[0,0,1,1,1,0,0],[0,0,0,0,0,0,0]])\n",
    "house = np.array([[0,0,0,0,0,0,0],[0,0,0,0,0,0,0],[0,0,1,1,1,0,0],[0,1,1,1,1,1,0],[0,0,1,1,1,0,0],[0,0,1,1,1,0,0]])\n",
    "square = np.array([[0,0,0,0,0,0,0],[0,0,0,0,0,0,0],[0,0,0,0,0,0,0],[0,0,1,1,1,0,0],[0,0,1,1,1,0,0],[0,0,1,1,1,0,0]])\n",
    "plt.imshow(house,cmap='gray')"
   ]
  },
  {
   "cell_type": "code",
   "execution_count": 4,
   "id": "e4ca923c",
   "metadata": {},
   "outputs": [],
   "source": [
    "from matplotlib.colors import ListedColormap, BoundaryNorm\n",
    "import random\n",
    "\n",
    "block_color_set = ['black']\n",
    "pokemon = [\"#ff0000\",\"#f6bd20\",\"#9c5200\",\"#de9400\",\"#623108\",\"#62d5b4\",\"#83eec5\",\"#184a4a\",\"#73ac31\",\"#e65a41\",\"#29739c\"]\n",
    "random.shuffle(pokemon)\n",
    "block_color_set += pokemon\n",
    "maskmap = ListedColormap(block_color_set,N=11)\n",
    "#norm = BoundaryNorm(list(range(12)), 11)\n"
   ]
  },
  {
   "cell_type": "code",
   "execution_count": 5,
   "id": "7618c69f",
   "metadata": {},
   "outputs": [],
   "source": [
    "def weirdHouse():\n",
    "    new_sq = square.copy()\n",
    "    i = 0\n",
    "    while random.random() < 0.75 and i < 10:\n",
    "        c = random.randint(0,6)\n",
    "        r = random.randint(1,4)\n",
    "        new_sq[r,c] = 1\n",
    "        i+=1\n",
    "    return new_sq\n",
    "\n",
    "def colorHouse():\n",
    "    cs = list(range(1,11))\n",
    "    random.shuffle(cs)\n",
    "    canvas = np.zeros((6,7))\n",
    "    #rows\n",
    "    for x in range(7):\n",
    "        canvas[4:,x] = random.choice(cs[2:-1])\n",
    "    #any above\n",
    "    for x in range(7):\n",
    "        for y in [0,1]:\n",
    "            canvas[y,x] = random.choice(cs[1:])\n",
    "    canvas[np.where(square==1)] = cs[0] #color base\n",
    "    canvas[5,1] = cs[0]\n",
    "    canvas[5,5] = cs[0]\n",
    "    canvas[3,:] = cs[-1]  #top\n",
    "    for x in range(7):\n",
    "        canvas[2,x] = random.choice(cs[-3:])\n",
    "        \n",
    "    return canvas\n",
    "    \n",
    "def showMask(mask,img,debug=False):\n",
    "#     v = np.unique(img)\n",
    "    v = list(range(11))\n",
    "    norm = BoundaryNorm(v, len(v)-1)\n",
    "    \n",
    "    c = ['gray',maskmap,maskmap]\n",
    "    m = [mask,img, mask*img]\n",
    "    n = [None,norm,norm]\n",
    "    \n",
    "    plt.figure(figsize=(5,2))\n",
    "    for i in range(3):\n",
    "        plt.subplot(1,3,i+1)\n",
    "        plt.xticks([])\n",
    "        plt.yticks([])\n",
    "        #plt.imshow(np.array(m[i]).squeeze(),cmap=c[i],norm=n[i])\n",
    "        plt.imshow(np.array(m[i]).squeeze(),cmap=c[i],vmin=0,vmax=(10 if i > 0 else 1))\n",
    "    plt.show()\n",
    "    \n",
    "    if debug:\n",
    "        print(img)\n",
    "        print(mask*img)\n",
    "     \n",
    "    \n",
    "#assum 6x7 shape\n",
    "def encode(l):\n",
    "    b = np.zeros((6,7,11))\n",
    "    for i in range(42):\n",
    "        c = i%6\n",
    "        r = i//7\n",
    "        v = int(l[r,c])\n",
    "        b[r,c,v]=1\n",
    "    return b"
   ]
  },
  {
   "cell_type": "code",
   "execution_count": 6,
   "id": "3720d9ee",
   "metadata": {},
   "outputs": [
    {
     "data": {
      "image/png": "[encoded data removed]",
      "text/plain": [
       "<Figure size 360x144 with 3 Axes>"
      ]
     },
     "metadata": {},
     "output_type": "display_data"
    }
   ],
   "source": [
    "#level = np.random.randint(12, size=(6, 7))\n",
    "level = colorHouse()\n",
    "showMask(house,level)"
   ]
  },
  {
   "cell_type": "code",
   "execution_count": 7,
   "id": "10b93e13",
   "metadata": {},
   "outputs": [],
   "source": [
    "#make lots of weird houses as training data\n",
    "NUM_HOUSES = 2500\n",
    "X_dat = []\n",
    "y_dat = []\n",
    "y_dat2 = []\n",
    "for i in range(NUM_HOUSES):\n",
    "    mask_house = weirdHouse()\n",
    "    bin_house = np.expand_dims(mask_house,axis=-1)\n",
    "    full_color = colorHouse()\n",
    "    #full_color = np.random.randint(12, size=(6, 7))\n",
    "    cat_house = full_color*bin_house.squeeze()\n",
    "    cat_house2 = encode(cat_house)\n",
    "    \n",
    "    X_dat.append(bin_house)\n",
    "    y_dat.append(full_color)\n",
    "    y_dat2.append(cat_house2)\n",
    "    \n",
    "X_dat = np.array(X_dat)\n",
    "y_dat = np.array(y_dat)\n",
    "y_dat2 = np.array(y_dat2)"
   ]
  },
  {
   "cell_type": "code",
   "execution_count": 8,
   "id": "025d43a4",
   "metadata": {},
   "outputs": [
    {
     "data": {
      "image/png": "[encoded data removed]",
      "text/plain": [
       "<Figure size 360x144 with 3 Axes>"
      ]
     },
     "metadata": {},
     "output_type": "display_data"
    },
    {
     "name": "stdout",
     "output_type": "stream",
     "text": [
      "[[ 5.  5.  7.  7.  8.  5.  7.]\n",
      " [ 6.  5.  8.  5.  7.  6.  8.]\n",
      " [10. 10.  9.  8. 10.  8.  9.]\n",
      " [ 8.  8.  8.  8.  8.  8.  8.]\n",
      " [ 7.  5.  1.  1.  1.  9.  7.]\n",
      " [ 7.  1.  1.  1.  1.  1.  7.]]\n",
      "[[0. 0. 0. 0. 0. 0. 0.]\n",
      " [0. 0. 0. 0. 0. 0. 0.]\n",
      " [0. 0. 0. 0. 0. 0. 0.]\n",
      " [0. 0. 8. 8. 8. 0. 0.]\n",
      " [7. 0. 1. 1. 1. 0. 0.]\n",
      " [0. 0. 1. 1. 1. 0. 0.]]\n"
     ]
    },
    {
     "data": {
      "image/png": "[encoded data removed]",
      "text/plain": [
       "<Figure size 360x144 with 3 Axes>"
      ]
     },
     "metadata": {},
     "output_type": "display_data"
    },
    {
     "name": "stdout",
     "output_type": "stream",
     "text": [
      "[[ 6.  3.  4.  5.  9.  3. 10.]\n",
      " [ 9. 10.  3. 10.  7.  3.  4.]\n",
      " [ 8.  8. 10. 10.  7. 10.  7.]\n",
      " [ 8.  8.  8.  8.  8.  8.  8.]\n",
      " [ 5.  4.  2.  2.  2.  4.  6.]\n",
      " [ 5.  2.  2.  2.  2.  2.  6.]]\n",
      "[[0. 0. 0. 0. 0. 0. 0.]\n",
      " [0. 0. 0. 0. 0. 0. 0.]\n",
      " [0. 0. 0. 0. 0. 0. 0.]\n",
      " [0. 0. 8. 8. 8. 0. 0.]\n",
      " [0. 0. 2. 2. 2. 0. 0.]\n",
      " [0. 0. 2. 2. 2. 0. 0.]]\n"
     ]
    },
    {
     "data": {
      "image/png": "[encoded data removed]",
      "text/plain": [
       "<Figure size 360x144 with 3 Axes>"
      ]
     },
     "metadata": {},
     "output_type": "display_data"
    },
    {
     "name": "stdout",
     "output_type": "stream",
     "text": [
      "[[10.  5.  6.  8.  8.  8. 10.]\n",
      " [ 8.  8.  9.  7.  7.  7.  6.]\n",
      " [ 2.  5.  5.  2.  6.  6.  2.]\n",
      " [ 5.  5.  5.  5.  5.  5.  5.]\n",
      " [ 7.  4.  1.  1.  1.  4.  8.]\n",
      " [ 7.  1.  1.  1.  1.  1.  8.]]\n",
      "[[0. 0. 0. 0. 0. 0. 0.]\n",
      " [0. 0. 0. 0. 0. 0. 0.]\n",
      " [0. 0. 0. 0. 0. 0. 0.]\n",
      " [0. 0. 5. 5. 5. 0. 0.]\n",
      " [0. 0. 1. 1. 1. 0. 0.]\n",
      " [0. 0. 1. 1. 1. 0. 0.]]\n"
     ]
    },
    {
     "data": {
      "image/png": "[encoded data removed]",
      "text/plain": [
       "<Figure size 360x144 with 3 Axes>"
      ]
     },
     "metadata": {},
     "output_type": "display_data"
    },
    {
     "name": "stdout",
     "output_type": "stream",
     "text": [
      "[[ 7.  1.  6. 10.  9.  3.  9.]\n",
      " [ 4.  8.  8.  1.  2.  9.  1.]\n",
      " [ 3.  9.  6.  9.  6.  3.  3.]\n",
      " [ 9.  9.  9.  9.  9.  9.  9.]\n",
      " [ 3.  6.  5.  5.  5.  4.  2.]\n",
      " [ 3.  5.  5.  5.  5.  5.  2.]]\n",
      "[[0. 0. 0. 0. 0. 0. 0.]\n",
      " [0. 0. 0. 0. 0. 0. 0.]\n",
      " [0. 0. 0. 0. 0. 0. 0.]\n",
      " [0. 0. 9. 9. 9. 0. 0.]\n",
      " [0. 0. 5. 5. 5. 0. 0.]\n",
      " [0. 0. 5. 5. 5. 0. 0.]]\n"
     ]
    },
    {
     "data": {
      "image/png": "[encoded data removed]",
      "text/plain": [
       "<Figure size 360x144 with 3 Axes>"
      ]
     },
     "metadata": {},
     "output_type": "display_data"
    },
    {
     "name": "stdout",
     "output_type": "stream",
     "text": [
      "[[ 9.  5.  4.  7.  9.  5. 10.]\n",
      " [ 4.  4.  4.  6.  8. 10.  5.]\n",
      " [ 7.  7.  5.  5.  5.  6.  6.]\n",
      " [ 7.  7.  7.  7.  7.  7.  7.]\n",
      " [ 3.  4.  2.  2.  2. 10.  4.]\n",
      " [ 3.  2.  2.  2.  2.  2.  4.]]\n",
      "[[0. 0. 0. 0. 0. 0. 0.]\n",
      " [0. 0. 0. 6. 0. 0. 0.]\n",
      " [0. 0. 5. 0. 0. 6. 0.]\n",
      " [0. 0. 7. 7. 7. 7. 0.]\n",
      " [0. 4. 2. 2. 2. 0. 0.]\n",
      " [0. 0. 2. 2. 2. 0. 0.]]\n"
     ]
    }
   ],
   "source": [
    "#show a few\n",
    "for i in range(5):\n",
    "    rh = random.choice(range(NUM_HOUSES))\n",
    "    showMask(X_dat[rh].squeeze(),y_dat[rh])\n",
    "    print(y_dat[rh])\n",
    "    print(X_dat[rh].squeeze()*y_dat[rh])"
   ]
  },
  {
   "cell_type": "code",
   "execution_count": 9,
   "id": "b4dbe91f",
   "metadata": {},
   "outputs": [
    {
     "name": "stderr",
     "output_type": "stream",
     "text": [
      "2022-09-27 16:12:03.470311: I tensorflow/core/platform/cpu_feature_guard.cc:193] This TensorFlow binary is optimized with oneAPI Deep Neural Network Library (oneDNN) to use the following CPU instructions in performance-critical operations:  AVX2 FMA\n",
      "To enable them in other operations, rebuild TensorFlow with the appropriate compiler flags.\n"
     ]
    },
    {
     "name": "stdout",
     "output_type": "stream",
     "text": [
      "Model: \"sequential\"\n",
      "_________________________________________________________________\n",
      " Layer (type)                Output Shape              Param #   \n",
      "=================================================================\n",
      " conv2d (Conv2D)             (None, 6, 7, 32)          160       \n",
      "                                                                 \n",
      " conv2d_1 (Conv2D)           (None, 6, 7, 16)          2064      \n",
      "                                                                 \n",
      " conv2d_2 (Conv2D)           (None, 6, 7, 11)          715       \n",
      "                                                                 \n",
      " dense (Dense)               (None, 6, 7, 11)          132       \n",
      "                                                                 \n",
      "=================================================================\n",
      "Total params: 3,071\n",
      "Trainable params: 3,071\n",
      "Non-trainable params: 0\n",
      "_________________________________________________________________\n"
     ]
    }
   ],
   "source": [
    "from tensorflow.keras.models import Sequential\n",
    "from tensorflow.keras.layers import Dense, Input, Conv2D\n",
    "from keras import backend as K\n",
    "\n",
    "\n",
    "#train the masking model\n",
    "maskModel = Sequential()\n",
    "maskModel.add(Input(shape=(6,7,1)))\n",
    "maskModel.add(Conv2D(32,2,activation=\"relu\", padding=\"same\"))\n",
    "maskModel.add(Conv2D(16,2,activation=\"relu\", padding=\"same\"))\n",
    "maskModel.add(Conv2D(11,2,activation=\"sigmoid\", padding=\"same\"))\n",
    "#maskModel.add(Dense(11,activation=\"sigmoid\"))\n",
    "maskModel.add(Dense(11,activation=\"softmax\"))\n",
    "\n",
    "def mask_loss(y_true,y_pred):\n",
    "    #cast values\n",
    "    zero = tf.constant(0, dtype=tf.float32)\n",
    "    y_true2 = tf.cast(y_true,tf.float32)\n",
    "    y_pred2 = tf.cast(y_pred,tf.float32)\n",
    "    \n",
    "    #apply mask\n",
    "    mask = tf.cast(tf.where(tf.not_equal(y_true2, zero),1,0),tf.float32)\n",
    "#     mask_pred = tf.math.multiply(yp2,mask)\n",
    "    mask_pred = tf.math.multiply(y_pred2,mask)\n",
    "    \n",
    "    #get non-zero values only\n",
    "#     mb = tf.cast(mask, dtype=tf.bool)\n",
    "#     yt3 = tf.boolean_mask(y_true2,mb)\n",
    "#     mp3 = tf.boolean_mask(mask_pred,mb)\n",
    "    \n",
    "    #return -(97.0 * y_true2 * K.log(mask_pred) + 3.0 * (1.0 - y_true2) * K.log(1.0 - mask_pred)) / 100.0 #wbce\n",
    "    #return tf.math.reduce_mean(tf.math.abs(y_true2 - tf.math.multiply(y_pred2,mask)) )   #mse\n",
    "    return tf.losses.mean_squared_error(y_true2,mask_pred)\n",
    "#     return tf.losses.mean_squared_error(yt3,mp3)\n",
    "maskModel.compile(optimizer='adam',loss=mask_loss)\n",
    "maskModel.summary()"
   ]
  },
  {
   "cell_type": "code",
   "execution_count": 10,
   "id": "e72c763e",
   "metadata": {},
   "outputs": [
    {
     "name": "stdout",
     "output_type": "stream",
     "text": [
      "Epoch 1/100\n",
      "157/157 [==============================] - 1s 4ms/step - loss: 0.0391\n",
      "Epoch 2/100\n",
      "157/157 [==============================] - 1s 4ms/step - loss: 0.0236\n",
      "Epoch 3/100\n",
      "157/157 [==============================] - 1s 4ms/step - loss: 0.0232\n",
      "Epoch 4/100\n",
      "157/157 [==============================] - 1s 4ms/step - loss: 0.0231\n",
      "Epoch 5/100\n",
      "157/157 [==============================] - 1s 4ms/step - loss: 0.0231\n",
      "Epoch 6/100\n",
      "157/157 [==============================] - 1s 4ms/step - loss: 0.0228\n",
      "Epoch 7/100\n",
      "157/157 [==============================] - 1s 5ms/step - loss: 0.0196\n",
      "Epoch 8/100\n",
      "157/157 [==============================] - 1s 4ms/step - loss: 0.0191\n",
      "Epoch 9/100\n",
      "157/157 [==============================] - 1s 6ms/step - loss: 0.0191\n",
      "Epoch 10/100\n",
      "157/157 [==============================] - 1s 6ms/step - loss: 0.0190\n",
      "Epoch 11/100\n",
      "157/157 [==============================] - 1s 5ms/step - loss: 0.0190\n",
      "Epoch 12/100\n",
      "157/157 [==============================] - 1s 5ms/step - loss: 0.0189\n",
      "Epoch 13/100\n",
      "157/157 [==============================] - 1s 4ms/step - loss: 0.0189\n",
      "Epoch 14/100\n",
      "157/157 [==============================] - 1s 4ms/step - loss: 0.0189\n",
      "Epoch 15/100\n",
      "157/157 [==============================] - 1s 3ms/step - loss: 0.0189\n",
      "Epoch 16/100\n",
      "157/157 [==============================] - 0s 3ms/step - loss: 0.0188\n",
      "Epoch 17/100\n",
      "157/157 [==============================] - 0s 3ms/step - loss: 0.0188\n",
      "Epoch 18/100\n",
      "157/157 [==============================] - 1s 3ms/step - loss: 0.0188\n",
      "Epoch 19/100\n",
      "157/157 [==============================] - 0s 3ms/step - loss: 0.0188\n",
      "Epoch 20/100\n",
      "157/157 [==============================] - 0s 3ms/step - loss: 0.0188\n",
      "Epoch 21/100\n",
      "157/157 [==============================] - 0s 3ms/step - loss: 0.0188\n",
      "Epoch 22/100\n",
      "157/157 [==============================] - 1s 4ms/step - loss: 0.0188\n",
      "Epoch 23/100\n",
      "157/157 [==============================] - 1s 3ms/step - loss: 0.0188\n",
      "Epoch 24/100\n",
      "157/157 [==============================] - 0s 3ms/step - loss: 0.0188\n",
      "Epoch 25/100\n",
      "157/157 [==============================] - 1s 3ms/step - loss: 0.0188\n",
      "Epoch 26/100\n",
      "157/157 [==============================] - 1s 5ms/step - loss: 0.0188\n",
      "Epoch 27/100\n",
      "157/157 [==============================] - 1s 3ms/step - loss: 0.0188\n",
      "Epoch 28/100\n",
      "157/157 [==============================] - 1s 4ms/step - loss: 0.0188\n",
      "Epoch 29/100\n",
      "157/157 [==============================] - 1s 4ms/step - loss: 0.0188\n",
      "Epoch 30/100\n",
      "157/157 [==============================] - 1s 4ms/step - loss: 0.0188\n",
      "Epoch 31/100\n",
      "157/157 [==============================] - 1s 6ms/step - loss: 0.0188\n",
      "Epoch 32/100\n",
      "157/157 [==============================] - 1s 5ms/step - loss: 0.0188\n",
      "Epoch 33/100\n",
      "157/157 [==============================] - 1s 5ms/step - loss: 0.0188\n",
      "Epoch 34/100\n",
      "157/157 [==============================] - 1s 5ms/step - loss: 0.0188\n",
      "Epoch 35/100\n",
      "157/157 [==============================] - 1s 5ms/step - loss: 0.0188\n",
      "Epoch 36/100\n",
      "157/157 [==============================] - 1s 4ms/step - loss: 0.0188\n",
      "Epoch 37/100\n",
      "157/157 [==============================] - 1s 4ms/step - loss: 0.0188\n",
      "Epoch 38/100\n",
      "157/157 [==============================] - 1s 4ms/step - loss: 0.0187\n",
      "Epoch 39/100\n",
      "157/157 [==============================] - 1s 4ms/step - loss: 0.0187\n",
      "Epoch 40/100\n",
      "157/157 [==============================] - 1s 3ms/step - loss: 0.0187\n",
      "Epoch 41/100\n",
      "157/157 [==============================] - 1s 3ms/step - loss: 0.0187\n",
      "Epoch 42/100\n",
      "157/157 [==============================] - 1s 3ms/step - loss: 0.0187\n",
      "Epoch 43/100\n",
      "157/157 [==============================] - 1s 4ms/step - loss: 0.0187\n",
      "Epoch 44/100\n",
      "157/157 [==============================] - 1s 3ms/step - loss: 0.0187\n",
      "Epoch 45/100\n",
      "157/157 [==============================] - 1s 3ms/step - loss: 0.0187\n",
      "Epoch 46/100\n",
      "157/157 [==============================] - 1s 4ms/step - loss: 0.0187\n",
      "Epoch 47/100\n",
      "157/157 [==============================] - 1s 3ms/step - loss: 0.0187\n",
      "Epoch 48/100\n",
      "157/157 [==============================] - 1s 3ms/step - loss: 0.0187\n",
      "Epoch 49/100\n",
      "157/157 [==============================] - 1s 4ms/step - loss: 0.0187\n",
      "Epoch 50/100\n",
      "157/157 [==============================] - 1s 3ms/step - loss: 0.0187\n",
      "Epoch 51/100\n",
      "157/157 [==============================] - 1s 3ms/step - loss: 0.0187\n",
      "Epoch 52/100\n",
      "157/157 [==============================] - 1s 3ms/step - loss: 0.0187\n",
      "Epoch 53/100\n",
      "157/157 [==============================] - 1s 3ms/step - loss: 0.0187\n",
      "Epoch 54/100\n",
      "157/157 [==============================] - 1s 3ms/step - loss: 0.0187\n",
      "Epoch 55/100\n",
      "157/157 [==============================] - 1s 3ms/step - loss: 0.0187\n",
      "Epoch 56/100\n",
      "157/157 [==============================] - 1s 3ms/step - loss: 0.0187\n",
      "Epoch 57/100\n",
      "157/157 [==============================] - 1s 3ms/step - loss: 0.0187\n",
      "Epoch 58/100\n",
      "157/157 [==============================] - 1s 3ms/step - loss: 0.0187\n",
      "Epoch 59/100\n",
      "157/157 [==============================] - 1s 3ms/step - loss: 0.0187\n",
      "Epoch 60/100\n",
      "157/157 [==============================] - 1s 3ms/step - loss: 0.0187\n",
      "Epoch 61/100\n",
      "157/157 [==============================] - 1s 3ms/step - loss: 0.0187\n",
      "Epoch 62/100\n",
      "157/157 [==============================] - 1s 3ms/step - loss: 0.0187\n",
      "Epoch 63/100\n",
      "157/157 [==============================] - 1s 3ms/step - loss: 0.0187\n",
      "Epoch 64/100\n",
      "157/157 [==============================] - 1s 3ms/step - loss: 0.0187\n",
      "Epoch 65/100\n",
      "157/157 [==============================] - 1s 3ms/step - loss: 0.0187\n",
      "Epoch 66/100\n",
      "157/157 [==============================] - 1s 3ms/step - loss: 0.0187\n",
      "Epoch 67/100\n",
      "157/157 [==============================] - 1s 3ms/step - loss: 0.0187\n",
      "Epoch 68/100\n",
      "157/157 [==============================] - 1s 3ms/step - loss: 0.0187\n",
      "Epoch 69/100\n",
      "157/157 [==============================] - 1s 3ms/step - loss: 0.0187\n",
      "Epoch 70/100\n",
      "157/157 [==============================] - 1s 3ms/step - loss: 0.0187\n",
      "Epoch 71/100\n",
      "157/157 [==============================] - 1s 3ms/step - loss: 0.0187\n",
      "Epoch 72/100\n",
      "157/157 [==============================] - 1s 3ms/step - loss: 0.0187\n",
      "Epoch 73/100\n",
      "157/157 [==============================] - 1s 3ms/step - loss: 0.0187\n",
      "Epoch 74/100\n",
      "157/157 [==============================] - 1s 3ms/step - loss: 0.0187\n",
      "Epoch 75/100\n",
      "157/157 [==============================] - 1s 3ms/step - loss: 0.0187\n",
      "Epoch 76/100\n",
      "157/157 [==============================] - 1s 3ms/step - loss: 0.0187\n",
      "Epoch 77/100\n",
      "157/157 [==============================] - 1s 3ms/step - loss: 0.0187\n",
      "Epoch 78/100\n",
      "157/157 [==============================] - 1s 3ms/step - loss: 0.0187\n",
      "Epoch 79/100\n",
      "157/157 [==============================] - 1s 3ms/step - loss: 0.0187\n",
      "Epoch 80/100\n",
      "157/157 [==============================] - 1s 3ms/step - loss: 0.0187\n",
      "Epoch 81/100\n",
      "157/157 [==============================] - 1s 3ms/step - loss: 0.0187\n",
      "Epoch 82/100\n",
      "157/157 [==============================] - 1s 3ms/step - loss: 0.0187\n",
      "Epoch 83/100\n",
      "157/157 [==============================] - 1s 3ms/step - loss: 0.0187\n",
      "Epoch 84/100\n",
      "157/157 [==============================] - 1s 3ms/step - loss: 0.0187\n",
      "Epoch 85/100\n",
      "157/157 [==============================] - 1s 3ms/step - loss: 0.0187\n",
      "Epoch 86/100\n",
      "157/157 [==============================] - 1s 3ms/step - loss: 0.0187\n",
      "Epoch 87/100\n",
      "157/157 [==============================] - 1s 3ms/step - loss: 0.0187\n",
      "Epoch 88/100\n",
      "157/157 [==============================] - 1s 3ms/step - loss: 0.0187\n",
      "Epoch 89/100\n",
      "157/157 [==============================] - 1s 3ms/step - loss: 0.0187\n",
      "Epoch 90/100\n",
      "157/157 [==============================] - 1s 3ms/step - loss: 0.0187\n",
      "Epoch 91/100\n",
      "157/157 [==============================] - 1s 5ms/step - loss: 0.0187\n",
      "Epoch 92/100\n",
      "157/157 [==============================] - 1s 4ms/step - loss: 0.0187\n",
      "Epoch 93/100\n",
      "157/157 [==============================] - 1s 5ms/step - loss: 0.0187\n",
      "Epoch 94/100\n",
      "157/157 [==============================] - 1s 5ms/step - loss: 0.0187\n",
      "Epoch 95/100\n",
      "157/157 [==============================] - 1s 4ms/step - loss: 0.0187\n",
      "Epoch 96/100\n",
      "157/157 [==============================] - 1s 4ms/step - loss: 0.0187\n",
      "Epoch 97/100\n",
      "157/157 [==============================] - 1s 3ms/step - loss: 0.0187\n",
      "Epoch 98/100\n",
      "157/157 [==============================] - 1s 3ms/step - loss: 0.0187\n",
      "Epoch 99/100\n"
     ]
    },
    {
     "name": "stdout",
     "output_type": "stream",
     "text": [
      "157/157 [==============================] - 1s 3ms/step - loss: 0.0187\n",
      "Epoch 100/100\n",
      "157/157 [==============================] - 1s 4ms/step - loss: 0.0187\n"
     ]
    },
    {
     "data": {
      "text/plain": [
       "<keras.callbacks.History at 0x1558d7f10>"
      ]
     },
     "execution_count": 10,
     "metadata": {},
     "output_type": "execute_result"
    }
   ],
   "source": [
    "maskModel.fit(X_dat,y_dat2,epochs=100,batch_size=16,verbose=True)"
   ]
  },
  {
   "cell_type": "code",
   "execution_count": 11,
   "id": "29987bfa",
   "metadata": {},
   "outputs": [],
   "source": [
    "def showModelPred(model,bin_house,cat_house,debug=False):\n",
    "    #get prediction, un-onehot, and apply mask\n",
    "    pred_dat = np.argmax(model.predict(np.expand_dims(bin_house,axis=0),verbose=False).squeeze(),axis=-1)*bin_house.squeeze()\n",
    "    comp_house = np.argmax(cat_house,axis=-1)\n",
    "    \n",
    "    #normalize colors\n",
    "    #v = np.unique(np.hstack([comp_house,pred_dat]))\n",
    "    v = list(range(11))\n",
    "    norm = BoundaryNorm(v, len(v)-1)\n",
    "    \n",
    "    #setup\n",
    "    labels = [\"x\",\"y\",\"pred\"]\n",
    "    c = ['gray',maskmap,maskmap]\n",
    "    m = [bin_house,comp_house,pred_dat]\n",
    "    n = [None,norm,norm]\n",
    "    \n",
    "    \n",
    "    #show\n",
    "    plt.figure(figsize=(5,2))\n",
    "    plt.axis('off')\n",
    "    for i in range(3):\n",
    "        plt.subplot(1, 3, i+1)\n",
    "        plt.axis('off')\n",
    "        plt.imshow(np.array(m[i]).squeeze(),cmap=c[i],norm=n[i])\n",
    "        plt.title(labels[i])\n",
    "    plt.show()\n",
    "    \n",
    "    if debug:\n",
    "        print(comp_house)\n",
    "        print(pred_dat)"
   ]
  },
  {
   "cell_type": "code",
   "execution_count": 12,
   "id": "42210ae8",
   "metadata": {},
   "outputs": [
    {
     "data": {
      "image/png": "[encoded data removed]",
      "text/plain": [
       "<Figure size 360x144 with 3 Axes>"
      ]
     },
     "metadata": {
      "needs_background": "light"
     },
     "output_type": "display_data"
    },
    {
     "name": "stdout",
     "output_type": "stream",
     "text": [
      "[[0 0 0 0 0 0 0]\n",
      " [0 0 0 0 0 0 0]\n",
      " [0 0 0 0 0 0 0]\n",
      " [0 0 8 8 8 0 0]\n",
      " [0 0 4 4 4 0 0]\n",
      " [0 0 4 4 4 0 0]]\n",
      "[[ 0  0  0  0  0  0  0]\n",
      " [ 0  0  0  0  0  0  0]\n",
      " [ 0  0  0  0  0  0  0]\n",
      " [ 0  0 10  1 10  0  0]\n",
      " [ 0  0 10 10 10  0  0]\n",
      " [ 0  0 10 10  1  0  0]]\n"
     ]
    },
    {
     "data": {
      "image/png": "[encoded data removed]",
      "text/plain": [
       "<Figure size 360x144 with 3 Axes>"
      ]
     },
     "metadata": {
      "needs_background": "light"
     },
     "output_type": "display_data"
    },
    {
     "name": "stdout",
     "output_type": "stream",
     "text": [
      "[[0 0 0 0 0 0 0]\n",
      " [0 0 5 0 2 0 0]\n",
      " [0 0 0 0 0 0 0]\n",
      " [0 0 8 8 8 8 0]\n",
      " [0 0 7 7 7 0 0]\n",
      " [0 0 7 7 7 0 0]]\n",
      "[[ 0  0  0  0  0  0  0]\n",
      " [ 0  0  1  0  1  0  0]\n",
      " [ 0  0  0  0  0  0  1]\n",
      " [ 0  0 10  1 10  4  0]\n",
      " [ 0  0 10 10 10  0  0]\n",
      " [ 0  0 10 10  1  0  0]]\n"
     ]
    },
    {
     "data": {
      "image/png": "[encoded data removed]",
      "text/plain": [
       "<Figure size 360x144 with 3 Axes>"
      ]
     },
     "metadata": {
      "needs_background": "light"
     },
     "output_type": "display_data"
    },
    {
     "name": "stdout",
     "output_type": "stream",
     "text": [
      "[[0 0 0 0 0 0 0]\n",
      " [0 0 0 0 0 0 0]\n",
      " [0 0 0 0 0 0 0]\n",
      " [0 0 8 8 8 8 0]\n",
      " [0 0 4 4 4 2 0]\n",
      " [0 0 4 4 4 0 0]]\n",
      "[[ 0  0  0  0  0  0  0]\n",
      " [ 0  0  0  0  0  0  0]\n",
      " [ 0  0  0  0  0  0  0]\n",
      " [ 0  0 10 10 10 10  0]\n",
      " [ 0  0 10 10 10  1  1]\n",
      " [ 0  0 10 10  1  0  0]]\n"
     ]
    },
    {
     "data": {
      "image/png": "[encoded data removed]",
      "text/plain": [
       "<Figure size 360x144 with 3 Axes>"
      ]
     },
     "metadata": {
      "needs_background": "light"
     },
     "output_type": "display_data"
    },
    {
     "name": "stdout",
     "output_type": "stream",
     "text": [
      "[[ 0  0  0  0  0  0  0]\n",
      " [ 1  4  0  0  0  0  0]\n",
      " [ 0  0  0  0  0  0  0]\n",
      " [ 0  0  6  6  6  0  0]\n",
      " [ 0  0 10 10 10  0  0]\n",
      " [ 0  0 10 10 10  0  0]]\n",
      "[[ 0  0  0  0  0  0  0]\n",
      " [ 1  1  0  0  0  0  0]\n",
      " [ 0  0  0  0  0  0  0]\n",
      " [ 0  0 10  1 10  0  0]\n",
      " [ 0  0 10 10 10  0  0]\n",
      " [ 0  0 10 10  1  0  0]]\n"
     ]
    },
    {
     "data": {
      "image/png": "[encoded data removed]",
      "text/plain": [
       "<Figure size 360x144 with 3 Axes>"
      ]
     },
     "metadata": {
      "needs_background": "light"
     },
     "output_type": "display_data"
    },
    {
     "name": "stdout",
     "output_type": "stream",
     "text": [
      "[[0 0 0 0 0 0 0]\n",
      " [0 0 0 0 0 0 0]\n",
      " [0 0 2 0 0 0 0]\n",
      " [0 0 3 3 3 3 0]\n",
      " [0 0 9 9 9 0 0]\n",
      " [0 0 9 9 9 0 0]]\n",
      "[[ 0  0  0  0  0  0  0]\n",
      " [ 0  0  0  0  0  0  0]\n",
      " [ 0  0 10  0  0  0  1]\n",
      " [ 0  0 10  1 10  4  0]\n",
      " [ 0  0 10 10 10  0  0]\n",
      " [ 0  0 10 10  1  0  0]]\n"
     ]
    }
   ],
   "source": [
    "#show some predictions\n",
    "pickset = random.choices(range(len(X_dat)),k=5)\n",
    "d = [(X_dat[i],y_dat2[i]) for i in pickset]\n",
    "for di in d:\n",
    "    showModelPred(maskModel,di[0],di[1],True)"
   ]
  },
  {
   "cell_type": "code",
   "execution_count": 13,
   "id": "3c34c6d5",
   "metadata": {},
   "outputs": [
    {
     "name": "stdout",
     "output_type": "stream",
     "text": [
      "1: 0.1008\n",
      "2: 0.1036\n",
      "3: 0.1017\n",
      "4: 0.0991\n",
      "5: 0.0981\n",
      "6: 0.0967\n",
      "7: 0.0995\n",
      "8: 0.1002\n",
      "9: 0.1004\n",
      "10: 0.0999\n"
     ]
    }
   ],
   "source": [
    "#show distribution of values in the training dataset\n",
    "uq,cts = np.unique(y_dat,return_counts=True)\n",
    "tot = sum(cts)\n",
    "for u,c in zip(uq,cts):\n",
    "    print(f\"{int(u)}: {c/tot:.4f}\")\n",
    "# cts2 = [0]\n",
    "# for x in cts:\n",
    "#     cts2.append(x)\n",
    "# fig = plt.figure(figsize = (10, 5))\n",
    "# plt.bar(list(range(11)),cts2)\n",
    "# plt.show()\n"
   ]
  },
  {
   "cell_type": "code",
   "execution_count": 14,
   "id": "4d11113c",
   "metadata": {},
   "outputs": [
    {
     "name": "stdout",
     "output_type": "stream",
     "text": [
      "1/1 [==============================] - 0s 27ms/step\n",
      "tf.Tensor(\n",
      "[[[1. 0. 0. 0. 0. 0. 0. 0. 0. 0. 0.]\n",
      "  [1. 0. 0. 0. 0. 0. 0. 0. 0. 0. 0.]\n",
      "  [1. 0. 0. 0. 0. 0. 0. 0. 0. 0. 0.]\n",
      "  [1. 0. 0. 0. 0. 0. 0. 0. 0. 0. 0.]\n",
      "  [1. 0. 0. 0. 0. 0. 0. 0. 0. 0. 0.]\n",
      "  [1. 0. 0. 0. 0. 0. 0. 0. 0. 0. 0.]\n",
      "  [0. 0. 0. 0. 0. 0. 0. 0. 0. 0. 0.]]\n",
      "\n",
      " [[1. 0. 0. 0. 0. 0. 0. 0. 0. 0. 0.]\n",
      "  [1. 0. 0. 0. 0. 0. 0. 0. 0. 0. 0.]\n",
      "  [1. 0. 0. 0. 0. 0. 0. 0. 0. 0. 0.]\n",
      "  [1. 0. 0. 0. 0. 0. 0. 0. 0. 0. 0.]\n",
      "  [1. 0. 0. 0. 0. 0. 0. 0. 0. 0. 0.]\n",
      "  [1. 0. 0. 0. 0. 0. 0. 0. 0. 0. 0.]\n",
      "  [0. 0. 0. 0. 0. 0. 0. 0. 0. 0. 0.]]\n",
      "\n",
      " [[1. 0. 0. 0. 0. 0. 0. 0. 0. 0. 0.]\n",
      "  [1. 0. 0. 0. 0. 0. 0. 0. 0. 0. 0.]\n",
      "  [1. 0. 0. 0. 0. 0. 0. 0. 0. 0. 0.]\n",
      "  [0. 0. 0. 0. 0. 0. 0. 0. 1. 0. 0.]\n",
      "  [1. 0. 0. 0. 0. 0. 0. 0. 0. 0. 0.]\n",
      "  [1. 0. 0. 0. 0. 0. 0. 0. 0. 0. 0.]\n",
      "  [0. 0. 0. 0. 0. 0. 0. 0. 0. 0. 0.]]\n",
      "\n",
      " [[1. 0. 0. 0. 0. 0. 0. 0. 0. 0. 0.]\n",
      "  [1. 0. 0. 0. 0. 0. 0. 0. 0. 0. 0.]\n",
      "  [0. 0. 0. 0. 0. 0. 0. 0. 1. 0. 0.]\n",
      "  [0. 0. 0. 0. 0. 0. 0. 0. 1. 0. 0.]\n",
      "  [0. 0. 0. 0. 0. 0. 0. 0. 1. 0. 0.]\n",
      "  [1. 0. 0. 0. 0. 0. 0. 0. 0. 0. 0.]\n",
      "  [0. 0. 0. 0. 0. 0. 0. 0. 0. 0. 0.]]\n",
      "\n",
      " [[1. 0. 0. 0. 0. 0. 0. 0. 0. 0. 0.]\n",
      "  [1. 0. 0. 0. 0. 0. 0. 0. 0. 0. 0.]\n",
      "  [0. 1. 0. 0. 0. 0. 0. 0. 0. 0. 0.]\n",
      "  [0. 1. 0. 0. 0. 0. 0. 0. 0. 0. 0.]\n",
      "  [0. 1. 0. 0. 0. 0. 0. 0. 0. 0. 0.]\n",
      "  [1. 0. 0. 0. 0. 0. 0. 0. 0. 0. 0.]\n",
      "  [0. 0. 0. 0. 0. 0. 0. 0. 0. 0. 0.]]\n",
      "\n",
      " [[1. 0. 0. 0. 0. 0. 0. 0. 0. 0. 0.]\n",
      "  [1. 0. 0. 0. 0. 0. 0. 0. 0. 0. 0.]\n",
      "  [0. 1. 0. 0. 0. 0. 0. 0. 0. 0. 0.]\n",
      "  [0. 1. 0. 0. 0. 0. 0. 0. 0. 0. 0.]\n",
      "  [0. 1. 0. 0. 0. 0. 0. 0. 0. 0. 0.]\n",
      "  [1. 0. 0. 0. 0. 0. 0. 0. 0. 0. 0.]\n",
      "  [0. 0. 0. 0. 0. 0. 0. 0. 0. 0. 0.]]], shape=(6, 7, 11), dtype=float32)\n"
     ]
    },
    {
     "data": {
      "text/plain": [
       "nan"
      ]
     },
     "execution_count": 14,
     "metadata": {},
     "output_type": "execute_result"
    }
   ],
   "source": [
    "#simulate the loss\n",
    "yi = y_dat2[2]\n",
    "mi = maskModel.predict(np.expand_dims(X_dat[0],axis=0)).squeeze()\n",
    "\n",
    "\n",
    "zero = tf.constant(0, dtype=tf.float32)\n",
    "y_true2 = tf.cast(yi,tf.float32)\n",
    "y_pred2 = tf.cast(mi,tf.float32)\n",
    "mask = tf.cast(tf.where(tf.not_equal(y_true2, zero),1,0),tf.float32)\n",
    "mask_pred = tf.math.multiply(y_pred2,mask)\n",
    "\n",
    "print(mask)\n",
    "\n",
    "ytr = tf.reshape(y_true2,(42,11))\n",
    "mpr = tf.reshape(mask_pred,(42,11))\n",
    "\n",
    "#print(ytr)\n",
    "#print(mpr)\n",
    "\n",
    "#print(ytr.shape,mpr.shape)\n",
    "#print(K.log(mask_pred))  #can't work because log of 0 is inf\n",
    "cce = tf.keras.losses.CategoricalCrossentropy()\n",
    "cce(ytr,mpr).numpy()\n",
    "\n",
    "#-(97.0 * y_true2 * K.log(mask_pred) + 3.0 * (1.0 - y_true2) * K.log(1.0 - mask_pred)) / 100.0 #wbce"
   ]
  },
  {
   "cell_type": "code",
   "execution_count": 15,
   "id": "422fc24c",
   "metadata": {},
   "outputs": [
    {
     "name": "stdout",
     "output_type": "stream",
     "text": [
      "[[1. 1. 1. 1. 1. 1. 0.]\n",
      " [0. 1. 0. 0. 1. 1. 0.]\n",
      " [1. 1. 1. 1. 0. 1. 0.]\n",
      " [1. 1. 0. 0. 0. 1. 0.]\n",
      " [1. 1. 0. 0. 0. 1. 0.]\n",
      " [1. 1. 0. 0. 0. 1. 0.]]\n",
      "[[0. 0. 0. 0. 0. 0. 0.]\n",
      " [0. 0. 0. 0. 0. 0. 0.]\n",
      " [0. 0. 0. 0. 0. 0. 0.]\n",
      " [0. 0. 1. 1. 1. 0. 0.]\n",
      " [0. 0. 0. 0. 0. 0. 0.]\n",
      " [0. 0. 0. 0. 0. 0. 0.]]\n",
      "[[0. 0. 0. 0. 0. 0. 0.]\n",
      " [0. 0. 1. 0. 0. 0. 0.]\n",
      " [0. 0. 0. 0. 0. 0. 0.]\n",
      " [0. 0. 0. 0. 0. 0. 0.]\n",
      " [0. 0. 0. 0. 0. 0. 0.]\n",
      " [0. 0. 0. 0. 0. 0. 0.]]\n",
      "[[0. 0. 0. 0. 0. 0. 0.]\n",
      " [0. 0. 0. 0. 0. 0. 0.]\n",
      " [0. 0. 0. 0. 0. 0. 0.]\n",
      " [0. 0. 0. 0. 0. 0. 0.]\n",
      " [0. 0. 1. 1. 1. 0. 0.]\n",
      " [0. 0. 1. 1. 1. 0. 0.]]\n",
      "[[0. 0. 0. 0. 0. 0. 0.]\n",
      " [0. 0. 0. 0. 0. 0. 0.]\n",
      " [0. 0. 0. 0. 0. 0. 0.]\n",
      " [0. 0. 0. 0. 0. 0. 0.]\n",
      " [0. 0. 0. 0. 0. 0. 0.]\n",
      " [0. 0. 0. 0. 0. 0. 0.]]\n",
      "[[0. 0. 0. 0. 0. 0. 0.]\n",
      " [0. 0. 0. 0. 0. 0. 0.]\n",
      " [0. 0. 0. 0. 0. 0. 0.]\n",
      " [0. 0. 0. 0. 0. 0. 0.]\n",
      " [0. 0. 0. 0. 0. 0. 0.]\n",
      " [0. 0. 0. 0. 0. 0. 0.]]\n",
      "[[0. 0. 0. 0. 0. 0. 0.]\n",
      " [0. 0. 0. 0. 0. 0. 0.]\n",
      " [0. 0. 0. 0. 1. 0. 0.]\n",
      " [0. 0. 0. 0. 0. 0. 0.]\n",
      " [0. 0. 0. 0. 0. 0. 0.]\n",
      " [0. 0. 0. 0. 0. 0. 0.]]\n",
      "[[0. 0. 0. 0. 0. 0. 0.]\n",
      " [1. 0. 0. 0. 0. 0. 0.]\n",
      " [0. 0. 0. 0. 0. 0. 0.]\n",
      " [0. 0. 0. 0. 0. 0. 0.]\n",
      " [0. 0. 0. 0. 0. 0. 0.]\n",
      " [0. 0. 0. 0. 0. 0. 0.]]\n",
      "[[0. 0. 0. 0. 0. 0. 0.]\n",
      " [0. 0. 0. 1. 0. 0. 0.]\n",
      " [0. 0. 0. 0. 0. 0. 0.]\n",
      " [0. 0. 0. 0. 0. 0. 0.]\n",
      " [0. 0. 0. 0. 0. 0. 0.]\n",
      " [0. 0. 0. 0. 0. 0. 0.]]\n",
      "[[0. 0. 0. 0. 0. 0. 0.]\n",
      " [0. 0. 0. 0. 0. 0. 0.]\n",
      " [0. 0. 0. 0. 0. 0. 0.]\n",
      " [0. 0. 0. 0. 0. 0. 0.]\n",
      " [0. 0. 0. 0. 0. 0. 0.]\n",
      " [0. 0. 0. 0. 0. 0. 0.]]\n",
      "[[0. 0. 0. 0. 0. 0. 0.]\n",
      " [0. 0. 0. 0. 0. 0. 0.]\n",
      " [0. 0. 0. 0. 0. 0. 0.]\n",
      " [0. 0. 0. 0. 0. 0. 0.]\n",
      " [0. 0. 0. 0. 0. 0. 0.]\n",
      " [0. 0. 0. 0. 0. 0. 0.]]\n",
      "[[1. 0. 0. 0. 0. 0. 0. 0. 0. 0. 0.]\n",
      " [1. 0. 0. 0. 0. 0. 0. 0. 0. 0. 0.]\n",
      " [1. 0. 0. 0. 0. 0. 0. 0. 0. 0. 0.]\n",
      " [1. 0. 0. 0. 0. 0. 0. 0. 0. 0. 0.]\n",
      " [1. 0. 0. 0. 0. 0. 0. 0. 0. 0. 0.]\n",
      " [1. 0. 0. 0. 0. 0. 0. 0. 0. 0. 0.]\n",
      " [0. 0. 0. 0. 0. 0. 0. 0. 0. 0. 0.]\n",
      " [0. 0. 0. 0. 0. 0. 0. 1. 0. 0. 0.]\n",
      " [1. 0. 0. 0. 0. 0. 0. 0. 0. 0. 0.]\n",
      " [0. 0. 1. 0. 0. 0. 0. 0. 0. 0. 0.]\n",
      " [0. 0. 0. 0. 0. 0. 0. 0. 1. 0. 0.]\n",
      " [1. 0. 0. 0. 0. 0. 0. 0. 0. 0. 0.]\n",
      " [1. 0. 0. 0. 0. 0. 0. 0. 0. 0. 0.]\n",
      " [0. 0. 0. 0. 0. 0. 0. 0. 0. 0. 0.]\n",
      " [1. 0. 0. 0. 0. 0. 0. 0. 0. 0. 0.]\n",
      " [1. 0. 0. 0. 0. 0. 0. 0. 0. 0. 0.]\n",
      " [1. 0. 0. 0. 0. 0. 0. 0. 0. 0. 0.]\n",
      " [1. 0. 0. 0. 0. 0. 0. 0. 0. 0. 0.]\n",
      " [0. 0. 0. 0. 0. 0. 1. 0. 0. 0. 0.]\n",
      " [1. 0. 0. 0. 0. 0. 0. 0. 0. 0. 0.]\n",
      " [0. 0. 0. 0. 0. 0. 0. 0. 0. 0. 0.]\n",
      " [1. 0. 0. 0. 0. 0. 0. 0. 0. 0. 0.]\n",
      " [1. 0. 0. 0. 0. 0. 0. 0. 0. 0. 0.]\n",
      " [0. 1. 0. 0. 0. 0. 0. 0. 0. 0. 0.]\n",
      " [0. 1. 0. 0. 0. 0. 0. 0. 0. 0. 0.]\n",
      " [0. 1. 0. 0. 0. 0. 0. 0. 0. 0. 0.]\n",
      " [1. 0. 0. 0. 0. 0. 0. 0. 0. 0. 0.]\n",
      " [0. 0. 0. 0. 0. 0. 0. 0. 0. 0. 0.]\n",
      " [1. 0. 0. 0. 0. 0. 0. 0. 0. 0. 0.]\n",
      " [1. 0. 0. 0. 0. 0. 0. 0. 0. 0. 0.]\n",
      " [0. 0. 0. 1. 0. 0. 0. 0. 0. 0. 0.]\n",
      " [0. 0. 0. 1. 0. 0. 0. 0. 0. 0. 0.]\n",
      " [0. 0. 0. 1. 0. 0. 0. 0. 0. 0. 0.]\n",
      " [1. 0. 0. 0. 0. 0. 0. 0. 0. 0. 0.]\n",
      " [0. 0. 0. 0. 0. 0. 0. 0. 0. 0. 0.]\n",
      " [1. 0. 0. 0. 0. 0. 0. 0. 0. 0. 0.]\n",
      " [1. 0. 0. 0. 0. 0. 0. 0. 0. 0. 0.]\n",
      " [0. 0. 0. 1. 0. 0. 0. 0. 0. 0. 0.]\n",
      " [0. 0. 0. 1. 0. 0. 0. 0. 0. 0. 0.]\n",
      " [0. 0. 0. 1. 0. 0. 0. 0. 0. 0. 0.]\n",
      " [1. 0. 0. 0. 0. 0. 0. 0. 0. 0. 0.]\n",
      " [0. 0. 0. 0. 0. 0. 0. 0. 0. 0. 0.]]\n"
     ]
    }
   ],
   "source": [
    "#print(tf.reshape(tf.transpose(y_true2,perm=[0,2,1]),(42,11)))\n",
    "for i in range(11):\n",
    "    print(y_dat2[0][:,:,i])\n",
    "    \n",
    "print(np.reshape(y_dat2[0],(42,11)))\n",
    "#print(np.argmax(yi,axis=-1))\n",
    "#plt.imshow(np.argmax(yi,axis=-1),cmap=maskmap)"
   ]
  },
  {
   "cell_type": "code",
   "execution_count": 16,
   "id": "19d02770",
   "metadata": {},
   "outputs": [
    {
     "name": "stdout",
     "output_type": "stream",
     "text": [
      "(2, 2, 3)\n",
      "(4, 3)\n",
      "[[0 1 0]\n",
      " [0 0 0]\n",
      " [1 0 1]\n",
      " [1 0 0]]\n",
      "[[0.05 0.95 0.  ]\n",
      " [0.7  0.   1.  ]\n",
      " [0.9  0.8  0.1 ]\n",
      " [0.1  0.5  0.4 ]]\n"
     ]
    },
    {
     "data": {
      "text/plain": [
       "1.4843494"
      ]
     },
     "execution_count": 16,
     "metadata": {},
     "output_type": "execute_result"
    }
   ],
   "source": [
    "cce = tf.keras.losses.CategoricalCrossentropy()\n",
    "\n",
    "a = [[[0, 1,0], [0,0,0]], [[1, 0,1], [1,0,0]]]\n",
    "b = [[[0.05, 0.95,0], [0.7,0,1]], [[0.9, 0.8,0.1], [0.1,0.5,0.4]]]\n",
    "a2 = tf.reshape(a,(4,3))\n",
    "b2 = tf.reshape(b,(4,3))  #(batches, classes)\n",
    "\n",
    "print(np.array(a).shape)\n",
    "print(a2.shape)\n",
    "print(a2.numpy())\n",
    "print(b2.numpy())\n",
    "cce(a2,b2).numpy()"
   ]
  },
  {
   "cell_type": "code",
   "execution_count": 17,
   "id": "47c367ab",
   "metadata": {},
   "outputs": [
    {
     "name": "stdout",
     "output_type": "stream",
     "text": [
      "tf.Tensor(\n",
      "[[0 0 0 0 0 0 0]\n",
      " [0 0 0 0 0 0 0]\n",
      " [0 0 0 8 0 0 0]\n",
      " [0 0 8 8 8 0 0]\n",
      " [0 0 1 1 1 0 0]\n",
      " [0 0 1 1 1 0 0]], shape=(6, 7), dtype=int64)\n"
     ]
    },
    {
     "data": {
      "text/plain": [
       "<matplotlib.image.AxesImage at 0x15b7bde50>"
      ]
     },
     "execution_count": 17,
     "metadata": {},
     "output_type": "execute_result"
    },
    {
     "data": {
      "image/png": "[encoded data removed]",
      "text/plain": [
       "<Figure size 432x288 with 1 Axes>"
      ]
     },
     "metadata": {
      "needs_background": "light"
     },
     "output_type": "display_data"
    }
   ],
   "source": [
    "#un-hot encode\n",
    "print(tf.math.argmax(yi,axis=-1))\n",
    "plt.imshow(np.argmax(yi,axis=-1))"
   ]
  },
  {
   "cell_type": "markdown",
   "id": "9b150580",
   "metadata": {},
   "source": [
    "### Test loss function"
   ]
  },
  {
   "cell_type": "code",
   "execution_count": 18,
   "id": "9bc943c5",
   "metadata": {},
   "outputs": [],
   "source": [
    "#train the masking model\n",
    "mm = Sequential()\n",
    "mm.add(Input(shape=(6,7,1)))\n",
    "mm.add(Conv2D(32,2,activation=\"relu\", padding=\"same\"))\n",
    "mm.add(Conv2D(16,2,activation=\"relu\", padding=\"same\"))\n",
    "mm.add(Conv2D(11,2,activation=\"relu\", padding=\"same\"))\n",
    "#mm.add(Dense(11,activation=\"sigmoid\"))\n",
    "mm.add(Dense(11,activation=\"softmax\"))"
   ]
  },
  {
   "cell_type": "code",
   "execution_count": 19,
   "id": "c1b25ea5",
   "metadata": {},
   "outputs": [],
   "source": [
    "def mask_lossT(y_true,y_pred):\n",
    "    #cast values\n",
    "    zero = tf.constant(0, dtype=tf.float32)\n",
    "    y_true2 = tf.cast(y_true,tf.float32)\n",
    "    y_pred2 = tf.cast(y_pred,tf.float32)\n",
    "    \n",
    "    #use argmax\n",
    "#     yp2 = tf.one_hot(tf.cast(tf.math.argmax(y_pred2, axis=2),dtype=tf.int32),11, dtype=tf.float32)\n",
    "#     yp2 = tf.cast(tf.math.argmax(y_pred2, axis=-1),dtype=tf.float32)\n",
    "#     print(yp2.shape)\n",
    "#     print(type(yp2))\n",
    "#     print(yp2)\n",
    "\n",
    "    \n",
    "    #apply mask\n",
    "    #mask = tf.cast(tf.where(tf.not_equal(y_true2, zero),1,0),tf.float32)\n",
    "#     mask_pred = tf.math.multiply(y_pred2,mask)\n",
    "    #mask_pred = tf.math.multiply(yp2,mask)\n",
    "    \n",
    "    #get non-zero values only\n",
    "#     mb = tf.cast(mask, dtype=tf.bool)\n",
    "#     yt3 = tf.boolean_mask(yp2,mb)\n",
    "#     mp3 = tf.boolean_mask(mask_pred,mb)\n",
    "    \n",
    "    #return -(97.0 * y_true2 * K.log(mask_pred) + 3.0 * (1.0 - y_true2) * K.log(1.0 - mask_pred)) / 100.0 #wbce\n",
    "    #return tf.math.reduce_mean(tf.math.abs(y_true2 - tf.math.multiply(y_pred2,mask)) )   #mse\n",
    "    #return tf.losses.mean_squared_error(y_true2,mask_pred)\n",
    "    #return tf.losses.mean_squared_error(yt3,mp3)\n",
    "    #return tf.losses.mean_squared_error(y_true2,mask_pred)\n",
    "    \n",
    "#     print(y_true2.shape,yp2.shape)\n",
    "#     print(type(y_true2),type(yp2))\n",
    "#     return tf.losses.mean_squared_error(y_true2,yp2)\n",
    "\n",
    "    return tf.losses.mean_squared_error(y_true2,y_pred2)"
   ]
  },
  {
   "cell_type": "code",
   "execution_count": 20,
   "id": "769e35c9",
   "metadata": {},
   "outputs": [],
   "source": [
    "def moss(y_true,y_pred):\n",
    "    #cast values\n",
    "    zero = tf.constant(0, dtype=tf.float32)\n",
    "    y_true2 = tf.cast(y_true,tf.float32)\n",
    "    y_pred2 = tf.cast(y_pred,tf.float32)\n",
    "\n",
    "    return tf.losses.mean_squared_error(y_true2,y_pred2)"
   ]
  },
  {
   "cell_type": "code",
   "execution_count": 21,
   "id": "08550020",
   "metadata": {},
   "outputs": [
    {
     "name": "stdout",
     "output_type": "stream",
     "text": [
      "1/1 [==============================] - 0s 113ms/step\n"
     ]
    }
   ],
   "source": [
    "#test output\n",
    "i = random.randint(0,len(X_dat))\n",
    "mod_pred = mm.predict(np.expand_dims(X_dat[i],axis=0))\n",
    "y_act = np.expand_dims(y_dat2[i],axis=0)\n",
    "#print(mod_pred.shape,y_act.shape)"
   ]
  },
  {
   "cell_type": "code",
   "execution_count": 22,
   "id": "d1c5c393",
   "metadata": {},
   "outputs": [
    {
     "data": {
      "text/plain": [
       "<tf.Tensor: shape=(1, 6, 7), dtype=float32, numpy=\n",
       "array([[[0.0834337 , 0.08370855, 0.08306739, 0.083002  , 0.08258685,\n",
       "         0.08271351, 0.00826544],\n",
       "        [0.08364285, 0.08315151, 0.08326484, 0.08379955, 0.0831101 ,\n",
       "         0.08271995, 0.00827116],\n",
       "        [0.08284227, 0.08348569, 0.08362377, 0.08335763, 0.08284892,\n",
       "         0.08264463, 0.00826446],\n",
       "        [0.08283146, 0.08265009, 0.08408118, 0.08343774, 0.08283574,\n",
       "         0.08264463, 0.00826446],\n",
       "        [0.08270269, 0.0820317 , 0.08370025, 0.08284538, 0.08270971,\n",
       "         0.08264463, 0.00826446],\n",
       "        [0.08321375, 0.0831314 , 0.08390179, 0.08340553, 0.08278055,\n",
       "         0.08264463, 0.00826446]]], dtype=float32)>"
      ]
     },
     "execution_count": 22,
     "metadata": {},
     "output_type": "execute_result"
    }
   ],
   "source": [
    "moss(y_act,mod_pred)"
   ]
  },
  {
   "cell_type": "code",
   "execution_count": 23,
   "id": "2ed5658f",
   "metadata": {},
   "outputs": [
    {
     "name": "stdout",
     "output_type": "stream",
     "text": [
      "Epoch 1/100\n",
      "79/79 [==============================] - 1s 5ms/step - loss: 1.6699\n",
      "Epoch 2/100\n",
      "79/79 [==============================] - 0s 5ms/step - loss: 0.9349\n",
      "Epoch 3/100\n",
      "79/79 [==============================] - 0s 6ms/step - loss: 0.6848\n",
      "Epoch 4/100\n",
      "79/79 [==============================] - 0s 6ms/step - loss: 0.6269\n",
      "Epoch 5/100\n",
      "79/79 [==============================] - 0s 5ms/step - loss: 0.6966\n",
      "Epoch 6/100\n",
      "79/79 [==============================] - 0s 6ms/step - loss: 0.8446\n",
      "Epoch 7/100\n",
      "79/79 [==============================] - 0s 6ms/step - loss: 1.5932\n",
      "Epoch 8/100\n",
      "79/79 [==============================] - 0s 6ms/step - loss: 3.3771\n",
      "Epoch 9/100\n",
      "79/79 [==============================] - 1s 7ms/step - loss: 4.7597\n",
      "Epoch 10/100\n",
      "79/79 [==============================] - 1s 7ms/step - loss: 5.4599\n",
      "Epoch 11/100\n",
      "79/79 [==============================] - 1s 7ms/step - loss: 10.2188\n",
      "Epoch 12/100\n",
      "79/79 [==============================] - 1s 7ms/step - loss: 12.4730\n",
      "Epoch 13/100\n",
      "79/79 [==============================] - 1s 7ms/step - loss: 16.3288\n",
      "Epoch 14/100\n",
      "79/79 [==============================] - 0s 6ms/step - loss: 20.2669\n",
      "Epoch 15/100\n",
      "79/79 [==============================] - 1s 7ms/step - loss: 25.0557\n",
      "Epoch 16/100\n",
      "79/79 [==============================] - 1s 7ms/step - loss: 34.2308\n",
      "Epoch 17/100\n",
      "79/79 [==============================] - 1s 7ms/step - loss: 35.8953\n",
      "Epoch 18/100\n",
      "79/79 [==============================] - 1s 7ms/step - loss: 42.0161\n",
      "Epoch 19/100\n",
      "79/79 [==============================] - 1s 7ms/step - loss: 48.7271\n",
      "Epoch 20/100\n",
      "79/79 [==============================] - 1s 7ms/step - loss: 60.3699\n",
      "Epoch 21/100\n",
      "79/79 [==============================] - 1s 7ms/step - loss: 70.7841\n",
      "Epoch 22/100\n",
      "79/79 [==============================] - 1s 7ms/step - loss: 71.8413\n",
      "Epoch 23/100\n",
      "79/79 [==============================] - 1s 7ms/step - loss: 88.3089\n",
      "Epoch 24/100\n",
      "79/79 [==============================] - 1s 7ms/step - loss: 95.2099\n",
      "Epoch 25/100\n",
      "79/79 [==============================] - 1s 7ms/step - loss: 98.5570\n",
      "Epoch 26/100\n",
      "79/79 [==============================] - 1s 7ms/step - loss: 115.7464\n",
      "Epoch 27/100\n",
      "79/79 [==============================] - 1s 7ms/step - loss: 105.6679\n",
      "Epoch 28/100\n",
      "79/79 [==============================] - 1s 7ms/step - loss: 119.4910\n",
      "Epoch 29/100\n",
      "79/79 [==============================] - 1s 7ms/step - loss: 154.9750\n",
      "Epoch 30/100\n",
      "79/79 [==============================] - 1s 7ms/step - loss: 149.8779\n",
      "Epoch 31/100\n",
      "79/79 [==============================] - 1s 7ms/step - loss: 168.8638\n",
      "Epoch 32/100\n",
      "79/79 [==============================] - 1s 6ms/step - loss: 164.2282\n",
      "Epoch 33/100\n",
      "79/79 [==============================] - 1s 7ms/step - loss: 254.8447\n",
      "Epoch 34/100\n",
      "79/79 [==============================] - 1s 7ms/step - loss: 241.1953\n",
      "Epoch 35/100\n",
      "79/79 [==============================] - 1s 7ms/step - loss: 223.9644\n",
      "Epoch 36/100\n",
      "79/79 [==============================] - 1s 7ms/step - loss: 274.4901\n",
      "Epoch 37/100\n",
      "54/79 [===================>..........] - ETA: 0s - loss: 280.2999"
     ]
    },
    {
     "ename": "KeyboardInterrupt",
     "evalue": "",
     "output_type": "error",
     "traceback": [
      "\u001b[0;31m---------------------------------------------------------------------------\u001b[0m",
      "\u001b[0;31mKeyboardInterrupt\u001b[0m                         Traceback (most recent call last)",
      "Input \u001b[0;32mIn [23]\u001b[0m, in \u001b[0;36m<cell line: 2>\u001b[0;34m()\u001b[0m\n\u001b[1;32m      1\u001b[0m mm\u001b[38;5;241m.\u001b[39mcompile(optimizer\u001b[38;5;241m=\u001b[39m\u001b[38;5;124m'\u001b[39m\u001b[38;5;124madam\u001b[39m\u001b[38;5;124m'\u001b[39m,loss\u001b[38;5;241m=\u001b[39m\u001b[38;5;124m'\u001b[39m\u001b[38;5;124mcategorical_crossentropy\u001b[39m\u001b[38;5;124m'\u001b[39m)\n\u001b[0;32m----> 2\u001b[0m \u001b[43mmm\u001b[49m\u001b[38;5;241;43m.\u001b[39;49m\u001b[43mfit\u001b[49m\u001b[43m(\u001b[49m\u001b[43mX_dat\u001b[49m\u001b[43m,\u001b[49m\u001b[43my_dat2\u001b[49m\u001b[43m,\u001b[49m\u001b[43mepochs\u001b[49m\u001b[38;5;241;43m=\u001b[39;49m\u001b[38;5;241;43m100\u001b[39;49m\u001b[43m)\u001b[49m\n",
      "File \u001b[0;32m~/anaconda3/envs/MCIntEvo/lib/python3.9/site-packages/keras/utils/traceback_utils.py:64\u001b[0m, in \u001b[0;36mfilter_traceback.<locals>.error_handler\u001b[0;34m(*args, **kwargs)\u001b[0m\n\u001b[1;32m     62\u001b[0m filtered_tb \u001b[38;5;241m=\u001b[39m \u001b[38;5;28;01mNone\u001b[39;00m\n\u001b[1;32m     63\u001b[0m \u001b[38;5;28;01mtry\u001b[39;00m:\n\u001b[0;32m---> 64\u001b[0m   \u001b[38;5;28;01mreturn\u001b[39;00m \u001b[43mfn\u001b[49m\u001b[43m(\u001b[49m\u001b[38;5;241;43m*\u001b[39;49m\u001b[43margs\u001b[49m\u001b[43m,\u001b[49m\u001b[43m \u001b[49m\u001b[38;5;241;43m*\u001b[39;49m\u001b[38;5;241;43m*\u001b[39;49m\u001b[43mkwargs\u001b[49m\u001b[43m)\u001b[49m\n\u001b[1;32m     65\u001b[0m \u001b[38;5;28;01mexcept\u001b[39;00m \u001b[38;5;167;01mException\u001b[39;00m \u001b[38;5;28;01mas\u001b[39;00m e:  \u001b[38;5;66;03m# pylint: disable=broad-except\u001b[39;00m\n\u001b[1;32m     66\u001b[0m   filtered_tb \u001b[38;5;241m=\u001b[39m _process_traceback_frames(e\u001b[38;5;241m.\u001b[39m__traceback__)\n",
      "File \u001b[0;32m~/anaconda3/envs/MCIntEvo/lib/python3.9/site-packages/keras/engine/training.py:1409\u001b[0m, in \u001b[0;36mModel.fit\u001b[0;34m(self, x, y, batch_size, epochs, verbose, callbacks, validation_split, validation_data, shuffle, class_weight, sample_weight, initial_epoch, steps_per_epoch, validation_steps, validation_batch_size, validation_freq, max_queue_size, workers, use_multiprocessing)\u001b[0m\n\u001b[1;32m   1402\u001b[0m \u001b[38;5;28;01mwith\u001b[39;00m tf\u001b[38;5;241m.\u001b[39mprofiler\u001b[38;5;241m.\u001b[39mexperimental\u001b[38;5;241m.\u001b[39mTrace(\n\u001b[1;32m   1403\u001b[0m     \u001b[38;5;124m'\u001b[39m\u001b[38;5;124mtrain\u001b[39m\u001b[38;5;124m'\u001b[39m,\n\u001b[1;32m   1404\u001b[0m     epoch_num\u001b[38;5;241m=\u001b[39mepoch,\n\u001b[1;32m   1405\u001b[0m     step_num\u001b[38;5;241m=\u001b[39mstep,\n\u001b[1;32m   1406\u001b[0m     batch_size\u001b[38;5;241m=\u001b[39mbatch_size,\n\u001b[1;32m   1407\u001b[0m     _r\u001b[38;5;241m=\u001b[39m\u001b[38;5;241m1\u001b[39m):\n\u001b[1;32m   1408\u001b[0m   callbacks\u001b[38;5;241m.\u001b[39mon_train_batch_begin(step)\n\u001b[0;32m-> 1409\u001b[0m   tmp_logs \u001b[38;5;241m=\u001b[39m \u001b[38;5;28;43mself\u001b[39;49m\u001b[38;5;241;43m.\u001b[39;49m\u001b[43mtrain_function\u001b[49m\u001b[43m(\u001b[49m\u001b[43miterator\u001b[49m\u001b[43m)\u001b[49m\n\u001b[1;32m   1410\u001b[0m   \u001b[38;5;28;01mif\u001b[39;00m data_handler\u001b[38;5;241m.\u001b[39mshould_sync:\n\u001b[1;32m   1411\u001b[0m     context\u001b[38;5;241m.\u001b[39masync_wait()\n",
      "File \u001b[0;32m~/anaconda3/envs/MCIntEvo/lib/python3.9/site-packages/tensorflow/python/util/traceback_utils.py:150\u001b[0m, in \u001b[0;36mfilter_traceback.<locals>.error_handler\u001b[0;34m(*args, **kwargs)\u001b[0m\n\u001b[1;32m    148\u001b[0m filtered_tb \u001b[38;5;241m=\u001b[39m \u001b[38;5;28;01mNone\u001b[39;00m\n\u001b[1;32m    149\u001b[0m \u001b[38;5;28;01mtry\u001b[39;00m:\n\u001b[0;32m--> 150\u001b[0m   \u001b[38;5;28;01mreturn\u001b[39;00m \u001b[43mfn\u001b[49m\u001b[43m(\u001b[49m\u001b[38;5;241;43m*\u001b[39;49m\u001b[43margs\u001b[49m\u001b[43m,\u001b[49m\u001b[43m \u001b[49m\u001b[38;5;241;43m*\u001b[39;49m\u001b[38;5;241;43m*\u001b[39;49m\u001b[43mkwargs\u001b[49m\u001b[43m)\u001b[49m\n\u001b[1;32m    151\u001b[0m \u001b[38;5;28;01mexcept\u001b[39;00m \u001b[38;5;167;01mException\u001b[39;00m \u001b[38;5;28;01mas\u001b[39;00m e:\n\u001b[1;32m    152\u001b[0m   filtered_tb \u001b[38;5;241m=\u001b[39m _process_traceback_frames(e\u001b[38;5;241m.\u001b[39m__traceback__)\n",
      "File \u001b[0;32m~/anaconda3/envs/MCIntEvo/lib/python3.9/site-packages/tensorflow/python/eager/def_function.py:915\u001b[0m, in \u001b[0;36mFunction.__call__\u001b[0;34m(self, *args, **kwds)\u001b[0m\n\u001b[1;32m    912\u001b[0m compiler \u001b[38;5;241m=\u001b[39m \u001b[38;5;124m\"\u001b[39m\u001b[38;5;124mxla\u001b[39m\u001b[38;5;124m\"\u001b[39m \u001b[38;5;28;01mif\u001b[39;00m \u001b[38;5;28mself\u001b[39m\u001b[38;5;241m.\u001b[39m_jit_compile \u001b[38;5;28;01melse\u001b[39;00m \u001b[38;5;124m\"\u001b[39m\u001b[38;5;124mnonXla\u001b[39m\u001b[38;5;124m\"\u001b[39m\n\u001b[1;32m    914\u001b[0m \u001b[38;5;28;01mwith\u001b[39;00m OptionalXlaContext(\u001b[38;5;28mself\u001b[39m\u001b[38;5;241m.\u001b[39m_jit_compile):\n\u001b[0;32m--> 915\u001b[0m   result \u001b[38;5;241m=\u001b[39m \u001b[38;5;28;43mself\u001b[39;49m\u001b[38;5;241;43m.\u001b[39;49m\u001b[43m_call\u001b[49m\u001b[43m(\u001b[49m\u001b[38;5;241;43m*\u001b[39;49m\u001b[43margs\u001b[49m\u001b[43m,\u001b[49m\u001b[43m \u001b[49m\u001b[38;5;241;43m*\u001b[39;49m\u001b[38;5;241;43m*\u001b[39;49m\u001b[43mkwds\u001b[49m\u001b[43m)\u001b[49m\n\u001b[1;32m    917\u001b[0m new_tracing_count \u001b[38;5;241m=\u001b[39m \u001b[38;5;28mself\u001b[39m\u001b[38;5;241m.\u001b[39mexperimental_get_tracing_count()\n\u001b[1;32m    918\u001b[0m without_tracing \u001b[38;5;241m=\u001b[39m (tracing_count \u001b[38;5;241m==\u001b[39m new_tracing_count)\n",
      "File \u001b[0;32m~/anaconda3/envs/MCIntEvo/lib/python3.9/site-packages/tensorflow/python/eager/def_function.py:947\u001b[0m, in \u001b[0;36mFunction._call\u001b[0;34m(self, *args, **kwds)\u001b[0m\n\u001b[1;32m    944\u001b[0m   \u001b[38;5;28mself\u001b[39m\u001b[38;5;241m.\u001b[39m_lock\u001b[38;5;241m.\u001b[39mrelease()\n\u001b[1;32m    945\u001b[0m   \u001b[38;5;66;03m# In this case we have created variables on the first call, so we run the\u001b[39;00m\n\u001b[1;32m    946\u001b[0m   \u001b[38;5;66;03m# defunned version which is guaranteed to never create variables.\u001b[39;00m\n\u001b[0;32m--> 947\u001b[0m   \u001b[38;5;28;01mreturn\u001b[39;00m \u001b[38;5;28;43mself\u001b[39;49m\u001b[38;5;241;43m.\u001b[39;49m\u001b[43m_stateless_fn\u001b[49m\u001b[43m(\u001b[49m\u001b[38;5;241;43m*\u001b[39;49m\u001b[43margs\u001b[49m\u001b[43m,\u001b[49m\u001b[43m \u001b[49m\u001b[38;5;241;43m*\u001b[39;49m\u001b[38;5;241;43m*\u001b[39;49m\u001b[43mkwds\u001b[49m\u001b[43m)\u001b[49m  \u001b[38;5;66;03m# pylint: disable=not-callable\u001b[39;00m\n\u001b[1;32m    948\u001b[0m \u001b[38;5;28;01melif\u001b[39;00m \u001b[38;5;28mself\u001b[39m\u001b[38;5;241m.\u001b[39m_stateful_fn \u001b[38;5;129;01mis\u001b[39;00m \u001b[38;5;129;01mnot\u001b[39;00m \u001b[38;5;28;01mNone\u001b[39;00m:\n\u001b[1;32m    949\u001b[0m   \u001b[38;5;66;03m# Release the lock early so that multiple threads can perform the call\u001b[39;00m\n\u001b[1;32m    950\u001b[0m   \u001b[38;5;66;03m# in parallel.\u001b[39;00m\n\u001b[1;32m    951\u001b[0m   \u001b[38;5;28mself\u001b[39m\u001b[38;5;241m.\u001b[39m_lock\u001b[38;5;241m.\u001b[39mrelease()\n",
      "File \u001b[0;32m~/anaconda3/envs/MCIntEvo/lib/python3.9/site-packages/tensorflow/python/eager/function.py:2453\u001b[0m, in \u001b[0;36mFunction.__call__\u001b[0;34m(self, *args, **kwargs)\u001b[0m\n\u001b[1;32m   2450\u001b[0m \u001b[38;5;28;01mwith\u001b[39;00m \u001b[38;5;28mself\u001b[39m\u001b[38;5;241m.\u001b[39m_lock:\n\u001b[1;32m   2451\u001b[0m   (graph_function,\n\u001b[1;32m   2452\u001b[0m    filtered_flat_args) \u001b[38;5;241m=\u001b[39m \u001b[38;5;28mself\u001b[39m\u001b[38;5;241m.\u001b[39m_maybe_define_function(args, kwargs)\n\u001b[0;32m-> 2453\u001b[0m \u001b[38;5;28;01mreturn\u001b[39;00m \u001b[43mgraph_function\u001b[49m\u001b[38;5;241;43m.\u001b[39;49m\u001b[43m_call_flat\u001b[49m\u001b[43m(\u001b[49m\n\u001b[1;32m   2454\u001b[0m \u001b[43m    \u001b[49m\u001b[43mfiltered_flat_args\u001b[49m\u001b[43m,\u001b[49m\u001b[43m \u001b[49m\u001b[43mcaptured_inputs\u001b[49m\u001b[38;5;241;43m=\u001b[39;49m\u001b[43mgraph_function\u001b[49m\u001b[38;5;241;43m.\u001b[39;49m\u001b[43mcaptured_inputs\u001b[49m\u001b[43m)\u001b[49m\n",
      "File \u001b[0;32m~/anaconda3/envs/MCIntEvo/lib/python3.9/site-packages/tensorflow/python/eager/function.py:1860\u001b[0m, in \u001b[0;36mConcreteFunction._call_flat\u001b[0;34m(self, args, captured_inputs, cancellation_manager)\u001b[0m\n\u001b[1;32m   1856\u001b[0m possible_gradient_type \u001b[38;5;241m=\u001b[39m gradients_util\u001b[38;5;241m.\u001b[39mPossibleTapeGradientTypes(args)\n\u001b[1;32m   1857\u001b[0m \u001b[38;5;28;01mif\u001b[39;00m (possible_gradient_type \u001b[38;5;241m==\u001b[39m gradients_util\u001b[38;5;241m.\u001b[39mPOSSIBLE_GRADIENT_TYPES_NONE\n\u001b[1;32m   1858\u001b[0m     \u001b[38;5;129;01mand\u001b[39;00m executing_eagerly):\n\u001b[1;32m   1859\u001b[0m   \u001b[38;5;66;03m# No tape is watching; skip to running the function.\u001b[39;00m\n\u001b[0;32m-> 1860\u001b[0m   \u001b[38;5;28;01mreturn\u001b[39;00m \u001b[38;5;28mself\u001b[39m\u001b[38;5;241m.\u001b[39m_build_call_outputs(\u001b[38;5;28;43mself\u001b[39;49m\u001b[38;5;241;43m.\u001b[39;49m\u001b[43m_inference_function\u001b[49m\u001b[38;5;241;43m.\u001b[39;49m\u001b[43mcall\u001b[49m\u001b[43m(\u001b[49m\n\u001b[1;32m   1861\u001b[0m \u001b[43m      \u001b[49m\u001b[43mctx\u001b[49m\u001b[43m,\u001b[49m\u001b[43m \u001b[49m\u001b[43margs\u001b[49m\u001b[43m,\u001b[49m\u001b[43m \u001b[49m\u001b[43mcancellation_manager\u001b[49m\u001b[38;5;241;43m=\u001b[39;49m\u001b[43mcancellation_manager\u001b[49m\u001b[43m)\u001b[49m)\n\u001b[1;32m   1862\u001b[0m forward_backward \u001b[38;5;241m=\u001b[39m \u001b[38;5;28mself\u001b[39m\u001b[38;5;241m.\u001b[39m_select_forward_and_backward_functions(\n\u001b[1;32m   1863\u001b[0m     args,\n\u001b[1;32m   1864\u001b[0m     possible_gradient_type,\n\u001b[1;32m   1865\u001b[0m     executing_eagerly)\n\u001b[1;32m   1866\u001b[0m forward_function, args_with_tangents \u001b[38;5;241m=\u001b[39m forward_backward\u001b[38;5;241m.\u001b[39mforward()\n",
      "File \u001b[0;32m~/anaconda3/envs/MCIntEvo/lib/python3.9/site-packages/tensorflow/python/eager/function.py:497\u001b[0m, in \u001b[0;36m_EagerDefinedFunction.call\u001b[0;34m(self, ctx, args, cancellation_manager)\u001b[0m\n\u001b[1;32m    495\u001b[0m \u001b[38;5;28;01mwith\u001b[39;00m _InterpolateFunctionError(\u001b[38;5;28mself\u001b[39m):\n\u001b[1;32m    496\u001b[0m   \u001b[38;5;28;01mif\u001b[39;00m cancellation_manager \u001b[38;5;129;01mis\u001b[39;00m \u001b[38;5;28;01mNone\u001b[39;00m:\n\u001b[0;32m--> 497\u001b[0m     outputs \u001b[38;5;241m=\u001b[39m \u001b[43mexecute\u001b[49m\u001b[38;5;241;43m.\u001b[39;49m\u001b[43mexecute\u001b[49m\u001b[43m(\u001b[49m\n\u001b[1;32m    498\u001b[0m \u001b[43m        \u001b[49m\u001b[38;5;28;43mstr\u001b[39;49m\u001b[43m(\u001b[49m\u001b[38;5;28;43mself\u001b[39;49m\u001b[38;5;241;43m.\u001b[39;49m\u001b[43msignature\u001b[49m\u001b[38;5;241;43m.\u001b[39;49m\u001b[43mname\u001b[49m\u001b[43m)\u001b[49m\u001b[43m,\u001b[49m\n\u001b[1;32m    499\u001b[0m \u001b[43m        \u001b[49m\u001b[43mnum_outputs\u001b[49m\u001b[38;5;241;43m=\u001b[39;49m\u001b[38;5;28;43mself\u001b[39;49m\u001b[38;5;241;43m.\u001b[39;49m\u001b[43m_num_outputs\u001b[49m\u001b[43m,\u001b[49m\n\u001b[1;32m    500\u001b[0m \u001b[43m        \u001b[49m\u001b[43minputs\u001b[49m\u001b[38;5;241;43m=\u001b[39;49m\u001b[43margs\u001b[49m\u001b[43m,\u001b[49m\n\u001b[1;32m    501\u001b[0m \u001b[43m        \u001b[49m\u001b[43mattrs\u001b[49m\u001b[38;5;241;43m=\u001b[39;49m\u001b[43mattrs\u001b[49m\u001b[43m,\u001b[49m\n\u001b[1;32m    502\u001b[0m \u001b[43m        \u001b[49m\u001b[43mctx\u001b[49m\u001b[38;5;241;43m=\u001b[39;49m\u001b[43mctx\u001b[49m\u001b[43m)\u001b[49m\n\u001b[1;32m    503\u001b[0m   \u001b[38;5;28;01melse\u001b[39;00m:\n\u001b[1;32m    504\u001b[0m     outputs \u001b[38;5;241m=\u001b[39m execute\u001b[38;5;241m.\u001b[39mexecute_with_cancellation(\n\u001b[1;32m    505\u001b[0m         \u001b[38;5;28mstr\u001b[39m(\u001b[38;5;28mself\u001b[39m\u001b[38;5;241m.\u001b[39msignature\u001b[38;5;241m.\u001b[39mname),\n\u001b[1;32m    506\u001b[0m         num_outputs\u001b[38;5;241m=\u001b[39m\u001b[38;5;28mself\u001b[39m\u001b[38;5;241m.\u001b[39m_num_outputs,\n\u001b[0;32m   (...)\u001b[0m\n\u001b[1;32m    509\u001b[0m         ctx\u001b[38;5;241m=\u001b[39mctx,\n\u001b[1;32m    510\u001b[0m         cancellation_manager\u001b[38;5;241m=\u001b[39mcancellation_manager)\n",
      "File \u001b[0;32m~/anaconda3/envs/MCIntEvo/lib/python3.9/site-packages/tensorflow/python/eager/execute.py:54\u001b[0m, in \u001b[0;36mquick_execute\u001b[0;34m(op_name, num_outputs, inputs, attrs, ctx, name)\u001b[0m\n\u001b[1;32m     52\u001b[0m \u001b[38;5;28;01mtry\u001b[39;00m:\n\u001b[1;32m     53\u001b[0m   ctx\u001b[38;5;241m.\u001b[39mensure_initialized()\n\u001b[0;32m---> 54\u001b[0m   tensors \u001b[38;5;241m=\u001b[39m \u001b[43mpywrap_tfe\u001b[49m\u001b[38;5;241;43m.\u001b[39;49m\u001b[43mTFE_Py_Execute\u001b[49m\u001b[43m(\u001b[49m\u001b[43mctx\u001b[49m\u001b[38;5;241;43m.\u001b[39;49m\u001b[43m_handle\u001b[49m\u001b[43m,\u001b[49m\u001b[43m \u001b[49m\u001b[43mdevice_name\u001b[49m\u001b[43m,\u001b[49m\u001b[43m \u001b[49m\u001b[43mop_name\u001b[49m\u001b[43m,\u001b[49m\n\u001b[1;32m     55\u001b[0m \u001b[43m                                      \u001b[49m\u001b[43minputs\u001b[49m\u001b[43m,\u001b[49m\u001b[43m \u001b[49m\u001b[43mattrs\u001b[49m\u001b[43m,\u001b[49m\u001b[43m \u001b[49m\u001b[43mnum_outputs\u001b[49m\u001b[43m)\u001b[49m\n\u001b[1;32m     56\u001b[0m \u001b[38;5;28;01mexcept\u001b[39;00m core\u001b[38;5;241m.\u001b[39m_NotOkStatusException \u001b[38;5;28;01mas\u001b[39;00m e:\n\u001b[1;32m     57\u001b[0m   \u001b[38;5;28;01mif\u001b[39;00m name \u001b[38;5;129;01mis\u001b[39;00m \u001b[38;5;129;01mnot\u001b[39;00m \u001b[38;5;28;01mNone\u001b[39;00m:\n",
      "\u001b[0;31mKeyboardInterrupt\u001b[0m: "
     ]
    }
   ],
   "source": [
    "mm.compile(optimizer='adam',loss='categorical_crossentropy')\n",
    "mm.fit(X_dat,y_dat2,epochs=100)"
   ]
  },
  {
   "cell_type": "code",
   "execution_count": 24,
   "id": "ff1244f5",
   "metadata": {},
   "outputs": [
    {
     "data": {
      "image/png": "[encoded data removed]",
      "text/plain": [
       "<Figure size 360x144 with 3 Axes>"
      ]
     },
     "metadata": {
      "needs_background": "light"
     },
     "output_type": "display_data"
    },
    {
     "name": "stdout",
     "output_type": "stream",
     "text": [
      "[[ 0  0  0  0  0  0  0]\n",
      " [ 2  4  4  0  0 10  0]\n",
      " [ 0  0  0  0  0  0  0]\n",
      " [ 0  0  3  3  3  0  0]\n",
      " [ 0  0  7  7  7  0  0]\n",
      " [ 0  0  7  7  7  0  0]]\n",
      "[[0 0 0 0 0 0 0]\n",
      " [0 0 0 0 0 0 3]\n",
      " [0 0 0 0 0 0 0]\n",
      " [0 0 0 0 0 0 0]\n",
      " [0 0 0 0 0 0 0]\n",
      " [0 0 0 0 3 0 0]]\n"
     ]
    },
    {
     "data": {
      "image/png": "[encoded data removed]",
      "text/plain": [
       "<Figure size 360x144 with 3 Axes>"
      ]
     },
     "metadata": {
      "needs_background": "light"
     },
     "output_type": "display_data"
    },
    {
     "name": "stdout",
     "output_type": "stream",
     "text": [
      "[[0 0 0 0 0 0 0]\n",
      " [0 0 0 0 0 0 0]\n",
      " [0 0 0 0 0 0 0]\n",
      " [0 0 7 7 7 0 0]\n",
      " [0 0 4 4 4 0 0]\n",
      " [0 0 4 4 4 0 0]]\n",
      "[[0 0 0 0 0 0 0]\n",
      " [0 0 0 0 0 0 0]\n",
      " [0 0 0 0 0 0 0]\n",
      " [0 0 0 0 0 0 0]\n",
      " [0 0 0 0 0 0 0]\n",
      " [0 0 0 0 3 0 0]]\n"
     ]
    },
    {
     "data": {
      "image/png": "[encoded data removed]",
      "text/plain": [
       "<Figure size 360x144 with 3 Axes>"
      ]
     },
     "metadata": {
      "needs_background": "light"
     },
     "output_type": "display_data"
    },
    {
     "name": "stdout",
     "output_type": "stream",
     "text": [
      "[[ 0  0  0  0  0  0  0]\n",
      " [10  0  0  0  0  0  0]\n",
      " [ 4  4  0  0  0  0  0]\n",
      " [ 0  0  4  4  4  4  0]\n",
      " [ 0  0  8  8  8  0  0]\n",
      " [ 0  0  8  8  8  0  0]]\n",
      "[[0 0 0 0 0 0 0]\n",
      " [0 0 0 0 0 0 0]\n",
      " [0 0 0 0 0 0 0]\n",
      " [0 0 0 0 0 0 3]\n",
      " [0 0 0 0 0 0 0]\n",
      " [0 0 0 0 3 0 0]]\n"
     ]
    },
    {
     "data": {
      "image/png": "[encoded data removed]",
      "text/plain": [
       "<Figure size 360x144 with 3 Axes>"
      ]
     },
     "metadata": {
      "needs_background": "light"
     },
     "output_type": "display_data"
    },
    {
     "name": "stdout",
     "output_type": "stream",
     "text": [
      "[[0 0 0 0 0 0 0]\n",
      " [0 0 0 0 0 0 0]\n",
      " [0 0 0 0 0 0 0]\n",
      " [0 0 5 5 5 0 0]\n",
      " [0 0 3 3 3 0 0]\n",
      " [0 0 3 3 3 0 0]]\n",
      "[[0 0 0 0 0 0 0]\n",
      " [0 0 0 0 0 0 0]\n",
      " [0 0 0 0 0 0 0]\n",
      " [0 0 0 0 0 0 0]\n",
      " [0 0 0 0 0 0 0]\n",
      " [0 0 0 0 3 0 0]]\n"
     ]
    },
    {
     "data": {
      "image/png": "[encoded data removed]",
      "text/plain": [
       "<Figure size 360x144 with 3 Axes>"
      ]
     },
     "metadata": {
      "needs_background": "light"
     },
     "output_type": "display_data"
    },
    {
     "name": "stdout",
     "output_type": "stream",
     "text": [
      "[[0 0 0 0 0 0 0]\n",
      " [0 0 0 0 0 0 0]\n",
      " [0 0 0 0 0 7 0]\n",
      " [0 0 5 5 5 0 0]\n",
      " [0 0 9 9 9 0 0]\n",
      " [0 0 9 9 9 0 0]]\n",
      "[[0 0 0 0 0 0 0]\n",
      " [0 0 0 0 0 0 0]\n",
      " [0 0 0 0 0 0 0]\n",
      " [0 0 0 0 0 0 3]\n",
      " [0 0 0 0 0 0 0]\n",
      " [0 0 0 0 3 0 0]]\n"
     ]
    }
   ],
   "source": [
    "#show some predictions\n",
    "pickset = random.choices(range(len(X_dat)),k=5)\n",
    "d = [(X_dat[i],y_dat2[i]) for i in pickset]\n",
    "for di in d:\n",
    "    showModelPred(mm,di[0],di[1],True)"
   ]
  },
  {
   "cell_type": "code",
   "execution_count": 26,
   "id": "7366c1da",
   "metadata": {},
   "outputs": [
    {
     "name": "stdout",
     "output_type": "stream",
     "text": [
      "(2500, 6, 7, 1)\n",
      "(2500, 6, 7, 11)\n"
     ]
    }
   ],
   "source": [
    "print(X_dat.shape)\n",
    "print(y_dat2.shape)"
   ]
  },
  {
   "cell_type": "code",
   "execution_count": null,
   "id": "c5a08323",
   "metadata": {},
   "outputs": [],
   "source": []
  }
 ],
 "metadata": {
  "kernelspec": {
   "display_name": "MCIntEvo",
   "language": "python",
   "name": "mcintevo"
  },
  "language_info": {
   "codemirror_mode": {
    "name": "ipython",
    "version": 3
   },
   "file_extension": ".py",
   "mimetype": "text/x-python",
   "name": "python",
   "nbconvert_exporter": "python",
   "pygments_lexer": "ipython3",
   "version": "3.9.12"
  }
 },
 "nbformat": 4,
 "nbformat_minor": 5
}
