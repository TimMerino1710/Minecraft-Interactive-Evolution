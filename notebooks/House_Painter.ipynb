{
  "nbformat": 4,
  "nbformat_minor": 0,
  "metadata": {
    "colab": {
      "provenance": [],
      "collapsed_sections": [],
      "machine_shape": "hm"
    },
    "kernelspec": {
      "name": "python3",
      "display_name": "Python 3"
    },
    "language_info": {
      "name": "python"
    },
    "accelerator": "GPU",
    "gpuClass": "standard"
  },
  "cells": [
    {
      "cell_type": "code",
      "execution_count": 23,
      "metadata": {
        "id": "bFSh6_5V5qPx"
      },
      "outputs": [],
      "source": [
        "import os\n",
        "import numpy as np\n",
        "import matplotlib.pyplot as plt\n",
        "import random\n",
        "import tensorflow as tf\n",
        "\n",
        "from keras.models import Model\n",
        "from keras import backend as K\n",
        "from keras import Input\n",
        "from keras import Sequential\n",
        "from keras.layers import Dense, BatchNormalization, Conv3DTranspose, LeakyReLU, Reshape, ReLU, Conv3D, Flatten, MaxPooling3D\n",
        "\n",
        "from tqdm import tqdm\n",
        "\n",
        "%matplotlib inline"
      ]
    },
    {
      "cell_type": "code",
      "source": [
        "def show3D(builds, binary=True, textArr=None):\n",
        "    fig = plt.figure(figsize=(20,7))\n",
        "    col = 8\n",
        "    \n",
        "    if binary:\n",
        "        colors = 'red'\n",
        "    else:\n",
        "        colors = 'red' #replace later with colors for each block id value [0-12]\n",
        "    \n",
        "    for i, build in enumerate(builds):\n",
        "        ax = fig.add_subplot(int(len(builds) / col) + 1, col, i + 1,  projection='3d')\n",
        "        ax.voxels(build, edgecolor=\"k\", facecolors=colors, linewidth=0.5)\n",
        "        plt.axis('off')\n",
        "        if textArr != None:\n",
        "            plt.title(textArr[i])\n",
        "    plt.show()"
      ],
      "metadata": {
        "id": "KI8xZK8g5vT6"
      },
      "execution_count": 24,
      "outputs": []
    },
    {
      "cell_type": "code",
      "source": [
        "def one_hot(m,channels):\n",
        "  map4d = np.zeros((m.shape[0],m.shape[1],m.shape[2],len(channels)))\n",
        "  for r in range(m.shape[0]):\n",
        "    for c in range(m.shape[1]):\n",
        "      for z in range(m.shape[2]):\n",
        "        v = list(channels).index(m[r][c][z])\n",
        "        map4d[r][c][z][v] = 1\n",
        "  return map4d"
      ],
      "metadata": {
        "id": "6heie1pdBzIF"
      },
      "execution_count": 25,
      "outputs": []
    },
    {
      "cell_type": "code",
      "source": [
        "def cropHouse(h):\n",
        "    # argwhere will give you the coordinates of every non-zero point\n",
        "    true_points = np.argwhere(h)\n",
        "    # take the smallest points and use them as the top left of your crop\n",
        "    top_left = true_points.min(axis=0)\n",
        "    # take the largest points and use them as the bottom right of your crop\n",
        "    bottom_right = true_points.max(axis=0)\n",
        "    out = h[top_left[0]:bottom_right[0]+1,  # plus 1 because slice isn't\n",
        "              top_left[1]:bottom_right[1]+1,top_left[2]:bottom_right[2]+1]  # inclusive\n",
        "    \n",
        "    return out\n",
        "\n",
        "def houseTrans(h,s=(16,16,16)):\n",
        "    hts = []\n",
        "    s2 = cropHouse(h)\n",
        "    s2s = s2.shape\n",
        "    ds = (s[0]-s2s[0],s[1]-s2s[1],s[2]-s2s[2])\n",
        "    RATE = 2\n",
        "    #print(ds)\n",
        "    #for x in range(1):\n",
        "    for x in range(0,s[0]-s2s[0]+1,RATE):\n",
        "        #for y in range(1):\n",
        "        for y in range(0,s[1]-s2s[1],RATE):\n",
        "            for z in range(1):\n",
        "            #for z in range(s[2]-s2s[2]+1):\n",
        "                thouse = np.zeros(shape=s)\n",
        "                thouse[x:x+s2s[0],y:y+s2s[1],z:z+s2s[2]] = s2.copy()\n",
        "                hts.append(thouse)\n",
        "    return hts"
      ],
      "metadata": {
        "id": "jbwpjTXfs_5u"
      },
      "execution_count": 26,
      "outputs": []
    },
    {
      "cell_type": "code",
      "source": [
        "compression_list = [[0, 6, 26, 27, 28, 30, 55, 63, 65, 66, 68, 69, 70, 72, 77, 97, 104, 117, 127, 131, 132, 143, 144, 147, 148, 149, 167, 171, 50, 51, 76, 105, 123, 64, 71, 193, 194, 195, 196, 197, 8, 9, 10, 11, 213],[1, 4, 7, 29, 33, 34, 46, 48, 49, 52, 54, 61, 87, 89, 98, 45, 112, 120, 121, 139, 155, 158, 168, 169, 201, 202, 206, 215, 216, 218, 219, 220, 221, 222, 225, 226, 227, 228, 229, 230, 231, 232, 233, 234, 235, 236, 237, 238, 239, 240, 241, 242, 243, 244, 245, 246, 247, 248, 249, 250, 251, 252, 35, 14, 15, 16, 21, 56, 73, 129, 153],[2, 3, 82, 88, 159, 172, 173, 214, 12, 13, 19, 24, 179, 78, 79, 80, 174],[5, 17, 25, 47, 58, 84, 96, 116, 130, 140, 146, 151, 154, 162],[18, 31, 32, 81, 86, 91, 103, 106, 161, 170, 199, 200, 207],[20, 92, 102, 160, 95],[22, 23, 41, 42, 57, 118, 133, 138, 145, 152, 165],[37, 38, 39, 40, 59, 83, 110, 115, 141, 142, 175],[43, 44, 92, 125, 126, 181, 182, 204, 205],[53, 67, 108, 109, 114, 128, 134, 135, 136, 156, 163, 164, 180, 203],[85, 101, 107, 113, 183, 184, 185, 186, 187, 188, 189, 190, 191, 192, 198]]\n",
        "real_comp_list = [0,1,2,5,12,18,20,42,53,85,126]\n",
        "def getCompLoc(bi):\n",
        "  for i in range(len(compression_list)):\n",
        "    if int(bi) in compression_list[i]:\n",
        "      return i\n",
        "  return 0\n",
        "\n",
        "#remove oob values\n",
        "def compress_house(house):\n",
        "    poss_values = sum(compression_list,[])\n",
        "    alter_house = abs(house)\n",
        "    for i in range(alter_house.shape[0]):\n",
        "        for j in range(alter_house.shape[1]):\n",
        "            for k in range(alter_house.shape[2]):\n",
        "                  alter_house[i][j][k] = getCompLoc(alter_house[i][j][k])\n",
        "    return alter_house\n",
        "\n",
        "# reassign the block id to the real compressed version\n",
        "def reassignBlock(house):\n",
        "    alter_house = np.copy(house)\n",
        "    for i in range(alter_house.shape[0]):\n",
        "        for j in range(alter_house.shape[1]):\n",
        "            for k in range(alter_house.shape[2]):\n",
        "                alter_house[i][j][k] = real_comp_list[int(alter_house[i][j][k])]\n",
        "    return alter_house"
      ],
      "metadata": {
        "id": "LGwn33nAM9b9"
      },
      "execution_count": 27,
      "outputs": []
    },
    {
      "cell_type": "code",
      "source": [
        "#import training data\n",
        "HOUSES_PAINTED = []\n",
        "HOUSES_BINARY = []\n",
        "HOUSES_NORMAL = []\n",
        "\n",
        "house_combined = np.load('combined.npy')\n",
        "blocks = []\n",
        "with tqdm(total=len(house_combined)) as pbar:\n",
        "    #id_set = range(len(compression_list))\n",
        "    # id_set = sum(compression_list,[])\n",
        "    id_set = range(len(real_comp_list))\n",
        "    for h in house_combined:\n",
        "        \n",
        "        # houses look rotated... just rotate them back\n",
        "        h = np.rot90(h,axes=(0,2))\n",
        "        \n",
        "        # remove bottom layer (got the ground as well) - i can't believe i got it right on the first try...\n",
        "        h = h[3:, 3:, 1:-2]\n",
        "\n",
        "        #compress the house to the block compression set\n",
        "        h = compress_house(h)\n",
        "\n",
        "        #rotated\n",
        "        rot_set = []\n",
        "        rot_set.append(h)\n",
        "        rot_set.append(np.rot90(h,axes=(0,1)))\n",
        "        rot_set.append(np.rot90(h,axes=(1,0)))\n",
        "        rot_set.append(np.rot90(np.rot90(h,axes=(1,0)),axes=(1,0)))\n",
        "\n",
        "        #translate houses\n",
        "        for hr in rot_set:\n",
        "          tds = houseTrans(hr,(16,16,16))\n",
        "          tdi = list(range(len(tds)))\n",
        "          random.shuffle(tdi)\n",
        "\n",
        "          for hti in tdi[:int(len(tdi)/6)]:\n",
        "            ht = tds[hti]\n",
        "            #one hot encode\n",
        "            he = one_hot(np.array(ht),id_set)\n",
        "            HOUSES_PAINTED.append(he)\n",
        "\n",
        "            #make binary\n",
        "            idx = np.nonzero(ht)\n",
        "            hb = np.zeros(shape=ht.shape)\n",
        "            for i in range(len(idx[0])):\n",
        "                a,b,c = idx\n",
        "                hb[a[i]][b[i]][c[i]] = 1\n",
        "\n",
        "            HOUSES_BINARY.append(np.expand_dims(hb,axis=-1))\n",
        "\n",
        "            #save the original\n",
        "            HOUSES_NORMAL.append(ht)\n",
        "\n",
        "        pbar.update(1)\n",
        "\n",
        "HOUSES_PAINTED = np.array(HOUSES_PAINTED)\n",
        "HOUSES_BINARY = np.array(HOUSES_BINARY)\n",
        "HOUSES_NORMAL = np.array(HOUSES_NORMAL)"
      ],
      "metadata": {
        "colab": {
          "base_uri": "https://localhost:8080/"
        },
        "id": "Hz2zT5Ss-q6x",
        "outputId": "52b8ff51-e90d-4e93-ec33-9c19997e1386"
      },
      "execution_count": 49,
      "outputs": [
        {
          "output_type": "stream",
          "name": "stderr",
          "text": [
            "100%|██████████| 144/144 [00:11<00:00, 12.72it/s]\n"
          ]
        }
      ]
    },
    {
      "cell_type": "code",
      "source": [
        "print(HOUSES_BINARY.shape)\n",
        "print(HOUSES_PAINTED.shape)"
      ],
      "metadata": {
        "colab": {
          "base_uri": "https://localhost:8080/"
        },
        "id": "U7o92tAHAZrz",
        "outputId": "66b4e267-1fc1-4a78-c87d-9da07806a34c"
      },
      "execution_count": 50,
      "outputs": [
        {
          "output_type": "stream",
          "name": "stdout",
          "text": [
            "(1648, 16, 16, 16, 1)\n",
            "(1648, 16, 16, 16, 11)\n"
          ]
        }
      ]
    },
    {
      "cell_type": "code",
      "source": [
        "hehe = random.choice(range(len(HOUSES_NORMAL)))\n",
        "print(f\"#{hehe}\")\n",
        "print(np.unique(HOUSES_NORMAL))\n",
        "print(np.unique(HOUSES_NORMAL[hehe]))\n",
        "print(np.unique(compress_house(HOUSES_NORMAL[hehe])))\n",
        "print(np.unique(np.argmax(HOUSES_PAINTED[hehe],axis=-1)))"
      ],
      "metadata": {
        "colab": {
          "base_uri": "https://localhost:8080/"
        },
        "id": "dbQ9w7OYALJp",
        "outputId": "691b982b-797f-4e0b-d342-4e49634ab05c"
      },
      "execution_count": 51,
      "outputs": [
        {
          "output_type": "stream",
          "name": "stdout",
          "text": [
            "#146\n",
            "[ 0.  1.  2.  3.  4.  5.  7.  8.  9. 10.]\n",
            "[0. 1. 2. 3. 5.]\n",
            "[0. 1. 2. 3.]\n",
            "[0 1 2 3 5]\n"
          ]
        }
      ]
    },
    {
      "cell_type": "code",
      "source": [
        "from tensorflow.keras.models import Sequential\n",
        "from tensorflow.keras.layers import Dense, Input, Conv2D\n",
        "from keras import backend as K\n",
        "\n",
        "#fuck it, try a thrown together neural network (take in as input a binary house and output a painted house)\n",
        "class Painter(Model):\n",
        "    def __init__(self,shape,batches=16,channels=81):\n",
        "        super(Painter, self).__init__()\n",
        "        self.batches = batches\n",
        "        self.shape = shape\n",
        "        self.channels = channels\n",
        "        self.model = Sequential([\n",
        "          Input(shape=self.shape),\n",
        "          # Conv2D(1024,2,activation=\"relu\", padding=\"same\"),\n",
        "          Conv2D(512,2,activation=\"relu\", padding=\"same\"),\n",
        "          Conv2D(256,2,activation=\"relu\", padding=\"same\"),\n",
        "          Conv2D(128,2,activation=\"sigmoid\", padding=\"same\"),\n",
        "          # Conv2D(81,2,activation=\"sigmoid\", padding=\"same\"),\n",
        "          Dense(self.channels,activation=\"softmax\")\n",
        "        ])\n",
        "    def exportMod(self,label):\n",
        "        self.model.save(f\"painter-{label}.h5\")\n",
        "        \n",
        "    def importMod(self,label):\n",
        "        self.model = keras.models.load_model(f\"painter-{label}.h5\")\n",
        "\n",
        "\n",
        "def mask_loss(y_true,y_pred):\n",
        "    #cast values\n",
        "    zero = tf.constant(0, dtype=tf.float32)\n",
        "    y_true2 = tf.cast(y_true,tf.float32)\n",
        "    y_pred2 = tf.cast(y_pred,tf.float32)\n",
        "    \n",
        "    #apply mask\n",
        "    # mask = tf.cast(tf.where(tf.not_equal(y_true2, zero),1,0),tf.float32)\n",
        "    # mask_pred = tf.math.multiply(y_pred2,mask)\n",
        "\n",
        "    # return tf.losses.mean_squared_error(y_true2,mask_pred)\n",
        "\n",
        "\n",
        "    #eval non-zeros\n",
        "    # y_true2 = y_true2 * tf.cast((y_true2 != 0), 'float32')\n",
        "    # y_pred2 = y_pred2 * tf.cast((y_true2 != 0), 'float32')\n",
        "\n",
        "    # error = K.sqrt(K.mean(K.square(y_pred2 - y_true2), axis=-1)) \n",
        "    # return error\n",
        "\n",
        "    return K.categorical_crossentropy(y_true2, y_pred2)"
      ],
      "metadata": {
        "id": "xFmXAHHd6iys"
      },
      "execution_count": 52,
      "outputs": []
    },
    {
      "cell_type": "code",
      "source": [
        "EPOCHS = 20\n",
        "BATCHES = 16\n",
        "CHANNELS = HOUSES_PAINTED.shape[-1]\n",
        "\n",
        "painter_model = Painter((16,16,16,1),BATCHES,CHANNELS)\n",
        "painter_model.model.compile(optimizer=tf.keras.optimizers.Adam(learning_rate=0.0005),loss=mask_loss)\n",
        "painter_model.model.summary()"
      ],
      "metadata": {
        "colab": {
          "base_uri": "https://localhost:8080/"
        },
        "id": "TG_0uvQiuqut",
        "outputId": "ccc9e68c-0c3c-434a-8ab2-4d9801149b50"
      },
      "execution_count": 53,
      "outputs": [
        {
          "output_type": "stream",
          "name": "stdout",
          "text": [
            "Model: \"sequential_2\"\n",
            "_________________________________________________________________\n",
            " Layer (type)                Output Shape              Param #   \n",
            "=================================================================\n",
            " conv2d_6 (Conv2D)           (None, 16, 16, 16, 512)   2560      \n",
            "                                                                 \n",
            " conv2d_7 (Conv2D)           (None, 16, 16, 16, 256)   524544    \n",
            "                                                                 \n",
            " conv2d_8 (Conv2D)           (None, 16, 16, 16, 128)   131200    \n",
            "                                                                 \n",
            " dense_2 (Dense)             (None, 16, 16, 16, 11)    1419      \n",
            "                                                                 \n",
            "=================================================================\n",
            "Total params: 659,723\n",
            "Trainable params: 659,723\n",
            "Non-trainable params: 0\n",
            "_________________________________________________________________\n"
          ]
        }
      ]
    },
    {
      "cell_type": "code",
      "source": [
        "#test the loss function\n",
        "# a = np.expand_dims(y_dat[0],axis=0)\n",
        "# b = painter_model.model.predict(np.expand_dims(X_dat[0],axis=0))\n",
        "# mask_loss(a,b)"
      ],
      "metadata": {
        "id": "TgpfF_bAmSAh"
      },
      "execution_count": 54,
      "outputs": []
    },
    {
      "cell_type": "code",
      "source": [
        "X_dat = HOUSES_BINARY\n",
        "y_dat = HOUSES_PAINTED\n",
        "\n",
        "with tf.device('/device:GPU:0'):\n",
        "  painter_model.model.fit(X_dat,y_dat,epochs=EPOCHS,shuffle=True)"
      ],
      "metadata": {
        "colab": {
          "base_uri": "https://localhost:8080/"
        },
        "id": "91ypjRg5-oPZ",
        "outputId": "b89362fd-2a6f-4f7f-af92-5c7f10ff708e"
      },
      "execution_count": 55,
      "outputs": [
        {
          "output_type": "stream",
          "name": "stdout",
          "text": [
            "Epoch 1/20\n",
            "52/52 [==============================] - 12s 214ms/step - loss: 0.6562\n",
            "Epoch 2/20\n",
            "52/52 [==============================] - 11s 220ms/step - loss: 0.1566\n",
            "Epoch 3/20\n",
            "52/52 [==============================] - 12s 222ms/step - loss: 0.0845\n",
            "Epoch 4/20\n",
            "52/52 [==============================] - 12s 223ms/step - loss: 0.0647\n",
            "Epoch 5/20\n",
            "52/52 [==============================] - 11s 221ms/step - loss: 0.0619\n",
            "Epoch 6/20\n",
            "52/52 [==============================] - 11s 220ms/step - loss: 0.0604\n",
            "Epoch 7/20\n",
            "52/52 [==============================] - 11s 218ms/step - loss: 0.0595\n",
            "Epoch 8/20\n",
            "52/52 [==============================] - 11s 219ms/step - loss: 0.0588\n",
            "Epoch 9/20\n",
            "52/52 [==============================] - 11s 219ms/step - loss: 0.0580\n",
            "Epoch 10/20\n",
            "52/52 [==============================] - 11s 220ms/step - loss: 0.0574\n",
            "Epoch 11/20\n",
            "52/52 [==============================] - 11s 221ms/step - loss: 0.0570\n",
            "Epoch 12/20\n",
            "52/52 [==============================] - 11s 221ms/step - loss: 0.0566\n",
            "Epoch 13/20\n",
            "52/52 [==============================] - 11s 221ms/step - loss: 0.0562\n",
            "Epoch 14/20\n",
            "52/52 [==============================] - 11s 221ms/step - loss: 0.0559\n",
            "Epoch 15/20\n",
            "52/52 [==============================] - 11s 221ms/step - loss: 0.0556\n",
            "Epoch 16/20\n",
            "52/52 [==============================] - 11s 221ms/step - loss: 0.0554\n",
            "Epoch 17/20\n",
            "52/52 [==============================] - 12s 221ms/step - loss: 0.0551\n",
            "Epoch 18/20\n",
            "52/52 [==============================] - 11s 220ms/step - loss: 0.0549\n",
            "Epoch 19/20\n",
            "52/52 [==============================] - 11s 220ms/step - loss: 0.0546\n",
            "Epoch 20/20\n",
            "52/52 [==============================] - 11s 221ms/step - loss: 0.0544\n"
          ]
        }
      ]
    },
    {
      "cell_type": "code",
      "source": [
        "#test output\n",
        "id_set = range(len(real_comp_list))\n",
        "hxi = random.choice(range(len(X_dat)))\n",
        "hx = X_dat[hxi]\n",
        "p = painter_model.model.predict(np.expand_dims(hx,axis=0))\n",
        "poh = one_hot(np.argmax(p,axis=-1).squeeze(),id_set)\n",
        "print(y_dat[hxi].shape)\n",
        "print(poh.shape)\n",
        "# print(np.unique(y_dat[hxi]))\n",
        "# print(np.unique(poh))\n",
        "print(np.unique(np.argmax(y_dat[hxi],axis=-1).squeeze()))\n",
        "print(np.unique(np.argmax(p,axis=-1).squeeze()))"
      ],
      "metadata": {
        "colab": {
          "base_uri": "https://localhost:8080/"
        },
        "id": "dYb-yAY9rmfC",
        "outputId": "8ddd9f27-9675-4fdc-d083-6d76a93fd4d3"
      },
      "execution_count": 56,
      "outputs": [
        {
          "output_type": "stream",
          "name": "stdout",
          "text": [
            "(16, 16, 16, 11)\n",
            "(16, 16, 16, 11)\n",
            "[0 1 2 3 8]\n",
            "[0 1 2 3 8]\n"
          ]
        }
      ]
    },
    {
      "cell_type": "code",
      "source": [
        "painter_model.exportMod(f\"{EPOCHS}ep-ALT\")"
      ],
      "metadata": {
        "id": "1tyWxanYt9Hu"
      },
      "execution_count": 57,
      "outputs": []
    }
  ]
}