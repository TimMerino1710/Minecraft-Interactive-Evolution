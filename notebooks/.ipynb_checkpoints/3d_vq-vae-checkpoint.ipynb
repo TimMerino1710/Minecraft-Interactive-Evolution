{
 "cells": [
  {
   "cell_type": "markdown",
   "metadata": {
    "id": "s38ozcNjvFHe"
   },
   "source": [
    "## Imports"
   ]
  },
  {
   "cell_type": "code",
   "execution_count": 1,
   "metadata": {
    "id": "rj_at31FvFHf"
   },
   "outputs": [],
   "source": [
    "import numpy as np\n",
    "import matplotlib.pyplot as plt\n",
    "\n",
    "from tensorflow import keras\n",
    "from tensorflow.keras import layers\n",
    "import tensorflow_probability as tfp\n",
    "import tensorflow as tf"
   ]
  },
  {
   "cell_type": "markdown",
   "metadata": {
    "id": "fwsC3NA1vFHf"
   },
   "source": [
    "## `VectorQuantizer` layer\n",
    "\n",
    "Here, we will implement a custom layer to encapsulate the vector\n",
    "quantizer logic, which is the central component of VQ-VAEs.\n",
    "Consider an output from the encoder, with shape `(batch_size, height, width, num_channels)`.\n",
    "The vector quantizer will first\n",
    "flatten this output, only keeping the `num_channels` dimension intact. So, the shape would\n",
    "become `(batch_size * height * width, num_channels)`. The rationale behind this is to\n",
    "treat the total number of channels as the space for the latent embeddings.\n",
    "\n",
    "An embedding table is then initialized to learn a codebook. We measure the L2-normalized\n",
    "distance between the flattened encoder outputs and code words of this codebook. We take the\n",
    "code that yields the minimum distance, and we apply one-hot encoding to achieve quantization.\n",
    "This way, the code yielding the minimum distance to the corresponding encoder output is\n",
    "mapped as one and the remaining codes are mapped as zeros.\n",
    "\n",
    "Since the quantization process is not differentiable, we apply a\n",
    "[straight-through estimator](https://www.hassanaskary.com/python/pytorch/deep%20learning/2020/09/19/intuitive-explanation-of-straight-through-estimators.html)\n",
    "in between the decoder and the encoder, so that the decoder gradients are directly propagated\n",
    "to the encoder. As the encoder and decoder share the same channel space, the hope is that the\n",
    "decoder gradients will still be meaningful to the encoder."
   ]
  },
  {
   "cell_type": "code",
   "execution_count": 2,
   "metadata": {
    "id": "uEs4YNatvFHg"
   },
   "outputs": [],
   "source": [
    "\n",
    "class VectorQuantizer(layers.Layer):\n",
    "    def __init__(self, num_embeddings, embedding_dim, beta=0.25, **kwargs):\n",
    "        super().__init__(**kwargs)\n",
    "        self.embedding_dim = embedding_dim\n",
    "        self.num_embeddings = num_embeddings\n",
    "        self.beta = (\n",
    "            beta  # This parameter is best kept between [0.25, 2] as per the paper.\n",
    "        )\n",
    "\n",
    "        # Initialize the embeddings which we will quantize.\n",
    "        w_init = tf.random_uniform_initializer()\n",
    "        self.embeddings = tf.Variable(\n",
    "            initial_value=w_init(\n",
    "                shape=(self.embedding_dim, self.num_embeddings), dtype=\"float32\"\n",
    "            ),\n",
    "            trainable=True,\n",
    "            name=\"embeddings_vqvae\",\n",
    "        )\n",
    "\n",
    "    def call(self, x):\n",
    "        # Calculate the input shape of the inputs and\n",
    "        # then flatten the inputs keeping `embedding_dim` intact.\n",
    "        input_shape = tf.shape(x)\n",
    "        flattened = tf.reshape(x, [-1, self.embedding_dim])\n",
    "\n",
    "        # Quantization.\n",
    "        encoding_indices = self.get_code_indices(flattened)\n",
    "        encodings = tf.one_hot(encoding_indices, self.num_embeddings)\n",
    "        quantized = tf.matmul(encodings, self.embeddings, transpose_b=True)\n",
    "        quantized = tf.reshape(quantized, input_shape)\n",
    "\n",
    "        # Calculate vector quantization loss and add that to the layer. You can learn more\n",
    "        # about adding losses to different layers here:\n",
    "        # https://keras.io/guides/making_new_layers_and_models_via_subclassing/. Check\n",
    "        # the original paper to get a handle on the formulation of the loss function.\n",
    "        commitment_loss = self.beta * tf.reduce_mean(\n",
    "            (tf.stop_gradient(quantized) - x) ** 2\n",
    "        )\n",
    "        codebook_loss = tf.reduce_mean((quantized - tf.stop_gradient(x)) ** 2)\n",
    "        self.add_loss(commitment_loss + codebook_loss)\n",
    "\n",
    "        # Straight-through estimator.\n",
    "        quantized = x + tf.stop_gradient(quantized - x)\n",
    "        return quantized\n",
    "\n",
    "    def get_code_indices(self, flattened_inputs):\n",
    "        # Calculate L2-normalized distance between the inputs and the codes.\n",
    "        similarity = tf.matmul(flattened_inputs, self.embeddings)\n",
    "        distances = (\n",
    "            tf.reduce_sum(flattened_inputs ** 2, axis=1, keepdims=True)\n",
    "            + tf.reduce_sum(self.embeddings ** 2, axis=0)\n",
    "            - 2 * similarity\n",
    "        )\n",
    "\n",
    "        # Derive the indices for minimum distances.\n",
    "        encoding_indices = tf.argmin(distances, axis=1)\n",
    "        return encoding_indices\n"
   ]
  },
  {
   "cell_type": "markdown",
   "metadata": {
    "id": "SaxSmpx3vFHh"
   },
   "source": [
    "**A note on straight-through estimation**:\n",
    "\n",
    "This line of code does the straight-through estimation part: `quantized = x +\n",
    "tf.stop_gradient(quantized - x)`. During backpropagation, `(quantized - x)` won't be\n",
    "included in the computation graph and th gradients obtaind for `quantized`\n",
    "will be copied for `inputs`. Thanks to [this video](https://youtu.be/VZFVUrYcig0?t=1393)\n",
    "for helping me understand this technique."
   ]
  },
  {
   "cell_type": "markdown",
   "metadata": {
    "id": "-UNLSFktvFHi"
   },
   "source": [
    "## Encoder and decoder\n",
    "\n",
    "We will now implement the encoder and the decoder for the VQ-VAE. We will keep them small so\n",
    "that their capacity is a good fit for the MNIST dataset, which we will use to demonstrate\n",
    "the results. The definitions of the encoder and decoder come from\n",
    "[this example](https://keras.io/examples/generative/vae)."
   ]
  },
  {
   "cell_type": "code",
   "execution_count": 3,
   "metadata": {
    "id": "fz0KVIqSvFHi"
   },
   "outputs": [],
   "source": [
    "\n",
    "def get_encoder(latent_dim=16):\n",
    "    encoder_inputs = keras.Input(shape=(16, 16, 16, 1))\n",
    "    x = layers.Conv2D(32, 3, activation=\"relu\", strides=2, padding=\"same\")(\n",
    "        encoder_inputs\n",
    "    )\n",
    "    x = layers.Conv2D(64, 3, activation=\"relu\", strides=2, padding=\"same\")(x)\n",
    "    encoder_outputs = layers.Conv2D(latent_dim, 1, padding=\"same\")(x)\n",
    "    return keras.Model(encoder_inputs, encoder_outputs, name=\"encoder\")\n",
    "\n",
    "\n",
    "def get_decoder(latent_dim=16):\n",
    "    latent_inputs = keras.Input(shape=get_encoder(latent_dim).output.shape[1:])\n",
    "    x = layers.Conv2DTranspose(64, 3, activation=\"relu\", strides=2, padding=\"same\")(\n",
    "        latent_inputs\n",
    "    )\n",
    "    x = layers.Conv2DTranspose(32, 3, activation=\"relu\", strides=2, padding=\"same\")(x)\n",
    "    decoder_outputs = layers.Conv2DTranspose(1, 3, padding=\"same\")(x)\n",
    "    return keras.Model(latent_inputs, decoder_outputs, name=\"decoder\")\n"
   ]
  },
  {
   "cell_type": "markdown",
   "metadata": {
    "id": "QpTwbm1YvFHj"
   },
   "source": [
    "## Standalone VQ-VAE model"
   ]
  },
  {
   "cell_type": "code",
   "execution_count": 4,
   "metadata": {
    "id": "bbYB-NokvFHj"
   },
   "outputs": [
    {
     "name": "stderr",
     "output_type": "stream",
     "text": [
      "2022-06-20 14:44:35.091386: I tensorflow/core/platform/cpu_feature_guard.cc:193] This TensorFlow binary is optimized with oneAPI Deep Neural Network Library (oneDNN) to use the following CPU instructions in performance-critical operations:  AVX2 FMA\n",
      "To enable them in other operations, rebuild TensorFlow with the appropriate compiler flags.\n"
     ]
    },
    {
     "name": "stdout",
     "output_type": "stream",
     "text": [
      "Model: \"vq_vae\"\n",
      "_________________________________________________________________\n",
      " Layer (type)                Output Shape              Param #   \n",
      "=================================================================\n",
      " input_4 (InputLayer)        [(None, 28, 28, 1)]       0         \n",
      "                                                                 \n",
      " encoder (Functional)        (None, 7, 7, 16)          19856     \n",
      "                                                                 \n",
      " vector_quantizer (VectorQua  (None, 7, 7, 16)         1024      \n",
      " ntizer)                                                         \n",
      "                                                                 \n",
      " decoder (Functional)        (None, 28, 28, 1)         28033     \n",
      "                                                                 \n",
      "=================================================================\n",
      "Total params: 48,913\n",
      "Trainable params: 48,913\n",
      "Non-trainable params: 0\n",
      "_________________________________________________________________\n"
     ]
    }
   ],
   "source": [
    "\n",
    "def get_vqvae(latent_dim=16, num_embeddings=64):\n",
    "    vq_layer = VectorQuantizer(num_embeddings, latent_dim, name=\"vector_quantizer\")\n",
    "    encoder = get_encoder(latent_dim)\n",
    "    decoder = get_decoder(latent_dim)\n",
    "    inputs = keras.Input(shape=(16, 16, 16, 1))\n",
    "    encoder_outputs = encoder(inputs)\n",
    "    quantized_latents = vq_layer(encoder_outputs)\n",
    "    reconstructions = decoder(quantized_latents)\n",
    "    return keras.Model(inputs, reconstructions, name=\"vq_vae\")\n",
    "\n",
    "\n",
    "get_vqvae().summary()"
   ]
  },
  {
   "cell_type": "markdown",
   "metadata": {
    "id": "YXekdCipvFHk"
   },
   "source": [
    "Note that the output channels of the encoder should match the `latent_dim` for the vector\n",
    "quantizer."
   ]
  },
  {
   "cell_type": "markdown",
   "metadata": {
    "id": "nFyDjIBdvFHk"
   },
   "source": [
    "## Wrapping up the training loop inside `VQVAETrainer`"
   ]
  },
  {
   "cell_type": "code",
   "execution_count": 5,
   "metadata": {
    "id": "IPCnVdV4vFHk"
   },
   "outputs": [],
   "source": [
    "\n",
    "class VQVAETrainer(keras.models.Model):\n",
    "    def __init__(self, train_variance, latent_dim=32, num_embeddings=128, **kwargs):\n",
    "        super(VQVAETrainer, self).__init__(**kwargs)\n",
    "        self.train_variance = train_variance\n",
    "        self.latent_dim = latent_dim\n",
    "        self.num_embeddings = num_embeddings\n",
    "\n",
    "        self.vqvae = get_vqvae(self.latent_dim, self.num_embeddings)\n",
    "\n",
    "        self.total_loss_tracker = keras.metrics.Mean(name=\"total_loss\")\n",
    "        self.reconstruction_loss_tracker = keras.metrics.Mean(\n",
    "            name=\"reconstruction_loss\"\n",
    "        )\n",
    "        self.vq_loss_tracker = keras.metrics.Mean(name=\"vq_loss\")\n",
    "\n",
    "    @property\n",
    "    def metrics(self):\n",
    "        return [\n",
    "            self.total_loss_tracker,\n",
    "            self.reconstruction_loss_tracker,\n",
    "            self.vq_loss_tracker,\n",
    "        ]\n",
    "\n",
    "    def train_step(self, x):\n",
    "        with tf.GradientTape() as tape:\n",
    "            # Outputs from the VQ-VAE.\n",
    "            reconstructions = self.vqvae(x)\n",
    "\n",
    "            # Calculate the losses.\n",
    "            reconstruction_loss = (\n",
    "                tf.reduce_mean((x - reconstructions) ** 2) / self.train_variance\n",
    "            )\n",
    "            total_loss = reconstruction_loss + sum(self.vqvae.losses)\n",
    "\n",
    "        # Backpropagation.\n",
    "        grads = tape.gradient(total_loss, self.vqvae.trainable_variables)\n",
    "        self.optimizer.apply_gradients(zip(grads, self.vqvae.trainable_variables))\n",
    "\n",
    "        # Loss tracking.\n",
    "        self.total_loss_tracker.update_state(total_loss)\n",
    "        self.reconstruction_loss_tracker.update_state(reconstruction_loss)\n",
    "        self.vq_loss_tracker.update_state(sum(self.vqvae.losses))\n",
    "\n",
    "        # Log results.\n",
    "        return {\n",
    "            \"loss\": self.total_loss_tracker.result(),\n",
    "            \"reconstruction_loss\": self.reconstruction_loss_tracker.result(),\n",
    "            \"vqvae_loss\": self.vq_loss_tracker.result(),\n",
    "        }\n"
   ]
  },
  {
   "cell_type": "markdown",
   "metadata": {
    "id": "fZwYzygTvFHl"
   },
   "source": [
    "## Load and preprocess the Minecraft dataset"
   ]
  },
  {
   "cell_type": "code",
   "execution_count": 6,
   "metadata": {
    "id": "JfSMukV7vFHl"
   },
   "outputs": [],
   "source": [
    "HOUSE_DATASET = []\n",
    "HOUSE_DATASET_BIN = []\n",
    "\n",
    "house_combined = np.load('../ingame_house_schematics/old_format_schematic_files/combined.npy')\n",
    "blocks = []\n",
    "for h in house_combined:\n",
    "    # houses look rotated... just rotate them back\n",
    "    h = np.rot90(h,axes=(0,2))\n",
    "    \n",
    "    # remove bottom layer (got the ground as well) - i can't believe i got it right on the first try...\n",
    "    h = h[3:, 3:, 1:-2]\n",
    "    HOUSE_DATASET.append(h)\n",
    "    \n",
    "    \n",
    "    #HOUSE_DATASET_ONEHOT.append(h)\n",
    "    \n",
    "    #hc = np.argmax(h,axis=2)\n",
    "    #HOUSE_DATASET.append(hc)\n",
    "    idx = np.nonzero(h)\n",
    "    hb = np.zeros(shape=h.shape)\n",
    "    for i in range(len(idx[0])):\n",
    "        a,b,c = idx\n",
    "        hb[a[i]][b[i]][c[i]] = 1\n",
    "    HOUSE_DATASET_BIN.append(hb)\n",
    "        \n",
    "HOUSE_DATASET_BIN = np.array(HOUSE_DATASET_BIN)\n",
    "\n",
    "data_variance = np.var(x_train)"
   ]
  },
  {
   "cell_type": "markdown",
   "metadata": {
    "id": "NLt3EVY6vFHl"
   },
   "source": [
    "## Train the VQ-VAE model"
   ]
  },
  {
   "cell_type": "code",
   "execution_count": null,
   "metadata": {
    "id": "gibKB0g9vFHm"
   },
   "outputs": [
    {
     "name": "stdout",
     "output_type": "stream",
     "text": [
      "Epoch 1/30\n",
      "469/469 [==============================] - 48s 100ms/step - loss: 2.5219 - reconstruction_loss: 0.3703 - vqvae_loss: 1.8310\n",
      "Epoch 2/30\n",
      "469/469 [==============================] - 47s 101ms/step - loss: 2.0697 - reconstruction_loss: 0.1552 - vqvae_loss: 1.9058\n",
      "Epoch 3/30\n",
      "469/469 [==============================] - 45s 96ms/step - loss: 1.0316 - reconstruction_loss: 0.1171 - vqvae_loss: 0.9059\n",
      "Epoch 4/30\n",
      "469/469 [==============================] - 44s 93ms/step - loss: 0.5531 - reconstruction_loss: 0.0979 - vqvae_loss: 0.4509\n",
      "Epoch 5/30\n",
      "469/469 [==============================] - 47s 100ms/step - loss: 0.3945 - reconstruction_loss: 0.0833 - vqvae_loss: 0.3084\n",
      "Epoch 6/30\n",
      "310/469 [==================>...........] - ETA: 15s - loss: 0.3498 - reconstruction_loss: 0.0762 - vqvae_loss: 0.2722"
     ]
    }
   ],
   "source": [
    "vqvae_trainer = VQVAETrainer(data_variance, latent_dim=16, num_embeddings=128)\n",
    "vqvae_trainer.compile(optimizer=keras.optimizers.Adam())\n",
    "vqvae_trainer.fit(x_train, epochs=30, batch_size=16)"
   ]
  },
  {
   "cell_type": "markdown",
   "metadata": {
    "id": "FCJIDcr6vFHm"
   },
   "source": [
    "## Reconstruction results on the test set"
   ]
  },
  {
   "cell_type": "code",
   "execution_count": null,
   "metadata": {
    "id": "JWT41d77vFHm"
   },
   "outputs": [],
   "source": [
    "\n",
    "def show_subplot(original, reconstructed):\n",
    "    plt.subplot(1, 2, 1)\n",
    "    plt.imshow(original.squeeze() + 0.5)\n",
    "    plt.title(\"Original\")\n",
    "    plt.axis(\"off\")\n",
    "\n",
    "    plt.subplot(1, 2, 2)\n",
    "    plt.imshow(reconstructed.squeeze() + 0.5)\n",
    "    plt.title(\"Reconstructed\")\n",
    "    plt.axis(\"off\")\n",
    "\n",
    "    plt.show()\n",
    "\n",
    "\n",
    "trained_vqvae_model = vqvae_trainer.vqvae\n",
    "idx = np.random.choice(len(x_test_scaled), 10)\n",
    "test_images = x_test_scaled[idx]\n",
    "reconstructions_test = trained_vqvae_model.predict(test_images)\n",
    "\n",
    "for test_image, reconstructed_image in zip(test_images, reconstructions_test):\n",
    "    show_subplot(test_image, reconstructed_image)"
   ]
  },
  {
   "cell_type": "markdown",
   "metadata": {
    "id": "60FShca5vFHm"
   },
   "source": [
    "These results look decent. You are encouraged to play with different hyperparameters\n",
    "(especially the number of embeddings and the dimensions of the embeddings) and observe how\n",
    "they affect the results."
   ]
  },
  {
   "cell_type": "markdown",
   "metadata": {
    "id": "rd_maCUlvFHn"
   },
   "source": [
    "## Visualizing the discrete codes"
   ]
  },
  {
   "cell_type": "code",
   "execution_count": null,
   "metadata": {
    "id": "RNcqlkmzvFHn"
   },
   "outputs": [],
   "source": [
    "encoder = vqvae_trainer.vqvae.get_layer(\"encoder\")\n",
    "quantizer = vqvae_trainer.vqvae.get_layer(\"vector_quantizer\")\n",
    "\n",
    "encoded_outputs = encoder.predict(test_images)\n",
    "flat_enc_outputs = encoded_outputs.reshape(-1, encoded_outputs.shape[-1])\n",
    "codebook_indices = quantizer.get_code_indices(flat_enc_outputs)\n",
    "codebook_indices = codebook_indices.numpy().reshape(encoded_outputs.shape[:-1])\n",
    "\n",
    "for i in range(len(test_images)):\n",
    "    plt.subplot(1, 2, 1)\n",
    "    plt.imshow(test_images[i].squeeze() + 0.5)\n",
    "    plt.title(\"Original\")\n",
    "    plt.axis(\"off\")\n",
    "\n",
    "    plt.subplot(1, 2, 2)\n",
    "    plt.imshow(codebook_indices[i])\n",
    "    plt.title(\"Code\")\n",
    "    plt.axis(\"off\")\n",
    "    plt.show()"
   ]
  },
  {
   "cell_type": "markdown",
   "metadata": {
    "id": "ODwqgtXpvFHn"
   },
   "source": [
    "The figure above shows that the discrete codes have been able to capture some\n",
    "regularities from the dataset. Now, you might wonder, ***how do we use these codes to\n",
    "generate new samples?*** Specifically, how do we sample from this codebook to create\n",
    "novel examples? Since these codes are discrete and we imposed a categorical distribution\n",
    "on them, we cannot use them yet to generate anything meaningful. These codes were not\n",
    "updated during the training process as well. So, they need to be adjusted further so that\n",
    "we can use for them the subsequent image generation task. The authors use a PixelCNN to\n",
    "train these codes so that they can be used as powerful priors to generate novel examples.\n",
    "\n",
    "PixelCNN was proposed in\n",
    "[Conditional Image Generation with PixelCNN Decoders](https://arxiv.org/abs/1606.05328)\n",
    "by van der Oord et al. We will borrow code from\n",
    "[this example](https://keras.io/examples/generative/pixelcnn/)\n",
    "to develop a PixelCNN. It's an auto-regressive generative model where the current outputs\n",
    "are conditioned on the prior ones. In other words, a PixelCNN generates an image on a\n",
    "pixel-by-pixel basis."
   ]
  },
  {
   "cell_type": "markdown",
   "metadata": {
    "id": "HBIChRogvFHn"
   },
   "source": [
    "## PixelCNN hyperparameters"
   ]
  },
  {
   "cell_type": "code",
   "execution_count": null,
   "metadata": {
    "id": "-WQYvMW6vFHn"
   },
   "outputs": [],
   "source": [
    "num_residual_blocks = 2\n",
    "num_pixelcnn_layers = 2\n",
    "pixelcnn_input_shape = encoded_outputs.shape[1:-1]\n",
    "print(f\"Input shape of the PixelCNN: {pixelcnn_input_shape}\")"
   ]
  },
  {
   "cell_type": "markdown",
   "metadata": {
    "id": "n1JJyPxuvFHn"
   },
   "source": [
    "Don't worry about the input shape. It'll become clear in the following sections."
   ]
  },
  {
   "cell_type": "markdown",
   "metadata": {
    "id": "Nku6YO2OvFHo"
   },
   "source": [
    "## PixelCNN model\n",
    "\n",
    "Majority of this comes from\n",
    "[this example](https://keras.io/examples/generative/pixelcnn/)."
   ]
  },
  {
   "cell_type": "code",
   "execution_count": null,
   "metadata": {
    "id": "qDZGr_fNvFHo"
   },
   "outputs": [],
   "source": [
    "# The first layer is the PixelCNN layer. This layer simply\n",
    "# builds on the 2D convolutional layer, but includes masking.\n",
    "class PixelConvLayer(layers.Layer):\n",
    "    def __init__(self, mask_type, **kwargs):\n",
    "        super(PixelConvLayer, self).__init__()\n",
    "        self.mask_type = mask_type\n",
    "        self.conv = layers.Conv2D(**kwargs)\n",
    "\n",
    "    def build(self, input_shape):\n",
    "        # Build the conv2d layer to initialize kernel variables\n",
    "        self.conv.build(input_shape)\n",
    "        # Use the initialized kernel to create the mask\n",
    "        kernel_shape = self.conv.kernel.get_shape()\n",
    "        self.mask = np.zeros(shape=kernel_shape)\n",
    "        self.mask[: kernel_shape[0] // 2, ...] = 1.0\n",
    "        self.mask[kernel_shape[0] // 2, : kernel_shape[1] // 2, ...] = 1.0\n",
    "        if self.mask_type == \"B\":\n",
    "            self.mask[kernel_shape[0] // 2, kernel_shape[1] // 2, ...] = 1.0\n",
    "\n",
    "    def call(self, inputs):\n",
    "        self.conv.kernel.assign(self.conv.kernel * self.mask)\n",
    "        return self.conv(inputs)\n",
    "\n",
    "\n",
    "# Next, we build our residual block layer.\n",
    "# This is just a normal residual block, but based on the PixelConvLayer.\n",
    "class ResidualBlock(keras.layers.Layer):\n",
    "    def __init__(self, filters, **kwargs):\n",
    "        super(ResidualBlock, self).__init__(**kwargs)\n",
    "        self.conv1 = keras.layers.Conv2D(\n",
    "            filters=filters, kernel_size=1, activation=\"relu\"\n",
    "        )\n",
    "        self.pixel_conv = PixelConvLayer(\n",
    "            mask_type=\"B\",\n",
    "            filters=filters // 2,\n",
    "            kernel_size=3,\n",
    "            activation=\"relu\",\n",
    "            padding=\"same\",\n",
    "        )\n",
    "        self.conv2 = keras.layers.Conv2D(\n",
    "            filters=filters, kernel_size=1, activation=\"relu\"\n",
    "        )\n",
    "\n",
    "    def call(self, inputs):\n",
    "        x = self.conv1(inputs)\n",
    "        x = self.pixel_conv(x)\n",
    "        x = self.conv2(x)\n",
    "        return keras.layers.add([inputs, x])\n",
    "\n",
    "\n",
    "pixelcnn_inputs = keras.Input(shape=pixelcnn_input_shape, dtype=tf.int32)\n",
    "ohe = tf.one_hot(pixelcnn_inputs, vqvae_trainer.num_embeddings)\n",
    "x = PixelConvLayer(\n",
    "    mask_type=\"A\", filters=128, kernel_size=7, activation=\"relu\", padding=\"same\"\n",
    ")(ohe)\n",
    "\n",
    "for _ in range(num_residual_blocks):\n",
    "    x = ResidualBlock(filters=128)(x)\n",
    "\n",
    "for _ in range(num_pixelcnn_layers):\n",
    "    x = PixelConvLayer(\n",
    "        mask_type=\"B\",\n",
    "        filters=128,\n",
    "        kernel_size=1,\n",
    "        strides=1,\n",
    "        activation=\"relu\",\n",
    "        padding=\"valid\",\n",
    "    )(x)\n",
    "\n",
    "out = keras.layers.Conv2D(\n",
    "    filters=vqvae_trainer.num_embeddings, kernel_size=1, strides=1, padding=\"valid\"\n",
    ")(x)\n",
    "\n",
    "pixel_cnn = keras.Model(pixelcnn_inputs, out, name=\"pixel_cnn\")\n",
    "pixel_cnn.summary()"
   ]
  },
  {
   "cell_type": "markdown",
   "metadata": {
    "id": "Zd3N5JqGvFHo"
   },
   "source": [
    "## Prepare data to train the PixelCNN\n",
    "\n",
    "We will train the PixelCNN to learn a categorical distribution of the discrete codes.\n",
    "First, we will generate code indices using the encoder and vector quantizer we just\n",
    "trained. Our training objective will be to minimize the crossentropy loss between these\n",
    "indices and the PixelCNN outputs. Here, the number of categories is equal to the number\n",
    "of embeddings present in our codebook (128 in our case). The PixelCNN model is\n",
    "trained to learn a distribution (as opposed to minimizing the L1/L2 loss), which is where\n",
    "it gets its generative capabilities from."
   ]
  },
  {
   "cell_type": "code",
   "execution_count": null,
   "metadata": {
    "id": "jyW_Yq35vFHo"
   },
   "outputs": [],
   "source": [
    "# Generate the codebook indices.\n",
    "encoded_outputs = encoder.predict(x_train_scaled)\n",
    "flat_enc_outputs = encoded_outputs.reshape(-1, encoded_outputs.shape[-1])\n",
    "codebook_indices = quantizer.get_code_indices(flat_enc_outputs)\n",
    "\n",
    "codebook_indices = codebook_indices.numpy().reshape(encoded_outputs.shape[:-1])\n",
    "print(f\"Shape of the training data for PixelCNN: {codebook_indices.shape}\")"
   ]
  },
  {
   "cell_type": "markdown",
   "metadata": {
    "id": "a9r-GGgQvFHo"
   },
   "source": [
    "## PixelCNN training"
   ]
  },
  {
   "cell_type": "code",
   "execution_count": null,
   "metadata": {
    "id": "Uyhj1b-RvFHo"
   },
   "outputs": [],
   "source": [
    "pixel_cnn.compile(\n",
    "    optimizer=keras.optimizers.Adam(3e-4),\n",
    "    loss=keras.losses.SparseCategoricalCrossentropy(from_logits=True),\n",
    "    metrics=[\"accuracy\"],\n",
    ")\n",
    "pixel_cnn.fit(\n",
    "    x=codebook_indices,\n",
    "    y=codebook_indices,\n",
    "    batch_size=128,\n",
    "    epochs=30,\n",
    "    validation_split=0.1,\n",
    ")"
   ]
  },
  {
   "cell_type": "markdown",
   "metadata": {
    "id": "qdzrgC-HvFHp"
   },
   "source": [
    "We can improve these scores with more training and hyperparameter tuning."
   ]
  },
  {
   "cell_type": "markdown",
   "metadata": {
    "id": "bGFXZDPvvFHp"
   },
   "source": [
    "## Codebook sampling\n",
    "\n",
    "Now that our PixelCNN is trained, we can sample distinct codes from its outputs and pass\n",
    "them to our decoder to generate novel images."
   ]
  },
  {
   "cell_type": "code",
   "execution_count": null,
   "metadata": {
    "id": "IeWzb-yevFHp"
   },
   "outputs": [],
   "source": [
    "# Create a mini sampler model.\n",
    "inputs = layers.Input(shape=pixel_cnn.input_shape[1:])\n",
    "x = pixel_cnn(inputs, training=False)\n",
    "dist = tfp.distributions.Categorical(logits=x)\n",
    "sampled = dist.sample()\n",
    "sampler = keras.Model(inputs, sampled)"
   ]
  },
  {
   "cell_type": "markdown",
   "metadata": {
    "id": "q94glu2nvFHp"
   },
   "source": [
    "We now construct a prior to generate images. Here, we will generate 10 images."
   ]
  },
  {
   "cell_type": "code",
   "execution_count": null,
   "metadata": {
    "id": "Ah5gVcxevFHp"
   },
   "outputs": [],
   "source": [
    "# Create an empty array of priors.\n",
    "batch = 10\n",
    "priors = np.zeros(shape=(batch,) + (pixel_cnn.input_shape)[1:])\n",
    "batch, rows, cols = priors.shape\n",
    "\n",
    "# Iterate over the priors because generation has to be done sequentially pixel by pixel.\n",
    "for row in range(rows):\n",
    "    for col in range(cols):\n",
    "        # Feed the whole array and retrieving the pixel value probabilities for the next\n",
    "        # pixel.\n",
    "        probs = sampler.predict(priors)\n",
    "        # Use the probabilities to pick pixel values and append the values to the priors.\n",
    "        priors[:, row, col] = probs[:, row, col]\n",
    "\n",
    "print(f\"Prior shape: {priors.shape}\")"
   ]
  },
  {
   "cell_type": "markdown",
   "metadata": {
    "id": "1tpUB2j1vFHq"
   },
   "source": [
    "We can now use our decoder to generate the images."
   ]
  },
  {
   "cell_type": "code",
   "execution_count": null,
   "metadata": {
    "id": "mpOU_exuvFHq"
   },
   "outputs": [],
   "source": [
    "# Perform an embedding lookup.\n",
    "pretrained_embeddings = quantizer.embeddings\n",
    "priors_ohe = tf.one_hot(priors.astype(\"int32\"), vqvae_trainer.num_embeddings).numpy()\n",
    "quantized = tf.matmul(\n",
    "    priors_ohe.astype(\"float32\"), pretrained_embeddings, transpose_b=True\n",
    ")\n",
    "quantized = tf.reshape(quantized, (-1, *(encoded_outputs.shape[1:])))\n",
    "\n",
    "# Generate novel images.\n",
    "decoder = vqvae_trainer.vqvae.get_layer(\"decoder\")\n",
    "generated_samples = decoder.predict(quantized)\n",
    "\n",
    "for i in range(batch):\n",
    "    plt.subplot(1, 2, 1)\n",
    "    plt.imshow(priors[i])\n",
    "    plt.title(\"Code\")\n",
    "    plt.axis(\"off\")\n",
    "\n",
    "    plt.subplot(1, 2, 2)\n",
    "    plt.imshow(generated_samples[i].squeeze() + 0.5)\n",
    "    plt.title(\"Generated Sample\")\n",
    "    plt.axis(\"off\")\n",
    "    plt.show()"
   ]
  },
  {
   "cell_type": "markdown",
   "metadata": {
    "id": "s7lnMymivFHq"
   },
   "source": [
    "We can enhance the quality of these generated samples by tweaking the PixelCNN."
   ]
  },
  {
   "cell_type": "markdown",
   "metadata": {
    "id": "u1-XptatvFHq"
   },
   "source": [
    "## Additional notes\n",
    "\n",
    "* After the VQ-VAE paper was initially released, the authors developed an exponential\n",
    "moving averaging scheme to update the embeddings inside the quantizer. If you're\n",
    "interested you can check out\n",
    "[this snippet](https://github.com/deepmind/sonnet/blob/master/sonnet/python/modules/nets/vqvae.py#L124).\n",
    "* To further enhance the quality of the generated samples,\n",
    "[VQ-VAE-2](https://arxiv.org/abs/1906.00446) was proposed that follows a cascaded\n",
    "approach to learn the codebook and to generate the images."
   ]
  }
 ],
 "metadata": {
  "colab": {
   "collapsed_sections": [],
   "name": "vq_vae",
   "provenance": [],
   "toc_visible": true
  },
  "kernelspec": {
   "display_name": "MCIntEvo",
   "language": "python",
   "name": "mcintevo"
  },
  "language_info": {
   "codemirror_mode": {
    "name": "ipython",
    "version": 3
   },
   "file_extension": ".py",
   "mimetype": "text/x-python",
   "name": "python",
   "nbconvert_exporter": "python",
   "pygments_lexer": "ipython3",
   "version": "3.9.12"
  }
 },
 "nbformat": 4,
 "nbformat_minor": 1
}
