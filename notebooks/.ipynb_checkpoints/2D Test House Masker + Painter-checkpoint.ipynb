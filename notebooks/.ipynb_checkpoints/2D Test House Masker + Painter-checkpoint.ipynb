{
 "cells": [
  {
   "cell_type": "code",
   "execution_count": 1,
   "id": "8320994e",
   "metadata": {},
   "outputs": [],
   "source": [
    "import tensorflow as tf\n",
    "import numpy as np\n",
    "import matplotlib.pyplot as plt\n",
    "\n",
    "%matplotlib inline"
   ]
  },
  {
   "cell_type": "code",
   "execution_count": 2,
   "id": "7beb6337",
   "metadata": {},
   "outputs": [
    {
     "data": {
      "text/plain": [
       "<matplotlib.image.AxesImage at 0x15a405100>"
      ]
     },
     "execution_count": 2,
     "metadata": {},
     "output_type": "execute_result"
    },
    {
     "data": {
      "image/png": "[encoded data removed]",
      "text/plain": [
       "<Figure size 432x288 with 1 Axes>"
      ]
     },
     "metadata": {
      "needs_background": "light"
     },
     "output_type": "display_data"
    }
   ],
   "source": [
    "donut = np.array([[0,0,0,0,0,0,0],[0,0,1,1,1,0,0],[0,1,1,0,1,1,0],[0,1,1,0,1,1,0],[0,0,1,1,1,0,0],[0,0,0,0,0,0,0]])\n",
    "house = np.array([[0,0,0,0,0,0,0],[0,0,0,0,0,0,0],[0,0,1,1,1,0,0],[0,1,1,1,1,1,0],[0,0,1,1,1,0,0],[0,0,1,1,1,0,0]])\n",
    "square = np.array([[0,0,0,0,0,0,0],[0,0,0,0,0,0,0],[0,0,0,0,0,0,0],[0,0,1,1,1,0,0],[0,0,1,1,1,0,0],[0,0,1,1,1,0,0]])\n",
    "plt.imshow(house,cmap='gray')"
   ]
  },
  {
   "cell_type": "code",
   "execution_count": 3,
   "id": "e4ca923c",
   "metadata": {},
   "outputs": [],
   "source": [
    "from matplotlib.colors import ListedColormap, BoundaryNorm\n",
    "import random\n",
    "\n",
    "block_color_set = ['black']\n",
    "pokemon = [\"#ff0000\",\"#f6bd20\",\"#9c5200\",\"#de9400\",\"#623108\",\"#62d5b4\",\"#83eec5\",\"#184a4a\",\"#73ac31\",\"#e65a41\",\"#29739c\"]\n",
    "random.shuffle(pokemon)\n",
    "block_color_set += pokemon\n",
    "maskmap = ListedColormap(block_color_set,N=11)\n",
    "#norm = BoundaryNorm(list(range(12)), 11)\n"
   ]
  },
  {
   "cell_type": "code",
   "execution_count": 6,
   "id": "7618c69f",
   "metadata": {},
   "outputs": [],
   "source": [
    "def weirdHouse():\n",
    "    new_sq = square.copy()\n",
    "    i = 0\n",
    "    while random.random() < 0.75 and i < 10:\n",
    "        c = random.randint(0,6)\n",
    "        r = random.randint(1,4)\n",
    "        new_sq[r,c] = 1\n",
    "        i+=1\n",
    "    return new_sq\n",
    "\n",
    "def colorHouse():\n",
    "    cs = list(range(1,11))\n",
    "    random.shuffle(cs)\n",
    "    canvas = np.zeros((6,7))\n",
    "    #rows\n",
    "    for x in range(7):\n",
    "        canvas[4:,x] = random.choice(cs[2:-1])\n",
    "    #any above\n",
    "    for x in range(7):\n",
    "        for y in [0,1]:\n",
    "            canvas[y,x] = random.choice(cs[1:])\n",
    "    canvas[np.where(square==1)] = cs[0] #color base\n",
    "    canvas[5,1] = cs[0]\n",
    "    canvas[5,5] = cs[0]\n",
    "    canvas[3,:] = cs[-1]  #top\n",
    "    for x in range(7):\n",
    "        canvas[2,x] = random.choice(cs[-3:])\n",
    "        \n",
    "    return canvas\n",
    "    \n",
    "def showMask(mask,img,debug=False):\n",
    "#     v = np.unique(img)\n",
    "    v = list(range(11))\n",
    "    norm = BoundaryNorm(v, len(v)-1)\n",
    "    \n",
    "    c = ['gray',maskmap,maskmap]\n",
    "    m = [mask,img, mask*img]\n",
    "    n = [None,norm,norm]\n",
    "    \n",
    "    plt.figure(figsize=(5,2))\n",
    "    for i in range(3):\n",
    "        plt.subplot(1,3,i+1)\n",
    "        plt.xticks([])\n",
    "        plt.yticks([])\n",
    "        #plt.imshow(np.array(m[i]).squeeze(),cmap=c[i],norm=n[i])\n",
    "        plt.imshow(np.array(m[i]).squeeze(),cmap=c[i],vmin=0,vmax=(10 if i > 0 else 1))\n",
    "    plt.show()\n",
    "    \n",
    "    if debug:\n",
    "        print(img)\n",
    "        print(mask*img)\n",
    "     \n",
    "    \n",
    "#assum 6x7 shape\n",
    "def encode(l):\n",
    "    b = np.zeros((6,7,11))\n",
    "    for i in range(42):\n",
    "        c = i%6\n",
    "        r = i//7\n",
    "        v = int(l[r,c])\n",
    "        b[r,c,v]=1\n",
    "    return b"
   ]
  },
  {
   "cell_type": "code",
   "execution_count": 7,
   "id": "3720d9ee",
   "metadata": {},
   "outputs": [
    {
     "data": {
      "image/png": "[encoded data removed]",
      "text/plain": [
       "<Figure size 360x144 with 3 Axes>"
      ]
     },
     "metadata": {},
     "output_type": "display_data"
    }
   ],
   "source": [
    "#level = np.random.randint(12, size=(6, 7))\n",
    "level = colorHouse()\n",
    "showMask(house,level)"
   ]
  },
  {
   "cell_type": "code",
   "execution_count": 8,
   "id": "10b93e13",
   "metadata": {},
   "outputs": [],
   "source": [
    "#make lots of weird houses as training data\n",
    "NUM_HOUSES = 2500\n",
    "X_dat = []\n",
    "y_dat = []\n",
    "y_dat2 = []\n",
    "for i in range(NUM_HOUSES):\n",
    "    mask_house = weirdHouse()\n",
    "    bin_house = np.expand_dims(mask_house,axis=-1)\n",
    "    full_color = colorHouse()\n",
    "    #full_color = np.random.randint(12, size=(6, 7))\n",
    "    cat_house = full_color*bin_house.squeeze()\n",
    "    cat_house2 = encode(cat_house)\n",
    "    \n",
    "    X_dat.append(bin_house)\n",
    "    y_dat.append(full_color)\n",
    "    y_dat2.append(cat_house2)\n",
    "    \n",
    "X_dat = np.array(X_dat)\n",
    "y_dat = np.array(y_dat)\n",
    "y_dat2 = np.array(y_dat2)"
   ]
  },
  {
   "cell_type": "code",
   "execution_count": 9,
   "id": "025d43a4",
   "metadata": {},
   "outputs": [
    {
     "data": {
      "image/png": "[encoded data removed]",
      "text/plain": [
       "<Figure size 360x144 with 3 Axes>"
      ]
     },
     "metadata": {},
     "output_type": "display_data"
    },
    {
     "name": "stdout",
     "output_type": "stream",
     "text": [
      "[[ 1.  2. 10. 10. 10.  4.  6.]\n",
      " [10.  3.  5.  4.  6.  3.  5.]\n",
      " [10. 10.  1.  4.  4.  4.  1.]\n",
      " [ 1.  1.  1.  1.  1.  1.  1.]\n",
      " [ 2.  9.  8.  8.  8.  5.  2.]\n",
      " [ 2.  8.  8.  8.  8.  8.  2.]]\n",
      "[[0. 0. 0. 0. 0. 0. 0.]\n",
      " [0. 0. 0. 0. 0. 0. 0.]\n",
      " [0. 0. 0. 0. 0. 0. 0.]\n",
      " [0. 0. 1. 1. 1. 0. 0.]\n",
      " [0. 0. 8. 8. 8. 0. 0.]\n",
      " [0. 0. 8. 8. 8. 0. 0.]]\n"
     ]
    },
    {
     "data": {
      "image/png": "[encoded data removed]",
      "text/plain": [
       "<Figure size 360x144 with 3 Axes>"
      ]
     },
     "metadata": {},
     "output_type": "display_data"
    },
    {
     "name": "stdout",
     "output_type": "stream",
     "text": [
      "[[ 4.  1.  3.  1.  9.  4.  7.]\n",
      " [ 3.  5.  7.  8.  5.  5.  2.]\n",
      " [10.  4. 10. 10.  2. 10.  4.]\n",
      " [10. 10. 10. 10. 10. 10. 10.]\n",
      " [ 1.  8.  6.  6.  6.  2.  1.]\n",
      " [ 1.  6.  6.  6.  6.  6.  1.]]\n",
      "[[ 0.  0.  0.  0.  0.  0.  0.]\n",
      " [ 0.  0.  0.  0.  5.  0.  0.]\n",
      " [ 0.  0. 10.  0.  0.  0.  0.]\n",
      " [ 0.  0. 10. 10. 10. 10. 10.]\n",
      " [ 0.  0.  6.  6.  6.  0.  0.]\n",
      " [ 0.  0.  6.  6.  6.  0.  0.]]\n"
     ]
    },
    {
     "data": {
      "image/png": "[encoded data removed]",
      "text/plain": [
       "<Figure size 360x144 with 3 Axes>"
      ]
     },
     "metadata": {},
     "output_type": "display_data"
    },
    {
     "name": "stdout",
     "output_type": "stream",
     "text": [
      "[[ 1.  2. 10. 10. 10.  4.  6.]\n",
      " [10.  3.  5.  4.  6.  3.  5.]\n",
      " [10. 10.  1.  4.  4.  4.  1.]\n",
      " [ 1.  1.  1.  1.  1.  1.  1.]\n",
      " [ 2.  9.  8.  8.  8.  5.  2.]\n",
      " [ 2.  8.  8.  8.  8.  8.  2.]]\n",
      "[[0. 0. 0. 0. 0. 0. 0.]\n",
      " [0. 0. 0. 0. 0. 0. 0.]\n",
      " [0. 0. 0. 0. 0. 0. 0.]\n",
      " [0. 0. 1. 1. 1. 0. 0.]\n",
      " [0. 0. 8. 8. 8. 0. 0.]\n",
      " [0. 0. 8. 8. 8. 0. 0.]]\n"
     ]
    },
    {
     "data": {
      "image/png": "[encoded data removed]",
      "text/plain": [
       "<Figure size 360x144 with 3 Axes>"
      ]
     },
     "metadata": {},
     "output_type": "display_data"
    },
    {
     "name": "stdout",
     "output_type": "stream",
     "text": [
      "[[ 1.  1.  3.  3.  9.  9. 10.]\n",
      " [ 2.  2.  3. 10.  2.  5.  2.]\n",
      " [ 7.  5.  1.  1.  7.  1.  5.]\n",
      " [ 5.  5.  5.  5.  5.  5.  5.]\n",
      " [ 3.  3.  8.  8.  8.  7. 10.]\n",
      " [ 3.  8.  8.  8.  8.  8. 10.]]\n",
      "[[ 0.  0.  0.  0.  0.  0.  0.]\n",
      " [ 0.  0.  3.  0.  0.  0.  0.]\n",
      " [ 7.  0.  0.  0.  0.  0.  5.]\n",
      " [ 0.  0.  5.  5.  5.  0.  0.]\n",
      " [ 0.  0.  8.  8.  8.  0. 10.]\n",
      " [ 0.  0.  8.  8.  8.  0.  0.]]\n"
     ]
    },
    {
     "data": {
      "image/png": "[encoded data removed]",
      "text/plain": [
       "<Figure size 360x144 with 3 Axes>"
      ]
     },
     "metadata": {},
     "output_type": "display_data"
    },
    {
     "name": "stdout",
     "output_type": "stream",
     "text": [
      "[[ 8.  3.  2.  9.  5.  2.  8.]\n",
      " [ 7.  1.  2.  5.  8.  2.  5.]\n",
      " [ 2.  3.  3.  2.  4.  2.  4.]\n",
      " [ 4.  4.  4.  4.  4.  4.  4.]\n",
      " [ 7.  9.  6.  6.  6.  8. 10.]\n",
      " [ 7.  6.  6.  6.  6.  6. 10.]]\n",
      "[[0. 0. 0. 0. 0. 0. 0.]\n",
      " [0. 0. 0. 0. 0. 0. 0.]\n",
      " [0. 0. 0. 0. 0. 0. 0.]\n",
      " [4. 0. 4. 4. 4. 0. 0.]\n",
      " [0. 0. 6. 6. 6. 0. 0.]\n",
      " [0. 0. 6. 6. 6. 0. 0.]]\n"
     ]
    }
   ],
   "source": [
    "#show a few\n",
    "for i in range(5):\n",
    "    rh = random.choice(range(NUM_HOUSES))\n",
    "    showMask(X_dat[rh].squeeze(),y_dat[rh])\n",
    "    print(y_dat[rh])\n",
    "    print(X_dat[rh].squeeze()*y_dat[rh])"
   ]
  },
  {
   "cell_type": "code",
   "execution_count": 243,
   "id": "b4dbe91f",
   "metadata": {},
   "outputs": [
    {
     "name": "stdout",
     "output_type": "stream",
     "text": [
      "Model: \"sequential_60\"\n",
      "_________________________________________________________________\n",
      " Layer (type)                Output Shape              Param #   \n",
      "=================================================================\n",
      " conv2d_177 (Conv2D)         (None, 6, 7, 32)          160       \n",
      "                                                                 \n",
      " conv2d_178 (Conv2D)         (None, 6, 7, 16)          2064      \n",
      "                                                                 \n",
      " conv2d_179 (Conv2D)         (None, 6, 7, 11)          715       \n",
      "                                                                 \n",
      " dense_61 (Dense)            (None, 6, 7, 11)          132       \n",
      "                                                                 \n",
      "=================================================================\n",
      "Total params: 3,071\n",
      "Trainable params: 3,071\n",
      "Non-trainable params: 0\n",
      "_________________________________________________________________\n"
     ]
    }
   ],
   "source": [
    "from tensorflow.keras.models import Sequential\n",
    "from tensorflow.keras.layers import Dense, Input, Conv2D\n",
    "from keras import backend as K\n",
    "\n",
    "\n",
    "#train the masking model\n",
    "maskModel = Sequential()\n",
    "maskModel.add(Input(shape=(6,7,1)))\n",
    "maskModel.add(Conv2D(32,2,activation=\"relu\", padding=\"same\"))\n",
    "maskModel.add(Conv2D(16,2,activation=\"relu\", padding=\"same\"))\n",
    "maskModel.add(Conv2D(11,2,activation=\"sigmoid\", padding=\"same\"))\n",
    "#maskModel.add(Dense(11,activation=\"sigmoid\"))\n",
    "maskModel.add(Dense(11,activation=\"softmax\"))\n",
    "\n",
    "def mask_loss(y_true,y_pred):\n",
    "    #cast values\n",
    "    zero = tf.constant(0, dtype=tf.float32)\n",
    "    y_true2 = tf.cast(y_true,tf.float32)\n",
    "    y_pred2 = tf.cast(y_pred,tf.float32)\n",
    "    \n",
    "    #apply mask\n",
    "    mask = tf.cast(tf.where(tf.not_equal(y_true2, zero),1,0),tf.float32)\n",
    "#     mask_pred = tf.math.multiply(yp2,mask)\n",
    "    mask_pred = tf.math.multiply(y_pred2,mask)\n",
    "    \n",
    "    #get non-zero values only\n",
    "#     mb = tf.cast(mask, dtype=tf.bool)\n",
    "#     yt3 = tf.boolean_mask(y_true2,mb)\n",
    "#     mp3 = tf.boolean_mask(mask_pred,mb)\n",
    "    \n",
    "    #return -(97.0 * y_true2 * K.log(mask_pred) + 3.0 * (1.0 - y_true2) * K.log(1.0 - mask_pred)) / 100.0 #wbce\n",
    "    #return tf.math.reduce_mean(tf.math.abs(y_true2 - tf.math.multiply(y_pred2,mask)) )   #mse\n",
    "    return tf.losses.mean_squared_error(y_true2,mask_pred)\n",
    "#     return tf.losses.mean_squared_error(yt3,mp3)\n",
    "maskModel.compile(optimizer='adam',loss=mask_loss)\n",
    "maskModel.summary()"
   ]
  },
  {
   "cell_type": "code",
   "execution_count": 244,
   "id": "e72c763e",
   "metadata": {},
   "outputs": [
    {
     "name": "stdout",
     "output_type": "stream",
     "text": [
      "Epoch 1/100\n",
      "157/157 [==============================] - 1s 3ms/step - loss: 0.0427\n",
      "Epoch 2/100\n",
      "157/157 [==============================] - 0s 3ms/step - loss: 0.0246\n",
      "Epoch 3/100\n",
      "157/157 [==============================] - 0s 3ms/step - loss: 0.0234\n",
      "Epoch 4/100\n",
      "157/157 [==============================] - 0s 3ms/step - loss: 0.0232\n",
      "Epoch 5/100\n",
      "157/157 [==============================] - 0s 3ms/step - loss: 0.0231\n",
      "Epoch 6/100\n",
      "157/157 [==============================] - 0s 3ms/step - loss: 0.0230\n",
      "Epoch 7/100\n",
      "157/157 [==============================] - 0s 3ms/step - loss: 0.0230\n",
      "Epoch 8/100\n",
      "157/157 [==============================] - 0s 3ms/step - loss: 0.0230\n",
      "Epoch 9/100\n",
      "157/157 [==============================] - 0s 3ms/step - loss: 0.0230\n",
      "Epoch 10/100\n",
      "157/157 [==============================] - 0s 3ms/step - loss: 0.0230\n",
      "Epoch 11/100\n",
      "157/157 [==============================] - 0s 3ms/step - loss: 0.0230\n",
      "Epoch 12/100\n",
      "157/157 [==============================] - 0s 3ms/step - loss: 0.0230\n",
      "Epoch 13/100\n",
      "157/157 [==============================] - 0s 3ms/step - loss: 0.0230\n",
      "Epoch 14/100\n",
      "157/157 [==============================] - 0s 3ms/step - loss: 0.0230\n",
      "Epoch 15/100\n",
      "157/157 [==============================] - 0s 3ms/step - loss: 0.0230\n",
      "Epoch 16/100\n",
      "157/157 [==============================] - 0s 3ms/step - loss: 0.0230\n",
      "Epoch 17/100\n",
      "157/157 [==============================] - 0s 3ms/step - loss: 0.0230\n",
      "Epoch 18/100\n",
      "157/157 [==============================] - 0s 3ms/step - loss: 0.0230\n",
      "Epoch 19/100\n",
      "157/157 [==============================] - 0s 3ms/step - loss: 0.0230\n",
      "Epoch 20/100\n",
      "157/157 [==============================] - 0s 3ms/step - loss: 0.0230\n",
      "Epoch 21/100\n",
      "157/157 [==============================] - 0s 3ms/step - loss: 0.0230\n",
      "Epoch 22/100\n",
      "157/157 [==============================] - 0s 3ms/step - loss: 0.0230\n",
      "Epoch 23/100\n",
      "157/157 [==============================] - 0s 3ms/step - loss: 0.0230\n",
      "Epoch 24/100\n",
      "157/157 [==============================] - 0s 3ms/step - loss: 0.0230\n",
      "Epoch 25/100\n",
      "157/157 [==============================] - 0s 3ms/step - loss: 0.0230\n",
      "Epoch 26/100\n",
      "157/157 [==============================] - 0s 3ms/step - loss: 0.0227\n",
      "Epoch 27/100\n",
      "157/157 [==============================] - 0s 3ms/step - loss: 0.0192\n",
      "Epoch 28/100\n",
      "157/157 [==============================] - 0s 3ms/step - loss: 0.0188\n",
      "Epoch 29/100\n",
      "157/157 [==============================] - 0s 3ms/step - loss: 0.0188\n",
      "Epoch 30/100\n",
      "157/157 [==============================] - 0s 3ms/step - loss: 0.0187\n",
      "Epoch 31/100\n",
      "157/157 [==============================] - 0s 3ms/step - loss: 0.0187\n",
      "Epoch 32/100\n",
      "157/157 [==============================] - 0s 3ms/step - loss: 0.0187\n",
      "Epoch 33/100\n",
      "157/157 [==============================] - 0s 3ms/step - loss: 0.0187\n",
      "Epoch 34/100\n",
      "157/157 [==============================] - 1s 4ms/step - loss: 0.0187\n",
      "Epoch 35/100\n",
      "157/157 [==============================] - 0s 3ms/step - loss: 0.0187\n",
      "Epoch 36/100\n",
      "157/157 [==============================] - 0s 3ms/step - loss: 0.0187\n",
      "Epoch 37/100\n",
      "157/157 [==============================] - 0s 3ms/step - loss: 0.0187\n",
      "Epoch 38/100\n",
      "157/157 [==============================] - 0s 3ms/step - loss: 0.0187\n",
      "Epoch 39/100\n",
      "157/157 [==============================] - 0s 3ms/step - loss: 0.0187\n",
      "Epoch 40/100\n",
      "157/157 [==============================] - 0s 3ms/step - loss: 0.0187\n",
      "Epoch 41/100\n",
      "157/157 [==============================] - 0s 3ms/step - loss: 0.0187\n",
      "Epoch 42/100\n",
      "157/157 [==============================] - 0s 3ms/step - loss: 0.0187\n",
      "Epoch 43/100\n",
      "157/157 [==============================] - 0s 3ms/step - loss: 0.0187\n",
      "Epoch 44/100\n",
      "157/157 [==============================] - 0s 3ms/step - loss: 0.0187\n",
      "Epoch 45/100\n",
      "157/157 [==============================] - 0s 3ms/step - loss: 0.0187\n",
      "Epoch 46/100\n",
      "157/157 [==============================] - 1s 3ms/step - loss: 0.0187\n",
      "Epoch 47/100\n",
      "157/157 [==============================] - 1s 4ms/step - loss: 0.0187\n",
      "Epoch 48/100\n",
      "157/157 [==============================] - 0s 3ms/step - loss: 0.0187\n",
      "Epoch 49/100\n",
      "157/157 [==============================] - 1s 4ms/step - loss: 0.0187\n",
      "Epoch 50/100\n",
      "157/157 [==============================] - 1s 4ms/step - loss: 0.0187\n",
      "Epoch 51/100\n",
      "157/157 [==============================] - 0s 3ms/step - loss: 0.0187\n",
      "Epoch 52/100\n",
      "157/157 [==============================] - 1s 3ms/step - loss: 0.0187\n",
      "Epoch 53/100\n",
      "157/157 [==============================] - 1s 3ms/step - loss: 0.0187\n",
      "Epoch 54/100\n",
      "157/157 [==============================] - 0s 3ms/step - loss: 0.0187\n",
      "Epoch 55/100\n",
      "157/157 [==============================] - 0s 3ms/step - loss: 0.0187\n",
      "Epoch 56/100\n",
      "157/157 [==============================] - 0s 3ms/step - loss: 0.0187\n",
      "Epoch 57/100\n",
      "157/157 [==============================] - 0s 3ms/step - loss: 0.0187\n",
      "Epoch 58/100\n",
      "157/157 [==============================] - 0s 3ms/step - loss: 0.0187\n",
      "Epoch 59/100\n",
      "157/157 [==============================] - 0s 3ms/step - loss: 0.0187\n",
      "Epoch 60/100\n",
      "157/157 [==============================] - 0s 3ms/step - loss: 0.0187\n",
      "Epoch 61/100\n",
      "157/157 [==============================] - 1s 3ms/step - loss: 0.0187\n",
      "Epoch 62/100\n",
      "157/157 [==============================] - 0s 3ms/step - loss: 0.0187\n",
      "Epoch 63/100\n",
      "157/157 [==============================] - 1s 3ms/step - loss: 0.0187\n",
      "Epoch 64/100\n",
      "157/157 [==============================] - 1s 3ms/step - loss: 0.0187\n",
      "Epoch 65/100\n",
      "157/157 [==============================] - 1s 3ms/step - loss: 0.0187\n",
      "Epoch 66/100\n",
      "157/157 [==============================] - 0s 3ms/step - loss: 0.0187\n",
      "Epoch 67/100\n",
      "157/157 [==============================] - 0s 3ms/step - loss: 0.0187\n",
      "Epoch 68/100\n",
      "157/157 [==============================] - 1s 4ms/step - loss: 0.0187\n",
      "Epoch 69/100\n",
      "157/157 [==============================] - 0s 3ms/step - loss: 0.0187\n",
      "Epoch 70/100\n",
      "157/157 [==============================] - 0s 3ms/step - loss: 0.0187\n",
      "Epoch 71/100\n",
      "157/157 [==============================] - 1s 3ms/step - loss: 0.0186\n",
      "Epoch 72/100\n",
      "157/157 [==============================] - 0s 3ms/step - loss: 0.0186\n",
      "Epoch 73/100\n",
      "157/157 [==============================] - 1s 3ms/step - loss: 0.0186\n",
      "Epoch 74/100\n",
      "157/157 [==============================] - 0s 3ms/step - loss: 0.0186\n",
      "Epoch 75/100\n",
      "157/157 [==============================] - 0s 3ms/step - loss: 0.0186\n",
      "Epoch 76/100\n",
      "157/157 [==============================] - 0s 3ms/step - loss: 0.0186\n",
      "Epoch 77/100\n",
      "157/157 [==============================] - 0s 3ms/step - loss: 0.0186\n",
      "Epoch 78/100\n",
      "157/157 [==============================] - 0s 3ms/step - loss: 0.0186\n",
      "Epoch 79/100\n",
      "157/157 [==============================] - 0s 3ms/step - loss: 0.0186\n",
      "Epoch 80/100\n",
      "157/157 [==============================] - 0s 3ms/step - loss: 0.0186\n",
      "Epoch 81/100\n",
      "157/157 [==============================] - 0s 3ms/step - loss: 0.0186\n",
      "Epoch 82/100\n",
      "157/157 [==============================] - 0s 3ms/step - loss: 0.0186\n",
      "Epoch 83/100\n",
      "157/157 [==============================] - 0s 3ms/step - loss: 0.0186\n",
      "Epoch 84/100\n",
      "157/157 [==============================] - 0s 3ms/step - loss: 0.0186\n",
      "Epoch 85/100\n",
      "157/157 [==============================] - 0s 3ms/step - loss: 0.0186\n",
      "Epoch 86/100\n",
      "157/157 [==============================] - 0s 3ms/step - loss: 0.0186\n",
      "Epoch 87/100\n",
      "157/157 [==============================] - 0s 3ms/step - loss: 0.0186\n",
      "Epoch 88/100\n",
      "157/157 [==============================] - 0s 3ms/step - loss: 0.0186\n",
      "Epoch 89/100\n",
      "157/157 [==============================] - 0s 3ms/step - loss: 0.0186\n",
      "Epoch 90/100\n",
      "157/157 [==============================] - 0s 3ms/step - loss: 0.0186\n",
      "Epoch 91/100\n",
      "157/157 [==============================] - 0s 3ms/step - loss: 0.0186\n",
      "Epoch 92/100\n",
      "157/157 [==============================] - 0s 3ms/step - loss: 0.0186\n",
      "Epoch 93/100\n",
      "157/157 [==============================] - 0s 3ms/step - loss: 0.0186\n",
      "Epoch 94/100\n",
      "157/157 [==============================] - 0s 3ms/step - loss: 0.0186\n",
      "Epoch 95/100\n",
      "157/157 [==============================] - 0s 3ms/step - loss: 0.0186\n",
      "Epoch 96/100\n",
      "157/157 [==============================] - 0s 3ms/step - loss: 0.0186\n",
      "Epoch 97/100\n",
      "157/157 [==============================] - 0s 3ms/step - loss: 0.0186\n",
      "Epoch 98/100\n",
      "157/157 [==============================] - 0s 3ms/step - loss: 0.0186\n",
      "Epoch 99/100\n"
     ]
    },
    {
     "name": "stdout",
     "output_type": "stream",
     "text": [
      "157/157 [==============================] - 0s 3ms/step - loss: 0.0186\n",
      "Epoch 100/100\n",
      "157/157 [==============================] - 0s 3ms/step - loss: 0.0186\n"
     ]
    },
    {
     "data": {
      "text/plain": [
       "<keras.callbacks.History at 0x15f7a4e50>"
      ]
     },
     "execution_count": 244,
     "metadata": {},
     "output_type": "execute_result"
    }
   ],
   "source": [
    "maskModel.fit(X_dat,y_dat2,epochs=100,batch_size=16,verbose=True)"
   ]
  },
  {
   "cell_type": "code",
   "execution_count": 245,
   "id": "29987bfa",
   "metadata": {},
   "outputs": [],
   "source": [
    "def showModelPred(model,bin_house,cat_house,debug=False):\n",
    "    #get prediction, un-onehot, and apply mask\n",
    "    pred_dat = np.argmax(model.predict(np.expand_dims(bin_house,axis=0),verbose=False).squeeze(),axis=-1)*bin_house.squeeze()\n",
    "    comp_house = np.argmax(cat_house,axis=-1)\n",
    "    \n",
    "    #normalize colors\n",
    "    #v = np.unique(np.hstack([comp_house,pred_dat]))\n",
    "    v = list(range(11))\n",
    "    norm = BoundaryNorm(v, len(v)-1)\n",
    "    \n",
    "    #setup\n",
    "    labels = [\"x\",\"y\",\"pred\"]\n",
    "    c = ['gray',maskmap,maskmap]\n",
    "    m = [bin_house,comp_house,pred_dat]\n",
    "    n = [None,norm,norm]\n",
    "    \n",
    "    \n",
    "    #show\n",
    "    plt.figure(figsize=(5,2))\n",
    "    plt.axis('off')\n",
    "    for i in range(3):\n",
    "        plt.subplot(1, 3, i+1)\n",
    "        plt.axis('off')\n",
    "        plt.imshow(np.array(m[i]).squeeze(),cmap=c[i],norm=n[i])\n",
    "        plt.title(labels[i])\n",
    "    plt.show()\n",
    "    \n",
    "    if debug:\n",
    "        print(comp_house)\n",
    "        print(pred_dat)"
   ]
  },
  {
   "cell_type": "code",
   "execution_count": 246,
   "id": "42210ae8",
   "metadata": {},
   "outputs": [
    {
     "data": {
      "image/png": "[encoded data removed]",
      "text/plain": [
       "<Figure size 360x144 with 3 Axes>"
      ]
     },
     "metadata": {
      "needs_background": "light"
     },
     "output_type": "display_data"
    },
    {
     "name": "stdout",
     "output_type": "stream",
     "text": [
      "[[0 0 0 0 0 0 0]\n",
      " [0 0 0 9 0 0 0]\n",
      " [0 0 0 0 0 0 0]\n",
      " [0 0 2 2 2 0 0]\n",
      " [0 0 7 7 7 0 0]\n",
      " [0 0 7 7 7 0 0]]\n",
      "[[ 0  0  0  0  0  0  0]\n",
      " [ 0  0  0  4  0  0  0]\n",
      " [ 0  0  0  0  0  0  0]\n",
      " [ 0  0 10  5 10  0  0]\n",
      " [ 0  0 10  9  9  0  0]\n",
      " [ 0  0  9  9 10  0  0]]\n"
     ]
    },
    {
     "data": {
      "image/png": "[encoded data removed]",
      "text/plain": [
       "<Figure size 360x144 with 3 Axes>"
      ]
     },
     "metadata": {
      "needs_background": "light"
     },
     "output_type": "display_data"
    },
    {
     "name": "stdout",
     "output_type": "stream",
     "text": [
      "[[0 0 0 0 0 0 0]\n",
      " [0 0 0 0 0 0 0]\n",
      " [0 0 0 0 0 0 0]\n",
      " [0 0 5 5 5 0 0]\n",
      " [6 9 7 7 7 0 0]\n",
      " [0 0 7 7 7 0 0]]\n",
      "[[ 0  0  0  0  0  0  0]\n",
      " [ 0  0  0  0  0  0  0]\n",
      " [ 0  0  0  0  0  0  0]\n",
      " [ 0  0 10  5 10  0  0]\n",
      " [10 10 10  9  9  0  0]\n",
      " [ 0  0  9  9 10  0  0]]\n"
     ]
    },
    {
     "data": {
      "image/png": "[encoded data removed]",
      "text/plain": [
       "<Figure size 360x144 with 3 Axes>"
      ]
     },
     "metadata": {
      "needs_background": "light"
     },
     "output_type": "display_data"
    },
    {
     "name": "stdout",
     "output_type": "stream",
     "text": [
      "[[0 0 0 0 0 0 0]\n",
      " [0 0 0 0 0 0 0]\n",
      " [0 0 0 0 0 0 0]\n",
      " [0 0 1 1 1 0 0]\n",
      " [0 0 8 8 8 0 0]\n",
      " [0 0 8 8 8 0 0]]\n",
      "[[ 0  0  0  0  0  0  0]\n",
      " [ 0  0  0  0  0  0  0]\n",
      " [ 0  0  0  0  0  0  0]\n",
      " [ 0  0 10  5 10  0  0]\n",
      " [ 0  0 10  9  9  0  0]\n",
      " [ 0  0  9  9 10  0  0]]\n"
     ]
    },
    {
     "data": {
      "image/png": "[encoded data removed]",
      "text/plain": [
       "<Figure size 360x144 with 3 Axes>"
      ]
     },
     "metadata": {
      "needs_background": "light"
     },
     "output_type": "display_data"
    },
    {
     "name": "stdout",
     "output_type": "stream",
     "text": [
      "[[0 0 0 0 0 0 0]\n",
      " [0 0 0 0 0 0 0]\n",
      " [0 0 0 0 0 0 0]\n",
      " [0 2 2 2 2 0 0]\n",
      " [0 0 4 4 4 0 0]\n",
      " [0 0 4 4 4 0 0]]\n",
      "[[ 0  0  0  0  0  0  0]\n",
      " [ 0  0  0  0  0  0  0]\n",
      " [ 0  0  0  0  0  0  0]\n",
      " [ 0 10 10  5 10  0  0]\n",
      " [ 0  0 10  9  9  0  0]\n",
      " [ 0  0  9  9 10  0  0]]\n"
     ]
    },
    {
     "data": {
      "image/png": "[encoded data removed]",
      "text/plain": [
       "<Figure size 360x144 with 3 Axes>"
      ]
     },
     "metadata": {
      "needs_background": "light"
     },
     "output_type": "display_data"
    },
    {
     "name": "stdout",
     "output_type": "stream",
     "text": [
      "[[0 0 0 0 0 0 0]\n",
      " [0 0 0 0 0 0 0]\n",
      " [0 0 0 0 0 0 0]\n",
      " [0 0 9 9 9 0 0]\n",
      " [0 0 6 6 6 0 0]\n",
      " [0 0 6 6 6 0 0]]\n",
      "[[ 0  0  0  0  0  0  0]\n",
      " [ 0  0  0  0  0  0  0]\n",
      " [ 0  0  0  0  0  0  0]\n",
      " [ 0  0 10  5 10  0  0]\n",
      " [ 0  0 10  9  9  0  0]\n",
      " [ 0  0  9  9 10  0  0]]\n"
     ]
    }
   ],
   "source": [
    "#show some predictions\n",
    "pickset = random.choices(range(len(X_dat)),k=5)\n",
    "d = [(X_dat[i],y_dat2[i]) for i in pickset]\n",
    "for di in d:\n",
    "    showModelPred(maskModel,di[0],di[1],True)"
   ]
  },
  {
   "cell_type": "code",
   "execution_count": 14,
   "id": "3c34c6d5",
   "metadata": {},
   "outputs": [
    {
     "name": "stdout",
     "output_type": "stream",
     "text": [
      "1: 0.1010\n",
      "2: 0.1002\n",
      "3: 0.0974\n",
      "4: 0.1005\n",
      "5: 0.1010\n",
      "6: 0.0995\n",
      "7: 0.1002\n",
      "8: 0.0992\n",
      "9: 0.1002\n",
      "10: 0.1008\n"
     ]
    }
   ],
   "source": [
    "#show distribution of values in the training dataset\n",
    "uq,cts = np.unique(y_dat,return_counts=True)\n",
    "tot = sum(cts)\n",
    "for u,c in zip(uq,cts):\n",
    "    print(f\"{int(u)}: {c/tot:.4f}\")\n",
    "# cts2 = [0]\n",
    "# for x in cts:\n",
    "#     cts2.append(x)\n",
    "# fig = plt.figure(figsize = (10, 5))\n",
    "# plt.bar(list(range(11)),cts2)\n",
    "# plt.show()\n"
   ]
  },
  {
   "cell_type": "code",
   "execution_count": 15,
   "id": "4d11113c",
   "metadata": {},
   "outputs": [
    {
     "name": "stdout",
     "output_type": "stream",
     "text": [
      "1/1 [==============================] - 0s 16ms/step\n",
      "tf.Tensor(\n",
      "[[[1. 0. 0. 0. 0. 0. 0. 0. 0. 0. 0.]\n",
      "  [1. 0. 0. 0. 0. 0. 0. 0. 0. 0. 0.]\n",
      "  [1. 0. 0. 0. 0. 0. 0. 0. 0. 0. 0.]\n",
      "  [1. 0. 0. 0. 0. 0. 0. 0. 0. 0. 0.]\n",
      "  [1. 0. 0. 0. 0. 0. 0. 0. 0. 0. 0.]\n",
      "  [1. 0. 0. 0. 0. 0. 0. 0. 0. 0. 0.]\n",
      "  [0. 0. 0. 0. 0. 0. 0. 0. 0. 0. 0.]]\n",
      "\n",
      " [[1. 0. 0. 0. 0. 0. 0. 0. 0. 0. 0.]\n",
      "  [1. 0. 0. 0. 0. 0. 0. 0. 0. 0. 0.]\n",
      "  [1. 0. 0. 0. 0. 0. 0. 0. 0. 0. 0.]\n",
      "  [1. 0. 0. 0. 0. 0. 0. 0. 0. 0. 0.]\n",
      "  [1. 0. 0. 0. 0. 0. 0. 0. 0. 0. 0.]\n",
      "  [1. 0. 0. 0. 0. 0. 0. 0. 0. 0. 0.]\n",
      "  [0. 0. 0. 0. 0. 0. 0. 0. 0. 0. 0.]]\n",
      "\n",
      " [[1. 0. 0. 0. 0. 0. 0. 0. 0. 0. 0.]\n",
      "  [1. 0. 0. 0. 0. 0. 0. 0. 0. 0. 0.]\n",
      "  [1. 0. 0. 0. 0. 0. 0. 0. 0. 0. 0.]\n",
      "  [1. 0. 0. 0. 0. 0. 0. 0. 0. 0. 0.]\n",
      "  [1. 0. 0. 0. 0. 0. 0. 0. 0. 0. 0.]\n",
      "  [1. 0. 0. 0. 0. 0. 0. 0. 0. 0. 0.]\n",
      "  [0. 0. 0. 0. 0. 0. 0. 0. 0. 0. 0.]]\n",
      "\n",
      " [[1. 0. 0. 0. 0. 0. 0. 0. 0. 0. 0.]\n",
      "  [1. 0. 0. 0. 0. 0. 0. 0. 0. 0. 0.]\n",
      "  [0. 0. 1. 0. 0. 0. 0. 0. 0. 0. 0.]\n",
      "  [0. 0. 1. 0. 0. 0. 0. 0. 0. 0. 0.]\n",
      "  [0. 0. 1. 0. 0. 0. 0. 0. 0. 0. 0.]\n",
      "  [1. 0. 0. 0. 0. 0. 0. 0. 0. 0. 0.]\n",
      "  [0. 0. 0. 0. 0. 0. 0. 0. 0. 0. 0.]]\n",
      "\n",
      " [[1. 0. 0. 0. 0. 0. 0. 0. 0. 0. 0.]\n",
      "  [1. 0. 0. 0. 0. 0. 0. 0. 0. 0. 0.]\n",
      "  [0. 1. 0. 0. 0. 0. 0. 0. 0. 0. 0.]\n",
      "  [0. 1. 0. 0. 0. 0. 0. 0. 0. 0. 0.]\n",
      "  [0. 1. 0. 0. 0. 0. 0. 0. 0. 0. 0.]\n",
      "  [1. 0. 0. 0. 0. 0. 0. 0. 0. 0. 0.]\n",
      "  [0. 0. 0. 0. 0. 0. 0. 0. 0. 0. 0.]]\n",
      "\n",
      " [[1. 0. 0. 0. 0. 0. 0. 0. 0. 0. 0.]\n",
      "  [1. 0. 0. 0. 0. 0. 0. 0. 0. 0. 0.]\n",
      "  [0. 1. 0. 0. 0. 0. 0. 0. 0. 0. 0.]\n",
      "  [0. 1. 0. 0. 0. 0. 0. 0. 0. 0. 0.]\n",
      "  [0. 1. 0. 0. 0. 0. 0. 0. 0. 0. 0.]\n",
      "  [1. 0. 0. 0. 0. 0. 0. 0. 0. 0. 0.]\n",
      "  [0. 0. 0. 0. 0. 0. 0. 0. 0. 0. 0.]]], shape=(6, 7, 11), dtype=float32)\n"
     ]
    },
    {
     "data": {
      "text/plain": [
       "nan"
      ]
     },
     "execution_count": 15,
     "metadata": {},
     "output_type": "execute_result"
    }
   ],
   "source": [
    "#simulate the loss\n",
    "yi = y_dat2[2]\n",
    "mi = maskModel.predict(np.expand_dims(X_dat[0],axis=0)).squeeze()\n",
    "\n",
    "\n",
    "zero = tf.constant(0, dtype=tf.float32)\n",
    "y_true2 = tf.cast(yi,tf.float32)\n",
    "y_pred2 = tf.cast(mi,tf.float32)\n",
    "mask = tf.cast(tf.where(tf.not_equal(y_true2, zero),1,0),tf.float32)\n",
    "mask_pred = tf.math.multiply(y_pred2,mask)\n",
    "\n",
    "print(mask)\n",
    "\n",
    "ytr = tf.reshape(y_true2,(42,11))\n",
    "mpr = tf.reshape(mask_pred,(42,11))\n",
    "\n",
    "#print(ytr)\n",
    "#print(mpr)\n",
    "\n",
    "#print(ytr.shape,mpr.shape)\n",
    "#print(K.log(mask_pred))  #can't work because log of 0 is inf\n",
    "cce = tf.keras.losses.CategoricalCrossentropy()\n",
    "cce(ytr,mpr).numpy()\n",
    "\n",
    "#-(97.0 * y_true2 * K.log(mask_pred) + 3.0 * (1.0 - y_true2) * K.log(1.0 - mask_pred)) / 100.0 #wbce"
   ]
  },
  {
   "cell_type": "code",
   "execution_count": 16,
   "id": "422fc24c",
   "metadata": {},
   "outputs": [
    {
     "name": "stdout",
     "output_type": "stream",
     "text": [
      "[[1. 1. 1. 1. 1. 1. 0.]\n",
      " [1. 1. 1. 0. 1. 1. 0.]\n",
      " [1. 1. 1. 1. 0. 1. 0.]\n",
      " [1. 1. 0. 0. 0. 1. 0.]\n",
      " [1. 1. 0. 0. 0. 1. 0.]\n",
      " [1. 1. 0. 0. 0. 1. 0.]]\n",
      "[[0. 0. 0. 0. 0. 0. 0.]\n",
      " [0. 0. 0. 0. 0. 0. 0.]\n",
      " [0. 0. 0. 0. 0. 0. 0.]\n",
      " [0. 0. 0. 0. 0. 0. 0.]\n",
      " [0. 0. 1. 1. 1. 0. 0.]\n",
      " [0. 0. 1. 1. 1. 0. 0.]]\n",
      "[[0. 0. 0. 0. 0. 0. 0.]\n",
      " [0. 0. 0. 0. 0. 0. 0.]\n",
      " [0. 0. 0. 0. 0. 0. 0.]\n",
      " [0. 0. 0. 0. 0. 0. 0.]\n",
      " [0. 0. 0. 0. 0. 0. 0.]\n",
      " [0. 0. 0. 0. 0. 0. 0.]]\n",
      "[[0. 0. 0. 0. 0. 0. 0.]\n",
      " [0. 0. 0. 0. 0. 0. 0.]\n",
      " [0. 0. 0. 0. 0. 0. 0.]\n",
      " [0. 0. 0. 0. 0. 0. 0.]\n",
      " [0. 0. 0. 0. 0. 0. 0.]\n",
      " [0. 0. 0. 0. 0. 0. 0.]]\n",
      "[[0. 0. 0. 0. 0. 0. 0.]\n",
      " [0. 0. 0. 0. 0. 0. 0.]\n",
      " [0. 0. 0. 0. 1. 0. 0.]\n",
      " [0. 0. 1. 1. 1. 0. 0.]\n",
      " [0. 0. 0. 0. 0. 0. 0.]\n",
      " [0. 0. 0. 0. 0. 0. 0.]]\n",
      "[[0. 0. 0. 0. 0. 0. 0.]\n",
      " [0. 0. 0. 0. 0. 0. 0.]\n",
      " [0. 0. 0. 0. 0. 0. 0.]\n",
      " [0. 0. 0. 0. 0. 0. 0.]\n",
      " [0. 0. 0. 0. 0. 0. 0.]\n",
      " [0. 0. 0. 0. 0. 0. 0.]]\n",
      "[[0. 0. 0. 0. 0. 0. 0.]\n",
      " [0. 0. 0. 0. 0. 0. 0.]\n",
      " [0. 0. 0. 0. 0. 0. 0.]\n",
      " [0. 0. 0. 0. 0. 0. 0.]\n",
      " [0. 0. 0. 0. 0. 0. 0.]\n",
      " [0. 0. 0. 0. 0. 0. 0.]]\n",
      "[[0. 0. 0. 0. 0. 0. 0.]\n",
      " [0. 0. 0. 0. 0. 0. 0.]\n",
      " [0. 0. 0. 0. 0. 0. 0.]\n",
      " [0. 0. 0. 0. 0. 0. 0.]\n",
      " [0. 0. 0. 0. 0. 0. 0.]\n",
      " [0. 0. 0. 0. 0. 0. 0.]]\n",
      "[[0. 0. 0. 0. 0. 0. 0.]\n",
      " [0. 0. 0. 0. 0. 0. 0.]\n",
      " [0. 0. 0. 0. 0. 0. 0.]\n",
      " [0. 0. 0. 0. 0. 0. 0.]\n",
      " [0. 0. 0. 0. 0. 0. 0.]\n",
      " [0. 0. 0. 0. 0. 0. 0.]]\n",
      "[[0. 0. 0. 0. 0. 0. 0.]\n",
      " [0. 0. 0. 1. 0. 0. 0.]\n",
      " [0. 0. 0. 0. 0. 0. 0.]\n",
      " [0. 0. 0. 0. 0. 0. 0.]\n",
      " [0. 0. 0. 0. 0. 0. 0.]\n",
      " [0. 0. 0. 0. 0. 0. 0.]]\n",
      "[[0. 0. 0. 0. 0. 0. 0.]\n",
      " [0. 0. 0. 0. 0. 0. 0.]\n",
      " [0. 0. 0. 0. 0. 0. 0.]\n",
      " [0. 0. 0. 0. 0. 0. 0.]\n",
      " [0. 0. 0. 0. 0. 0. 0.]\n",
      " [0. 0. 0. 0. 0. 0. 0.]]\n",
      "[[1. 0. 0. 0. 0. 0. 0. 0. 0. 0. 0.]\n",
      " [1. 0. 0. 0. 0. 0. 0. 0. 0. 0. 0.]\n",
      " [1. 0. 0. 0. 0. 0. 0. 0. 0. 0. 0.]\n",
      " [1. 0. 0. 0. 0. 0. 0. 0. 0. 0. 0.]\n",
      " [1. 0. 0. 0. 0. 0. 0. 0. 0. 0. 0.]\n",
      " [1. 0. 0. 0. 0. 0. 0. 0. 0. 0. 0.]\n",
      " [0. 0. 0. 0. 0. 0. 0. 0. 0. 0. 0.]\n",
      " [1. 0. 0. 0. 0. 0. 0. 0. 0. 0. 0.]\n",
      " [1. 0. 0. 0. 0. 0. 0. 0. 0. 0. 0.]\n",
      " [1. 0. 0. 0. 0. 0. 0. 0. 0. 0. 0.]\n",
      " [0. 0. 0. 0. 0. 0. 0. 0. 0. 1. 0.]\n",
      " [1. 0. 0. 0. 0. 0. 0. 0. 0. 0. 0.]\n",
      " [1. 0. 0. 0. 0. 0. 0. 0. 0. 0. 0.]\n",
      " [0. 0. 0. 0. 0. 0. 0. 0. 0. 0. 0.]\n",
      " [1. 0. 0. 0. 0. 0. 0. 0. 0. 0. 0.]\n",
      " [1. 0. 0. 0. 0. 0. 0. 0. 0. 0. 0.]\n",
      " [1. 0. 0. 0. 0. 0. 0. 0. 0. 0. 0.]\n",
      " [1. 0. 0. 0. 0. 0. 0. 0. 0. 0. 0.]\n",
      " [0. 0. 0. 0. 1. 0. 0. 0. 0. 0. 0.]\n",
      " [1. 0. 0. 0. 0. 0. 0. 0. 0. 0. 0.]\n",
      " [0. 0. 0. 0. 0. 0. 0. 0. 0. 0. 0.]\n",
      " [1. 0. 0. 0. 0. 0. 0. 0. 0. 0. 0.]\n",
      " [1. 0. 0. 0. 0. 0. 0. 0. 0. 0. 0.]\n",
      " [0. 0. 0. 0. 1. 0. 0. 0. 0. 0. 0.]\n",
      " [0. 0. 0. 0. 1. 0. 0. 0. 0. 0. 0.]\n",
      " [0. 0. 0. 0. 1. 0. 0. 0. 0. 0. 0.]\n",
      " [1. 0. 0. 0. 0. 0. 0. 0. 0. 0. 0.]\n",
      " [0. 0. 0. 0. 0. 0. 0. 0. 0. 0. 0.]\n",
      " [1. 0. 0. 0. 0. 0. 0. 0. 0. 0. 0.]\n",
      " [1. 0. 0. 0. 0. 0. 0. 0. 0. 0. 0.]\n",
      " [0. 1. 0. 0. 0. 0. 0. 0. 0. 0. 0.]\n",
      " [0. 1. 0. 0. 0. 0. 0. 0. 0. 0. 0.]\n",
      " [0. 1. 0. 0. 0. 0. 0. 0. 0. 0. 0.]\n",
      " [1. 0. 0. 0. 0. 0. 0. 0. 0. 0. 0.]\n",
      " [0. 0. 0. 0. 0. 0. 0. 0. 0. 0. 0.]\n",
      " [1. 0. 0. 0. 0. 0. 0. 0. 0. 0. 0.]\n",
      " [1. 0. 0. 0. 0. 0. 0. 0. 0. 0. 0.]\n",
      " [0. 1. 0. 0. 0. 0. 0. 0. 0. 0. 0.]\n",
      " [0. 1. 0. 0. 0. 0. 0. 0. 0. 0. 0.]\n",
      " [0. 1. 0. 0. 0. 0. 0. 0. 0. 0. 0.]\n",
      " [1. 0. 0. 0. 0. 0. 0. 0. 0. 0. 0.]\n",
      " [0. 0. 0. 0. 0. 0. 0. 0. 0. 0. 0.]]\n"
     ]
    }
   ],
   "source": [
    "#print(tf.reshape(tf.transpose(y_true2,perm=[0,2,1]),(42,11)))\n",
    "for i in range(11):\n",
    "    print(y_dat2[0][:,:,i])\n",
    "    \n",
    "print(np.reshape(y_dat2[0],(42,11)))\n",
    "#print(np.argmax(yi,axis=-1))\n",
    "#plt.imshow(np.argmax(yi,axis=-1),cmap=maskmap)"
   ]
  },
  {
   "cell_type": "code",
   "execution_count": 17,
   "id": "19d02770",
   "metadata": {},
   "outputs": [
    {
     "name": "stdout",
     "output_type": "stream",
     "text": [
      "(2, 2, 3)\n",
      "(4, 3)\n",
      "[[0 1 0]\n",
      " [0 0 0]\n",
      " [1 0 1]\n",
      " [1 0 0]]\n",
      "[[0.05 0.95 0.  ]\n",
      " [0.7  0.   1.  ]\n",
      " [0.9  0.8  0.1 ]\n",
      " [0.1  0.5  0.4 ]]\n"
     ]
    },
    {
     "data": {
      "text/plain": [
       "1.4843494"
      ]
     },
     "execution_count": 17,
     "metadata": {},
     "output_type": "execute_result"
    }
   ],
   "source": [
    "cce = tf.keras.losses.CategoricalCrossentropy()\n",
    "\n",
    "a = [[[0, 1,0], [0,0,0]], [[1, 0,1], [1,0,0]]]\n",
    "b = [[[0.05, 0.95,0], [0.7,0,1]], [[0.9, 0.8,0.1], [0.1,0.5,0.4]]]\n",
    "a2 = tf.reshape(a,(4,3))\n",
    "b2 = tf.reshape(b,(4,3))  #(batches, classes)\n",
    "\n",
    "print(np.array(a).shape)\n",
    "print(a2.shape)\n",
    "print(a2.numpy())\n",
    "print(b2.numpy())\n",
    "cce(a2,b2).numpy()"
   ]
  },
  {
   "cell_type": "code",
   "execution_count": 18,
   "id": "47c367ab",
   "metadata": {},
   "outputs": [
    {
     "name": "stdout",
     "output_type": "stream",
     "text": [
      "tf.Tensor(\n",
      "[[0 0 0 0 0 0 0]\n",
      " [0 0 0 0 0 0 0]\n",
      " [0 0 0 0 0 0 0]\n",
      " [0 0 2 2 2 0 0]\n",
      " [0 0 1 1 1 0 0]\n",
      " [0 0 1 1 1 0 0]], shape=(6, 7), dtype=int64)\n"
     ]
    },
    {
     "data": {
      "text/plain": [
       "<matplotlib.image.AxesImage at 0x160ed2850>"
      ]
     },
     "execution_count": 18,
     "metadata": {},
     "output_type": "execute_result"
    },
    {
     "data": {
      "image/png": "[encoded data removed]",
      "text/plain": [
       "<Figure size 432x288 with 1 Axes>"
      ]
     },
     "metadata": {
      "needs_background": "light"
     },
     "output_type": "display_data"
    }
   ],
   "source": [
    "#un-hot encode\n",
    "print(tf.math.argmax(yi,axis=-1))\n",
    "plt.imshow(np.argmax(yi,axis=-1))"
   ]
  },
  {
   "cell_type": "markdown",
   "id": "3d806cfa",
   "metadata": {},
   "source": [
    "### Test loss function"
   ]
  },
  {
   "cell_type": "code",
   "execution_count": 237,
   "id": "05b77a3a",
   "metadata": {},
   "outputs": [],
   "source": [
    "#train the masking model\n",
    "mm = Sequential()\n",
    "mm.add(Input(shape=(6,7,1)))\n",
    "mm.add(Conv2D(32,2,activation=\"relu\", padding=\"same\"))\n",
    "mm.add(Conv2D(16,2,activation=\"relu\", padding=\"same\"))\n",
    "mm.add(Conv2D(11,2,activation=\"relu\", padding=\"same\"))\n",
    "#mm.add(Dense(11,activation=\"sigmoid\"))\n",
    "mm.add(Dense(11,activation=\"softmax\"))"
   ]
  },
  {
   "cell_type": "code",
   "execution_count": null,
   "id": "bf49c602",
   "metadata": {},
   "outputs": [],
   "source": [
    "def mask_lossT(y_true,y_pred):\n",
    "    #cast values\n",
    "    zero = tf.constant(0, dtype=tf.float32)\n",
    "    y_true2 = tf.cast(y_true,tf.float32)\n",
    "    y_pred2 = tf.cast(y_pred,tf.float32)\n",
    "    \n",
    "    #use argmax\n",
    "#     yp2 = tf.one_hot(tf.cast(tf.math.argmax(y_pred2, axis=2),dtype=tf.int32),11, dtype=tf.float32)\n",
    "#     yp2 = tf.cast(tf.math.argmax(y_pred2, axis=-1),dtype=tf.float32)\n",
    "#     print(yp2.shape)\n",
    "#     print(type(yp2))\n",
    "#     print(yp2)\n",
    "\n",
    "    \n",
    "    #apply mask\n",
    "    #mask = tf.cast(tf.where(tf.not_equal(y_true2, zero),1,0),tf.float32)\n",
    "#     mask_pred = tf.math.multiply(y_pred2,mask)\n",
    "    #mask_pred = tf.math.multiply(yp2,mask)\n",
    "    \n",
    "    #get non-zero values only\n",
    "#     mb = tf.cast(mask, dtype=tf.bool)\n",
    "#     yt3 = tf.boolean_mask(yp2,mb)\n",
    "#     mp3 = tf.boolean_mask(mask_pred,mb)\n",
    "    \n",
    "    #return -(97.0 * y_true2 * K.log(mask_pred) + 3.0 * (1.0 - y_true2) * K.log(1.0 - mask_pred)) / 100.0 #wbce\n",
    "    #return tf.math.reduce_mean(tf.math.abs(y_true2 - tf.math.multiply(y_pred2,mask)) )   #mse\n",
    "    #return tf.losses.mean_squared_error(y_true2,mask_pred)\n",
    "    #return tf.losses.mean_squared_error(yt3,mp3)\n",
    "    #return tf.losses.mean_squared_error(y_true2,mask_pred)\n",
    "    \n",
    "#     print(y_true2.shape,yp2.shape)\n",
    "#     print(type(y_true2),type(yp2))\n",
    "#     return tf.losses.mean_squared_error(y_true2,yp2)\n",
    "\n",
    "    return tf.losses.mean_squared_error(y_true2,y_pred2)"
   ]
  },
  {
   "cell_type": "code",
   "execution_count": 264,
   "id": "01f48b21",
   "metadata": {},
   "outputs": [],
   "source": [
    "def moss(y_true,y_pred):\n",
    "    #cast values\n",
    "    zero = tf.constant(0, dtype=tf.float32)\n",
    "    y_true2 = tf.cast(y_true,tf.float32)\n",
    "    y_pred2 = tf.cast(y_pred,tf.float32)\n",
    "\n",
    "    return tf.losses.mean_squared_error(y_true2,y_pred2)"
   ]
  },
  {
   "cell_type": "code",
   "execution_count": 265,
   "id": "61b36549",
   "metadata": {},
   "outputs": [
    {
     "name": "stdout",
     "output_type": "stream",
     "text": [
      "1/1 [==============================] - 0s 19ms/step\n"
     ]
    }
   ],
   "source": [
    "#test output\n",
    "i = random.randint(0,len(X_dat))\n",
    "mod_pred = mm.predict(np.expand_dims(X_dat[i],axis=0))\n",
    "y_act = np.expand_dims(y_dat2[i],axis=0)\n",
    "#print(mod_pred.shape,y_act.shape)"
   ]
  },
  {
   "cell_type": "code",
   "execution_count": 266,
   "id": "a07ec8a8",
   "metadata": {},
   "outputs": [
    {
     "name": "stdout",
     "output_type": "stream",
     "text": [
      "tf.Tensor(\n",
      "[1. 1. 1. 1. 1. 1. 1. 1. 1. 1. 1. 1. 1. 1. 1. 1. 1. 1. 1. 1. 1. 1. 1. 1.\n",
      " 1. 1. 1. 1. 1. 1. 1. 1. 1. 1. 1. 1.], shape=(36,), dtype=float32)\n",
      "tf.Tensor(\n",
      "[0.99996436 0.99998546 0.9999956  0.9999958  0.9999852  0.99999404\n",
      " 0.9999988  0.9999976  0.15685883 0.99999213 0.9999913  0.99999404\n",
      " 0.9999397  0.9990858  0.9997657  0.1097232  0.9999646  0.99999404\n",
      " 0.9998709  0.09779526 0.12009268 0.11707448 0.13721974 0.99999404\n",
      " 0.06487042 0.9986759  0.11498547 0.10039759 0.09737366 0.9999809\n",
      " 0.9999174  0.9999001  0.10504499 0.11120638 0.11752196 0.9991566 ], shape=(36,), dtype=float32)\n"
     ]
    },
    {
     "data": {
      "text/plain": [
       "<tf.Tensor: shape=(1, 6, 7), dtype=float32, numpy=\n",
       "array([[[1.4139900e-10, 2.3551543e-11, 2.2792211e-12, 2.0153089e-12,\n",
       "         2.5172159e-11, 4.0372137e-12, 9.6420236e-03],\n",
       "        [1.9941062e-13, 7.6711489e-13, 7.6491341e-02, 7.2044636e-12,\n",
       "         8.7462260e-12, 4.0372137e-12, 9.6420236e-03],\n",
       "        [4.1367690e-10, 9.2770101e-08, 6.1398042e-09, 8.3579905e-02,\n",
       "         1.3893380e-10, 4.0372137e-12, 9.6420236e-03],\n",
       "        [2.0252489e-09, 8.2778193e-02, 7.9066567e-02, 7.9720668e-02,\n",
       "         7.5881913e-02, 4.0372137e-12, 9.6420236e-03],\n",
       "        [9.0279475e-02, 1.9273362e-07, 7.9958230e-02, 8.2429118e-02,\n",
       "         8.2897574e-02, 4.1166816e-11, 9.0732239e-03],\n",
       "        [7.6272588e-10, 1.1440144e-09, 8.1572182e-02, 8.0505878e-02,\n",
       "         7.9072364e-02, 7.5592943e-08, 8.3572427e-03]]], dtype=float32)>"
      ]
     },
     "execution_count": 266,
     "metadata": {},
     "output_type": "execute_result"
    }
   ],
   "source": [
    "moss(y_act,mod_pred)"
   ]
  },
  {
   "cell_type": "code",
   "execution_count": 267,
   "id": "74656584",
   "metadata": {},
   "outputs": [
    {
     "name": "stdout",
     "output_type": "stream",
     "text": [
      "Epoch 1/20\n",
      "Tensor(\"moss/boolean_mask/GatherV2:0\", shape=(None,), dtype=float32)\n",
      "Tensor(\"moss/boolean_mask_1/GatherV2:0\", shape=(None,), dtype=float32)\n",
      "Tensor(\"moss/boolean_mask/GatherV2:0\", shape=(None,), dtype=float32)\n",
      "Tensor(\"moss/boolean_mask_1/GatherV2:0\", shape=(None,), dtype=float32)\n",
      "79/79 [==============================] - 1s 3ms/step - loss: 0.0220\n",
      "Epoch 2/20\n",
      "79/79 [==============================] - 0s 3ms/step - loss: 0.0220\n",
      "Epoch 3/20\n",
      "79/79 [==============================] - 0s 3ms/step - loss: 0.0220\n",
      "Epoch 4/20\n",
      "79/79 [==============================] - 0s 3ms/step - loss: 0.0220\n",
      "Epoch 5/20\n",
      "79/79 [==============================] - 0s 3ms/step - loss: 0.0220\n",
      "Epoch 6/20\n",
      "79/79 [==============================] - 0s 3ms/step - loss: 0.0220\n",
      "Epoch 7/20\n",
      "79/79 [==============================] - 0s 3ms/step - loss: 0.0220\n",
      "Epoch 8/20\n",
      "79/79 [==============================] - 0s 3ms/step - loss: 0.0220\n",
      "Epoch 9/20\n",
      "79/79 [==============================] - 0s 3ms/step - loss: 0.0220\n",
      "Epoch 10/20\n",
      "79/79 [==============================] - 0s 3ms/step - loss: 0.0219\n",
      "Epoch 11/20\n",
      "79/79 [==============================] - 0s 3ms/step - loss: 0.0219\n",
      "Epoch 12/20\n",
      "79/79 [==============================] - 0s 3ms/step - loss: 0.0219\n",
      "Epoch 13/20\n",
      "79/79 [==============================] - 0s 3ms/step - loss: 0.0219\n",
      "Epoch 14/20\n",
      "79/79 [==============================] - 0s 3ms/step - loss: 0.0219\n",
      "Epoch 15/20\n",
      "79/79 [==============================] - 0s 3ms/step - loss: 0.0219\n",
      "Epoch 16/20\n",
      "79/79 [==============================] - 0s 3ms/step - loss: 0.0219\n",
      "Epoch 17/20\n",
      "79/79 [==============================] - 0s 3ms/step - loss: 0.0219\n",
      "Epoch 18/20\n",
      "79/79 [==============================] - 0s 4ms/step - loss: 0.0219\n",
      "Epoch 19/20\n",
      "79/79 [==============================] - 0s 4ms/step - loss: 0.0219\n",
      "Epoch 20/20\n",
      "79/79 [==============================] - 0s 3ms/step - loss: 0.0219\n"
     ]
    },
    {
     "data": {
      "text/plain": [
       "<keras.callbacks.History at 0x163f52400>"
      ]
     },
     "execution_count": 267,
     "metadata": {},
     "output_type": "execute_result"
    }
   ],
   "source": [
    "mm.compile(optimizer='adam',loss=moss)\n",
    "mm.fit(X_dat,y_dat2,epochs=20)"
   ]
  },
  {
   "cell_type": "code",
   "execution_count": 268,
   "id": "fa77d255",
   "metadata": {},
   "outputs": [
    {
     "data": {
      "image/png": "[encoded data removed]",
      "text/plain": [
       "<Figure size 360x144 with 3 Axes>"
      ]
     },
     "metadata": {
      "needs_background": "light"
     },
     "output_type": "display_data"
    },
    {
     "name": "stdout",
     "output_type": "stream",
     "text": [
      "[[0 0 0 0 0 0 0]\n",
      " [0 0 0 0 0 0 0]\n",
      " [0 0 0 0 0 0 0]\n",
      " [0 0 4 4 4 0 0]\n",
      " [0 0 5 5 5 0 0]\n",
      " [0 0 5 5 5 0 0]]\n",
      "[[ 0  0  0  0  0  0  0]\n",
      " [ 0  0  0  0  0  0  0]\n",
      " [ 0  0  0  0  0  0  0]\n",
      " [ 0  0  8  5  8  0  0]\n",
      " [ 0  0  9 10  9  0  0]\n",
      " [ 0  0  9  9  9  0  0]]\n"
     ]
    },
    {
     "data": {
      "image/png": "[encoded data removed]",
      "text/plain": [
       "<Figure size 360x144 with 3 Axes>"
      ]
     },
     "metadata": {
      "needs_background": "light"
     },
     "output_type": "display_data"
    },
    {
     "name": "stdout",
     "output_type": "stream",
     "text": [
      "[[0 0 0 0 0 0 0]\n",
      " [0 0 0 0 0 0 0]\n",
      " [0 0 0 9 0 0 0]\n",
      " [0 0 9 9 9 0 0]\n",
      " [0 0 8 8 8 0 0]\n",
      " [0 0 8 8 8 0 0]]\n",
      "[[ 0  0  0  0  0  0  0]\n",
      " [ 0  0  0  0  0  0  0]\n",
      " [ 0  0  0  6  0  0  0]\n",
      " [ 0  0  8  5  8  0  0]\n",
      " [ 0  0  9 10  9  0  0]\n",
      " [ 0  0  9  9  9  0  0]]\n"
     ]
    },
    {
     "data": {
      "image/png": "[encoded data removed]",
      "text/plain": [
       "<Figure size 360x144 with 3 Axes>"
      ]
     },
     "metadata": {
      "needs_background": "light"
     },
     "output_type": "display_data"
    },
    {
     "name": "stdout",
     "output_type": "stream",
     "text": [
      "[[0 0 0 0 0 0 0]\n",
      " [0 0 0 0 0 0 0]\n",
      " [0 0 0 0 0 0 0]\n",
      " [0 0 4 4 4 4 0]\n",
      " [0 0 3 3 3 0 0]\n",
      " [0 0 3 3 3 0 0]]\n",
      "[[ 0  0  0  0  0  0  0]\n",
      " [ 0  0  0  0  0  0  8]\n",
      " [ 0  0  0  0  0  0  0]\n",
      " [ 0  0  8  6  9  4  0]\n",
      " [ 0  0  9 10  9  0  0]\n",
      " [ 0  0  9  9  9  0  0]]\n"
     ]
    },
    {
     "data": {
      "image/png": "[encoded data removed]",
      "text/plain": [
       "<Figure size 360x144 with 3 Axes>"
      ]
     },
     "metadata": {
      "needs_background": "light"
     },
     "output_type": "display_data"
    },
    {
     "name": "stdout",
     "output_type": "stream",
     "text": [
      "[[0 0 0 0 0 0 0]\n",
      " [0 0 0 0 0 0 0]\n",
      " [0 0 0 0 0 0 0]\n",
      " [0 0 5 5 5 0 0]\n",
      " [0 0 9 9 9 0 0]\n",
      " [0 0 9 9 9 0 0]]\n",
      "[[ 0  0  0  0  0  0  0]\n",
      " [ 0  0  0  0  0  0  0]\n",
      " [ 0  0  0  0  0  0  0]\n",
      " [ 0  0  8  5  8  0  0]\n",
      " [ 0  0  9 10  9  0  0]\n",
      " [ 0  0  9  9  9  0  0]]\n"
     ]
    },
    {
     "data": {
      "image/png": "[encoded data removed]",
      "text/plain": [
       "<Figure size 360x144 with 3 Axes>"
      ]
     },
     "metadata": {
      "needs_background": "light"
     },
     "output_type": "display_data"
    },
    {
     "name": "stdout",
     "output_type": "stream",
     "text": [
      "[[0 0 0 0 0 0 0]\n",
      " [0 0 0 0 0 0 0]\n",
      " [0 0 0 0 0 0 0]\n",
      " [0 0 4 4 4 0 0]\n",
      " [0 0 8 8 8 0 0]\n",
      " [0 0 8 8 8 0 0]]\n",
      "[[ 0  0  0  0  0  0  0]\n",
      " [ 0  0  0  0  0  0  0]\n",
      " [ 0  0  0  0  0  0  0]\n",
      " [ 0  0  8  5  8  0  0]\n",
      " [ 0  0  9 10  9  0  0]\n",
      " [ 0  0  9  9  9  0  0]]\n"
     ]
    }
   ],
   "source": [
    "#show some predictions\n",
    "pickset = random.choices(range(len(X_dat)),k=5)\n",
    "d = [(X_dat[i],y_dat2[i]) for i in pickset]\n",
    "for di in d:\n",
    "    showModelPred(mm,di[0],di[1],True)"
   ]
  },
  {
   "cell_type": "code",
   "execution_count": null,
   "id": "880a0722",
   "metadata": {},
   "outputs": [],
   "source": []
  }
 ],
 "metadata": {
  "kernelspec": {
   "display_name": "MCIntEvo",
   "language": "python",
   "name": "mcintevo"
  },
  "language_info": {
   "codemirror_mode": {
    "name": "ipython",
    "version": 3
   },
   "file_extension": ".py",
   "mimetype": "text/x-python",
   "name": "python",
   "nbconvert_exporter": "python",
   "pygments_lexer": "ipython3",
   "version": "3.9.12"
  }
 },
 "nbformat": 4,
 "nbformat_minor": 5
}
